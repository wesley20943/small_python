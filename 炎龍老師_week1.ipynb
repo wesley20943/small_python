{
 "cells": [
  {
   "cell_type": "code",
   "execution_count": 6,
   "metadata": {},
   "outputs": [],
   "source": [
    "## Reference\n",
    "##https://www.jamleecute.com/%E7%B6%B2%E8%B7%AF%E7%88%AC%E8%9F%B2-web-crawler-text-mining-python/"
   ]
  },
  {
   "cell_type": "code",
   "execution_count": 379,
   "metadata": {},
   "outputs": [],
   "source": [
    "import requests\n",
    "from bs4 import BeautifulSoup\n",
    "import pandas as pd"
   ]
  },
  {
   "cell_type": "code",
   "execution_count": 380,
   "metadata": {},
   "outputs": [],
   "source": [
    "url = \"https://www.google.com/search?q=%E6%AD%A6%E6%BC%A2%E8%82%BA%E7%82%8E&oq=%E6%AD%A6%E6%BC%A2%E8%82%BA%E7%82%8E&aqs=chrome..69i57j0l7.5140j0j4&sourceid=chrome&ie=UTF-8\"\n",
    "re = requests.get(url)"
   ]
  },
  {
   "cell_type": "code",
   "execution_count": 381,
   "metadata": {},
   "outputs": [],
   "source": [
    "content = re.text"
   ]
  },
  {
   "cell_type": "code",
   "execution_count": null,
   "metadata": {},
   "outputs": [],
   "source": []
  },
  {
   "cell_type": "code",
   "execution_count": 383,
   "metadata": {},
   "outputs": [],
   "source": [
    "soup = BeautifulSoup(content, \"html.parser\")"
   ]
  },
  {
   "cell_type": "code",
   "execution_count": 384,
   "metadata": {},
   "outputs": [
    {
     "data": {
      "text/plain": [
       "<!DOCTYPE html>\n",
       "<html lang=\"zh-TW\"><head><meta charset=\"utf-8\"/><meta content=\"/images/branding/googleg/1x/googleg_standard_color_128dp.png\" itemprop=\"image\"/><title>武漢肺炎 - Google 搜尋</title><script nonce=\"89cUKwZoZgGY0uegXW+9mQ==\">(function(){\n",
       "document.documentElement.addEventListener(\"submit\",function(b){var a;if(a=b.target){var c=a.getAttribute(\"data-submitfalse\");a=\"1\"==c||\"q\"==c&&!a.elements.q.value?!0:!1}else a=!1;a&&(b.preventDefault(),b.stopPropagation())},!0);document.documentElement.addEventListener(\"click\",function(b){var a;a:{for(a=b.target;a&&a!=document.documentElement;a=a.parentElement)if(\"A\"==a.tagName){a=\"1\"==a.getAttribute(\"data-nohref\");break a}a=!1}a&&b.preventDefault()},!0);}).call(this);(function(){\n",
       "var a=window.performance;window.start=(new Date).getTime();a:{var b=window;if(a){var c=a.timing;if(c){var d=c.navigationStart,f=c.responseStart;if(f>d&&f<=window.start){window.start=f;b.wsrt=f-d;break a}}a.now&&(b.wsrt=Math.floor(a.now()))}}window.google=window.google||{};var h=function(g){g&&g.target.setAttribute(\"data-iml\",(new Date).getTime())};document.documentElement.addEventListener(\"load\",h,!0);google.rglh=function(){document.documentElement.removeEventListener(\"load\",h,!0)};}).call(this);(function(){\n",
       "var c=[],e=0;window.ping=function(b){-1==b.indexOf(\"&zx\")&&(b+=\"&zx=\"+(new Date).getTime());var a=new Image,d=e++;c[d]=a;a.onerror=a.onload=a.onabort=function(){delete c[d]};a.src=b};}).call(this);</script><style>body{margin:0 auto;max-width:736px;padding:0 8px}a{color:#1967D2;text-decoration:none;tap-highlight-color:rgba(0,0,0,.1)}a:visited{color:#4B11A8}a:hover{text-decoration:underline}img{border:0}html{font-family:Roboto,HelveticaNeue,Arial,sans-serif;font-size:14px;line-height:20px;text-size-adjust:100%;color:#3C4043;word-wrap:break-word;background-color:#fff}.bRsWnc{background-color:#fff;border-top:1px solid #e0e0e0;height:39px;overflow:hidden}.N6RWV{height:51px;overflow-scrolling:touch;overflow-x:auto;overflow-y:hidden}.Uv67qb{box-pack:justify;font-size:12px;line-height:37px;justify-content:space-between;justify-content:space-between}.Uv67qb a,.Uv67qb span{color:#757575;display:block;flex:none;padding:0 16px;text-align:center;text-transform:uppercase;}span.OXXup{border-bottom:2px solid #4285f4;color:#4285f4;font-weight:bold}a.eZt8xd:visited{color:#757575}.FElbsf{border-left:1px solid rgba(0,0,0,.12)}header article{overflow:visible}.Pg70bf{height:39px;display:box;display:flex;display:flex;width:100%}.H0PQec{position:relative;flex:1}.sbc{display:flex;width:100%}.Pg70bf input{margin:2px 4px 2px 8px;}.x{width:26px;color:#757575;font:27px/38px arial, sans-serif;line-height:40px;}#qdClwb{flex:0 0 auto;width:39px;height:39px;border-bottom:0;padding:0;border-top-right-radius:8px;background-color:#3b78e7;border:1px solid #3367d6;background-image:url(data:image/gif;base64,R0lGODdhJAAjAPIHAODr/nCk+MPZ/FmV96zK+/7+/5K5+kqL9iwAAAAAJAAjAEADani63P4wykmbKcQRXDscQAEMXmmeaLQVLCukzyC09AjfeK7v/MAajACLhPMVAgwjsUcEiZa8xgAYrVqv2Kx2iwsIAAABknfBBAKrTE4IcMyot8ur8datqIbQfJdnAfo2WE6BV05wXIiJigkAOw==);}.sc{font-size:;position:absolute;top:39px;left:0;right:0;box-shadow:0px 2px 5px rgba(0,0,0,.2);z-index:2;background-color:#fff}.sc>div{padding:10px 10px;padding-left:16px;padding-left:14px;border-top:1px solid #DFE1E5}.scs{background-color:#f5f5f5;}.noHIxc{display:block;font-size:16px;padding:0 0 0 8px;flex:1;height:35px;outline:none;border:none;width:100%;-webkit-tap-highlight-color:rgba(0,0,0,0);overflow:hidden;}.sbc input[type=text]{background:none}.sml .cOl4Id{display:none}.l{display:none}.sml header{background:none}.sml .l{display:block;padding:0 8px}.sml .l{letter-spacing:-1px;text-align:center;border-radius:2px 0 0 0;font:22px/36px Futura, Arial, sans-serif;font-smoothing:antialiased}.bz1lBb{background:#fff;border-radius:8px 8px 0 0;box-shadow:0 1px 6px rgba(32, 33, 36, 0.18);margin-top:10px}.KP7LCb{border-radius:0 0 8px 8px;box-shadow:0 2px 3px rgba(32, 33, 36, 0.18);margin-bottom:10px;overflow:hidden}.cOl4Id{letter-spacing:-1px;text-align:center;font:22pt Futura, Arial, sans-serif;padding:10px 0 5px 0;height:37px;font-smoothing:antialiased}.cOl4Id span{display:inline-block}.S591j{height:100%}.V6gwVd{color:#4285f4}.iWkuvd{color:#ea4335}.cDrQ7{color:#fbcc05}.ntlR9{color:#34a853}.tJ3Myc{-webkit-transform:rotate(-20deg);position:relative;left:-1px;display:inline-block}footer{text-align:center;margin-top:18px}footer a,footer a:visited,.smiUbb{color:#5f6368}.ksTU4c{margin:0 13px}#mCljob{margin-top:36px}#mCljob>div{margin:20px}</style></head><body jsmodel=\" TvHxbe\"><header id=\"hdr\"><script nonce=\"89cUKwZoZgGY0uegXW+9mQ==\">(function(){var c=500;(function(){window.screen&&window.screen.width<=c&&window.screen.height<=c&&document.getElementById(\"hdr\").classList.add(\"sml\");}).call(this);})();</script><div class=\"cOl4Id\"><a href=\"/?sa=X&amp;ved=0ahUKEwjb452b8_jnAhVSyIsBHdJdDV4QOwgC\"><span class=\"V6gwVd\">G</span><span class=\"iWkuvd\">o</span><span class=\"cDrQ7\">o</span><span class=\"V6gwVd\">g</span><span class=\"ntlR9\">l</span><span class=\"iWkuvd tJ3Myc\">e</span></a></div><div class=\"bz1lBb\"><form class=\"Pg70bf\" id=\"sf\"><a class=\"l\" href=\"/?output=search&amp;ie=UTF-8&amp;sa=X&amp;ved=0ahUKEwjb452b8_jnAhVSyIsBHdJdDV4QPAgE\"><span class=\"V6gwVd\">G</span><span class=\"iWkuvd\">o</span><span class=\"cDrQ7\">o</span><span class=\"V6gwVd\">g</span><span class=\"ntlR9\">l</span><span class=\"iWkuvd tJ3Myc\">e</span></a><input name=\"ie\" type=\"hidden\" value=\"ISO-8859-1\"/><div class=\"H0PQec\"><div class=\"sbc esbc\"><input autocapitalize=\"none\" autocomplete=\"off\" class=\"noHIxc\" name=\"q\" spellcheck=\"false\" type=\"text\" value=\"武漢肺炎\"/><input name=\"oq\" type=\"hidden\"/><input name=\"aqs\" type=\"hidden\"/><div class=\"x\">×</div><div class=\"sc\"></div></div></div><button id=\"qdClwb\" type=\"submit\"></button></form></div><noscript><meta content=\"0;url=/search?q=%E6%AD%A6%E6%BC%A2%E8%82%BA%E7%82%8E&amp;ie=UTF-8&amp;gbv=1&amp;sei=-XdbXpuDEdKQr7wP0ru18AU\" http-equiv=\"refresh\"/><style>table,div,span,p{display:none}</style><div style=\"display:block\">如果系統沒有在數秒鐘後將您重新導向，請按一下<a href=\"/search?q=%E6%AD%A6%E6%BC%A2%E8%82%BA%E7%82%8E&amp;ie=UTF-8&amp;gbv=1&amp;sei=-XdbXpuDEdKQr7wP0ru18AU\">這裡</a>。</div></noscript></header><div id=\"main\"><div><div class=\"KP7LCb\"> <div class=\"bRsWnc\"> <div class=\"N6RWV\"> <div class=\"Pg70bf Uv67qb\"> <span class=\"OXXup\">全部</span><a class=\"eZt8xd\" href=\"/search?q=%E6%AD%A6%E6%BC%A2%E8%82%BA%E7%82%8E&amp;ie=UTF-8&amp;source=lnms&amp;tbm=nws&amp;sa=X&amp;ved=0ahUKEwjb452b8_jnAhVSyIsBHdJdDV4Q_AUICCgB\">新聞</a><a class=\"eZt8xd\" href=\"/search?q=%E6%AD%A6%E6%BC%A2%E8%82%BA%E7%82%8E&amp;ie=UTF-8&amp;source=lnms&amp;tbm=vid&amp;sa=X&amp;ved=0ahUKEwjb452b8_jnAhVSyIsBHdJdDV4Q_AUICSgC\">影片</a><a class=\"eZt8xd\" href=\"/search?q=%E6%AD%A6%E6%BC%A2%E8%82%BA%E7%82%8E&amp;ie=UTF-8&amp;source=lnms&amp;tbm=isch&amp;sa=X&amp;ved=0ahUKEwjb452b8_jnAhVSyIsBHdJdDV4Q_AUICigD\">圖片</a> <a href=\"https://maps.google.com/maps?q=%E6%AD%A6%E6%BC%A2%E8%82%BA%E7%82%8E&amp;um=1&amp;ie=UTF-8&amp;sa=X&amp;ved=0ahUKEwjb452b8_jnAhVSyIsBHdJdDV4Q_AUICygE\">地圖</a> <a href=\"/search?q=%E6%AD%A6%E6%BC%A2%E8%82%BA%E7%82%8E&amp;ie=UTF-8&amp;source=lnms&amp;tbm=shop&amp;sa=X&amp;ved=0ahUKEwjb452b8_jnAhVSyIsBHdJdDV4Q_AUIDCgF\">購物</a> <a href=\"/search?q=%E6%AD%A6%E6%BC%A2%E8%82%BA%E7%82%8E&amp;ie=UTF-8&amp;source=lnms&amp;tbm=bks&amp;sa=X&amp;ved=0ahUKEwjb452b8_jnAhVSyIsBHdJdDV4Q_AUIDSgG\">書籍</a> <div class=\"FElbsf\"><a href=\"/advanced_search\" id=\"st-toggle\" role=\"button\" style=\"white-space:nowrap\">搜尋工具</a></div> </div> </div> </div> </div><div class=\"Pg70bf wEsjbd ZINbbc xpd O9g5cc uUPGi\" id=\"st-card\" style=\"display:none\"><style>.wEsjbd{background-color:#fff;height:44px;white-space:nowrap}.coPU8c{height:60px;overflow-scrolling:touch;overflow-x:auto;overflow-y:hidden}.Xj2aue{height:44px;overflow:hidden}.RnNGze{margin:11px 16px}.wEsjbd div,.wEsjbd a,.wEsjbd li{outline-width:0;outline:none}</style><div class=\"Xj2aue\"><div class=\"coPU8c\"><div class=\"RnNGze\"><style>.PA9J5{display:inline-block}.RXaOfd{display:inline-block;height:22px;position:relative;padding-top:0;padding-bottom:0;padding-right:16px;padding-left:0;line-height:22px;cursor:pointer;text-transform:uppercase;font-size:12px;color:#757575}.sa1toc{display:none;position:absolute;background:#fff;border:1px solid #d6d6d6;box-shadow:0 2px 4px rgba(0,0,0,0.3);margin:0;white-space:nowrap;z-index:103;line-height:17px;padding-top:5px;padding-bottom:5px;padding-left:0px}.PA9J5:hover .sa1toc{display:block}.mGSy8d a:active,.RXaOfd:active{color:#4285f4}</style><div class=\"PA9J5\"><div class=\"RXaOfd\" role=\"button\" tabindex=\"0\"><style>.TWMOUc{display:inline-block;padding-right:14px;white-space:nowrap}.vQYuGf{font-weight:bold}.OmTIzf{border-color:#909090 transparent;border-style:solid;border-width:4px 4px 0 4px;width:0;height:0;margin-left:-10px;top:50%;margin-top:-2px;position:absolute}.RXaOfd:active .OmTIzf{border-color:#4285f4 transparent}</style><div class=\"TWMOUc\">不限語言</div><span class=\"OmTIzf\"></span></div><ul class=\"sa1toc ozatM\"><style>.ozatM{font-size:12px;text-transform:uppercase}.ozatM .yNFsl,.ozatM li{list-style-type:none;list-style-position:outside;list-style-image:none}.yNFsl.SkUj4c,.yNFsl a{color:rgba(0,0,0,0.54);text-decoration:none;padding:6px 44px 6px 14px;line-height:17px;display:block}.SkUj4c{background-image:url(//ssl.gstatic.com/ui/v1/menu/checkmark2.png);background-position:right center;background-repeat:no-repeat}.SkUj4c:active{background-color:#f5f5f5}</style><li class=\"yNFsl SkUj4c\">不限語言</li><li class=\"yNFsl\"><a href=\"/search?q=%E6%AD%A6%E6%BC%A2%E8%82%BA%E7%82%8E&amp;ie=UTF-8&amp;source=lnt&amp;tbs=lr:lang_1zh-CN%7Clang_1zh-TW&amp;lr=lang_zh-CN%7Clang_zh-TW&amp;sa=X&amp;ved=0ahUKEwjb452b8_jnAhVSyIsBHdJdDV4QpwUIDw\">搜尋所有中文網頁</a></li><li class=\"yNFsl\"><a href=\"/search?q=%E6%AD%A6%E6%BC%A2%E8%82%BA%E7%82%8E&amp;ie=UTF-8&amp;source=lnt&amp;tbs=lr:lang_1zh-TW&amp;lr=lang_zh-TW&amp;sa=X&amp;ved=0ahUKEwjb452b8_jnAhVSyIsBHdJdDV4QpwUIEA\">搜尋繁體中文網頁</a></li></ul></div><div class=\"PA9J5\"><div class=\"RXaOfd\" role=\"button\" tabindex=\"0\"><div class=\"TWMOUc\">不限時間</div><span class=\"OmTIzf\"></span></div><ul class=\"sa1toc ozatM\"><li class=\"yNFsl SkUj4c\">不限時間</li><li class=\"yNFsl\"><a href=\"/search?q=%E6%AD%A6%E6%BC%A2%E8%82%BA%E7%82%8E&amp;ie=UTF-8&amp;source=lnt&amp;tbs=qdr:h&amp;sa=X&amp;ved=0ahUKEwjb452b8_jnAhVSyIsBHdJdDV4QpwUIEg\"> 過去 1 小時</a></li><li class=\"yNFsl\"><a href=\"/search?q=%E6%AD%A6%E6%BC%A2%E8%82%BA%E7%82%8E&amp;ie=UTF-8&amp;source=lnt&amp;tbs=qdr:d&amp;sa=X&amp;ved=0ahUKEwjb452b8_jnAhVSyIsBHdJdDV4QpwUIEw\"> 過去 24 小時</a></li><li class=\"yNFsl\"><a href=\"/search?q=%E6%AD%A6%E6%BC%A2%E8%82%BA%E7%82%8E&amp;ie=UTF-8&amp;source=lnt&amp;tbs=qdr:w&amp;sa=X&amp;ved=0ahUKEwjb452b8_jnAhVSyIsBHdJdDV4QpwUIFA\"> 過去 1 週</a></li><li class=\"yNFsl\"><a href=\"/search?q=%E6%AD%A6%E6%BC%A2%E8%82%BA%E7%82%8E&amp;ie=UTF-8&amp;source=lnt&amp;tbs=qdr:m&amp;sa=X&amp;ved=0ahUKEwjb452b8_jnAhVSyIsBHdJdDV4QpwUIFQ\"> 過去 1 個月</a></li><li class=\"yNFsl\"><a href=\"/search?q=%E6%AD%A6%E6%BC%A2%E8%82%BA%E7%82%8E&amp;ie=UTF-8&amp;source=lnt&amp;tbs=qdr:y&amp;sa=X&amp;ved=0ahUKEwjb452b8_jnAhVSyIsBHdJdDV4QpwUIFg\"> 過去 1 年</a></li></ul></div><div class=\"PA9J5\"><div class=\"RXaOfd\" role=\"button\" tabindex=\"0\"><div class=\"TWMOUc\">所有結果</div><span class=\"OmTIzf\"></span></div><ul class=\"sa1toc ozatM\"><li class=\"yNFsl SkUj4c\">所有結果</li><li class=\"yNFsl\"><a href=\"/search?q=%E6%AD%A6%E6%BC%A2%E8%82%BA%E7%82%8E&amp;ie=UTF-8&amp;source=lnt&amp;tbs=li:1&amp;sa=X&amp;ved=0ahUKEwjb452b8_jnAhVSyIsBHdJdDV4QpwUIGA\">一字不差</a></li></ul></div></div></div></div><script nonce=\"89cUKwZoZgGY0uegXW+9mQ==\">(function(){\n",
       "var a=document.getElementById(\"st-toggle\"),b=document.getElementById(\"st-card\");a&&b&&a.addEventListener(\"click\",function(c){b.style.display=b.style.display?\"\":\"none\";c.preventDefault()},!1);}).call(this);</script></div></div><style>.ZINbbc{background-color:#fff;margin-bottom:10px;box-shadow:0 1px 6px rgba(32, 33, 36, 0.28);border-radius:8px}.uUPGi{font-size:14px;line-height:20px;}.O9g5cc>*:first-child{border-top-left-radius:8px;border-top-right-radius:8px}.O9g5cc>*:last-child{border-bottom-left-radius:8px;border-bottom-right-radius:8px}.O9g5cc>.qxDOhb>*:first-child{border-top-left-radius:8px;border-top-right-radius:8px}.O9g5cc>.qxDOhb>*:last-child{border-bottom-left-radius:8px;border-bottom-right-radius:8px}.nGphre{float:right;padding-left:16px}.UykT9d{border-radius:8px;display:block}.nYT7Qb{clear:both}.kCrYT{padding:12px 16px 12px}.BNeawe{white-space:pre-line;word-wrap:break-word}.deIvCb{font-size:16px;line-height:20px;font-weight:400}.deIvCb.HrGdeb{color:rgba(255,255,255,1)}.deIvCb.AP7Wnd{color:#202124}.FCUp0c{font-weight:bold}.tAd8D{font-size:14px;line-height:20px}.tAd8D.HrGdeb{color:rgba(255,255,255,.7)}.tAd8D.AP7Wnd{color:#70757A}.skVgpb{display:table;table-layout:fixed;width:100%}.VGHMXd{display:table-cell;vertical-align:middle;height:52px;text-align:center}.LpaDrb{margin:0 auto 8px;display:block}.vbShOe{padding-top:0}.Xdlr0d{overflow-x:auto;-webkit-overflow-scrolling:touch;margin:0 -8px;padding:16px 0 16px 24px;padding-top:2px;margin-top:-2px;transform:translate3d(0,0,0)}.idg8be{display:table;border-collapse:separate;border-spacing:8px 0;margin:0 -8px;padding-right:16px}.BVG0Nb{display:table-cell;vertical-align:top;background-color:#fff;border-radius:8px;box-shadow:0 1px 6px rgba(32, 33, 36, 0.28);overflow:hidden}a.fdYsqf{color:#4B11A8}.EYOsld{display:inline-block;position:relative}.BFi9Zb{overflow:hidden;position:relative}.S7Jdze{align-items:center;display:flex;flex-direction:column;justify-content:space-around}.R0jTRc{vertical-align:middle}.s3v9rd{font-size:14px;line-height:20px}.s3v9rd.HrGdeb{color:rgba(255,255,255,1)}.s3v9rd.AP7Wnd{color:#202124}.Xb5VRe{color:#1967D2}a:visited .Xb5VRe{color:#4B11A8}.Xb5VRe.tr0dw{color:rgba(255,255,255,1)}a:visited .Xb5VRe.tr0dw{color:rgba(255,255,255,.7)}.ZTv9Bb{display:block}.nVTMpe{border-radius:8px}.x54gtf{height:1px;background-color:#dfe1e5;margin:0 16px}.Q0HXG{height:1px;background-color:#dfe1e5}.X7NTVe{display:table;width:100%;padding-right:16px;box-sizing:border-box}.tHmfQe{display:table-cell;padding:12px 0 12px 16px}.UHtrk{width:72px}.HBTM6d{width:30px}.XS7yGd{display:table-cell;text-align:center;vertical-align:middle;padding:12px 0 12px 8px}.am3QBf{display:table;vertical-align:top}.mHhylf{display:table-cell;vertical-align:middle}.WZ5GJf{align-items:center;padding:0 20px;min-width:112px}.qN9Ked,.DXk5Me{margin:0 auto}.DXk5Me{margin-bottom:12px}.Qi9Fd{background:#fff;border:0;border-radius:999px;display:block;height:56px;justify-content:center;width:56px;z-index:0}.Qi9Fd{box-shadow:0 1px 6px rgba(32, 33, 36, 0.28),inset 0 0 0 0 rgba(0,0,0,0.10),inset 0 0 0 0 rgba(255,255,255,0.50)}.Qi9Fd:focus{outline:none}.Qi9Fd .hWHuJ{display:block;margin:0 auto}.ji5jpf{text-align:center}.sIkBVc{padding-top:0px}.uEec3{font-size:12px;line-height:16px}.uEec3.HrGdeb{color:rgba(255,255,255,.7)}.uEec3.AP7Wnd{color:#70757A}.rl7ilb{display:block;clear:both}.vvjwJb{color:#1967D2;font-size:16px;line-height:20px}.vvjwJb a:visited{color:#4B11A8}.vvjwJb.HrGdeb{color:rgba(255,255,255,1)}.vvjwJb.HrGdeb a:visited{color:rgba(255,255,255,.7)}.UPmit{font-size:14px;line-height:20px}.UPmit.HrGdeb{color:rgba(255,255,255,.7)}.UPmit.AP7Wnd{color:rgba(0,102,33,1)}.Ap5OSd{padding-bottom:12px}.mSx1Ee{padding-left:48px;margin:0}.v9i61e{padding-bottom:8px}.r0bn4c.tr0dw{color:rgba(255,255,255,.7)}.r0bn4c.rQMQod{color:#70757A}.rLshyf,.BmP5tf{padding-top:12px;padding-bottom:12px}.w1C3Le,.BmP5tf,.G5NbBd{padding-left:16px;padding-right:16px;}.G5NbBd{padding-bottom:12px}.nMymef{display:flex}.G5eFlf{flex:1;display:block}.nMymef span{text-align:center}</style><div><!--SW_C_X--></div><div><div class=\"ZINbbc xpd O9g5cc uUPGi\"><div class=\"kCrYT\"><span><div class=\"BNeawe deIvCb AP7Wnd\"><span class=\"FCUp0c rQMQod\">COVID-19</span></div></span><span><div class=\"BNeawe tAd8D AP7Wnd\"><span class=\"rQMQod\">SOS 警報</span></div></span></div></div></div><div><div class=\"ZINbbc xpd O9g5cc uUPGi\"><div class=\"kCrYT\"><div class=\"BNeawe deIvCb AP7Wnd\"><span class=\"FCUp0c rQMQod\">焦點新聞</span></div></div><div><div><div><div class=\"Xdlr0d\"><div class=\"idg8be\"><a class=\"BVG0Nb\" href=\"/url?q=https://www.cna.com.tw/news/firstnews/202003015002.aspx&amp;sa=U&amp;ved=2ahUKEwjb452b8_jnAhVSyIsBHdJdDV4Q0PADMAF6BAgGEAI&amp;usg=AOvVaw11eBGxISCdw8x8Pnih_DiJ\"><div><div style=\"width:232px\"><div class=\"S7Jdze\" style=\"width:232px;height:128px\"><img alt=\"\" class=\"EYOsld\" data-deferred=\"1\" id=\"dimg_1\" src=\"data:image/gif;base64,R0lGODlhAQABAIAAAP///////yH5BAEKAAEALAAAAAABAAEAAAICTAEAOw==\" style=\"max-width:232px;max-height:128px\"/></div><div class=\"RWuggc kCrYT\"><div><div class=\"BNeawe s3v9rd AP7Wnd\"><span class=\"rQMQod Xb5VRe\">武漢肺炎台灣新增一確診 為鑽石公主號返台旅客【更新】</span></div></div><div><div class=\"BNeawe tAd8D AP7Wnd\">中央社\n",
       "2 小時前</div></div></div></div></div></a><a class=\"BVG0Nb\" href=\"/url?q=https://www.nownews.com/news/20200301/3963308/&amp;sa=U&amp;ved=2ahUKEwjb452b8_jnAhVSyIsBHdJdDV4Q0PADMAJ6BAgGEAY&amp;usg=AOvVaw0GeTCV2SepNoMYXS-Hf1xc\"><div><div style=\"width:232px\"><div class=\"S7Jdze\" style=\"width:232px;height:128px\"><img alt=\"\" class=\"EYOsld\" data-deferred=\"1\" id=\"dimg_3\" src=\"data:image/gif;base64,R0lGODlhAQABAIAAAP///////yH5BAEKAAEALAAAAAABAAEAAAICTAEAOw==\" style=\"max-width:232px;max-height:128px\"/></div><div class=\"RWuggc kCrYT\"><div><div class=\"BNeawe s3v9rd AP7Wnd\"><span class=\"rQMQod Xb5VRe\">美國哪個州武漢肺炎疫情恐最先失控？答案一面倒：還用想| 新奇</span></div></div><div><div class=\"BNeawe tAd8D AP7Wnd\">NOWnews 今日新聞\n",
       "1 小時前</div></div></div></div></div></a><a class=\"BVG0Nb\" href=\"/url?q=https://www.cna.com.tw/news/firstnews/202003010118.aspx&amp;sa=U&amp;ved=2ahUKEwjb452b8_jnAhVSyIsBHdJdDV4Q0PADMAN6BAgGEAo&amp;usg=AOvVaw3RLsVxjvXOOKU6TX7Ath3j\"><div><div style=\"width:232px\"><div class=\"S7Jdze\" style=\"width:232px;height:128px\"><img alt=\"\" class=\"EYOsld\" data-deferred=\"1\" id=\"dimg_7\" src=\"data:image/gif;base64,R0lGODlhAQABAIAAAP///////yH5BAEKAAEALAAAAAABAAEAAAICTAEAOw==\" style=\"max-width:232px;max-height:128px\"/></div><div class=\"RWuggc kCrYT\"><div><div class=\"BNeawe s3v9rd AP7Wnd\"><span class=\"rQMQod Xb5VRe\">武漢肺炎確診者痊癒又陽性 可能原因有2種</span></div></div><div><div class=\"BNeawe tAd8D AP7Wnd\">中央社\n",
       "1 小時前</div></div></div></div></div></a><a class=\"BVG0Nb\" href=\"/url?q=https://ec.ltn.com.tw/article/breakingnews/3084856&amp;sa=U&amp;ved=2ahUKEwjb452b8_jnAhVSyIsBHdJdDV4Q0PADMAR6BAgGEA4&amp;usg=AOvVaw1fecW4MJUnHeZxOnkCtiGP\"><div><div style=\"width:232px\"><div class=\"S7Jdze\" style=\"background-color:;width:232px;height:128px\"><img alt=\"\" class=\"EYOsld\" data-deferred=\"1\" id=\"dimg_11\" src=\"data:image/gif;base64,R0lGODlhAQABAIAAAP///////yH5BAEKAAEALAAAAAABAAEAAAICTAEAOw==\" style=\"max-width:232px;max-height:128px\"/></div><div class=\"RWuggc kCrYT\"><div><div class=\"BNeawe s3v9rd AP7Wnd\"><span class=\"rQMQod Xb5VRe\">武漢肺炎》中國旅遊業重創「簽證龍頭」百程旅行網倒閉</span></div></div><div><div class=\"BNeawe tAd8D AP7Wnd\">自由財經- 自由時報\n",
       "2 小時前</div></div></div></div></div></a><a class=\"BVG0Nb\" href=\"/url?q=https://www.cna.com.tw/news/firstnews/202003010016.aspx&amp;sa=U&amp;ved=2ahUKEwjb452b8_jnAhVSyIsBHdJdDV4Q0PADMAV6BAgGEBI&amp;usg=AOvVaw2pHPXRNzU0ab2X-wEpZoV3\"><div><div style=\"width:232px\"><div class=\"S7Jdze\" style=\"background-color:;width:232px;height:128px\"><img alt=\"\" class=\"EYOsld\" data-deferred=\"1\" id=\"dimg_17\" src=\"data:image/gif;base64,R0lGODlhAQABAIAAAP///////yH5BAEKAAEALAAAAAABAAEAAAICTAEAOw==\" style=\"max-width:232px;max-height:128px\"/></div><div class=\"RWuggc kCrYT\"><div><div class=\"BNeawe s3v9rd AP7Wnd\"><span class=\"rQMQod Xb5VRe\">法國武漢肺炎確診破百 疫情未解總理拋退休改革震撼彈</span></div></div><div><div class=\"BNeawe tAd8D AP7Wnd\">中央社\n",
       "8 小時前</div></div></div></div></div></a><a class=\"BVG0Nb\" href=\"/url?q=https://news.ltn.com.tw/news/world/breakingnews/3084522&amp;sa=U&amp;ved=2ahUKEwjb452b8_jnAhVSyIsBHdJdDV4Q0PADMAZ6BAgGEBY&amp;usg=AOvVaw1Is4F_FRD4fvqoQOBIzSxN\"><div><div style=\"width:232px\"><div class=\"S7Jdze\" style=\"width:232px;height:128px\"><img alt=\"\" class=\"EYOsld\" data-deferred=\"1\" id=\"dimg_19\" src=\"data:image/gif;base64,R0lGODlhAQABAIAAAP///////yH5BAEKAAEALAAAAAABAAEAAAICTAEAOw==\" style=\"max-width:232px;max-height:128px\"/></div><div class=\"RWuggc kCrYT\"><div><div class=\"BNeawe s3v9rd AP7Wnd\"><span class=\"rQMQod Xb5VRe\">武漢肺炎》南韓單日增586確診！ 全球確診87195例 死亡2981例</span></div></div><div><div class=\"BNeawe tAd8D AP7Wnd\">自由時報\n",
       "10 小時前</div></div></div></div></div></a><a class=\"BVG0Nb\" href=\"/url?q=https://news.ltn.com.tw/news/life/breakingnews/3084490&amp;sa=U&amp;ved=2ahUKEwjb452b8_jnAhVSyIsBHdJdDV4Q0PADMAd6BAgGEBo&amp;usg=AOvVaw0lZNVUEycoK0eETnZ2ySnf\"><div><div style=\"width:232px\"><div class=\"S7Jdze\" style=\"width:232px;height:128px\"><img alt=\"\" class=\"EYOsld\" data-deferred=\"1\" id=\"dimg_21\" src=\"data:image/gif;base64,R0lGODlhAQABAIAAAP///////yH5BAEKAAEALAAAAAABAAEAAAICTAEAOw==\" style=\"max-width:232px;max-height:128px\"/></div><div class=\"RWuggc kCrYT\"><div><div class=\"BNeawe s3v9rd AP7Wnd\"><span class=\"rQMQod Xb5VRe\">武漢肺炎》台灣新增5例 醫師曝「關鍵10件事」別像韓國暴增</span></div></div><div><div class=\"BNeawe tAd8D AP7Wnd\">自由時報\n",
       "17 小時前</div></div></div></div></div></a><a class=\"BVG0Nb\" href=\"/url?q=https://ec.ltn.com.tw/article/breakingnews/3084431&amp;sa=U&amp;ved=2ahUKEwjb452b8_jnAhVSyIsBHdJdDV4Q0PADMAh6BAgGEB4&amp;usg=AOvVaw1kX6rRjJdw2-n6Zr1rxTNc\"><div><div style=\"width:232px\"><div class=\"S7Jdze\" style=\"background-color:;width:232px;height:128px\"><img alt=\"\" class=\"EYOsld\" data-deferred=\"1\" id=\"dimg_23\" src=\"data:image/gif;base64,R0lGODlhAQABAIAAAP///////yH5BAEKAAEALAAAAAABAAEAAAICTAEAOw==\" style=\"max-width:232px;max-height:128px\"/></div><div class=\"RWuggc kCrYT\"><div><div class=\"BNeawe s3v9rd AP7Wnd\"><span class=\"rQMQod Xb5VRe\">武漢肺炎》贏家變輸家！ 越南限制南韓入境 料衝擊多間韓企</span></div></div><div><div class=\"BNeawe tAd8D AP7Wnd\">自由財經- 自由時報\n",
       "18 小時前</div></div></div></div></div></a><a class=\"BVG0Nb\" href=\"/url?q=https://newtalk.tw/news/view/2020-02-29/373520&amp;sa=U&amp;ved=2ahUKEwjb452b8_jnAhVSyIsBHdJdDV4Q0PADMAl6BAgGECI&amp;usg=AOvVaw3xIEWN2Ra1j30-yqp5iOXI\"><div><div style=\"width:232px\"><div class=\"S7Jdze\" style=\"width:232px;height:128px\"><img alt=\"\" class=\"EYOsld\" data-deferred=\"1\" id=\"dimg_25\" src=\"data:image/gif;base64,R0lGODlhAQABAIAAAP///////yH5BAEKAAEALAAAAAABAAEAAAICTAEAOw==\" style=\"max-width:232px;max-height:128px\"/></div><div class=\"RWuggc kCrYT\"><div><div class=\"BNeawe s3v9rd AP7Wnd\"><span class=\"rQMQod Xb5VRe\">武漢肺炎》「社區傳播」要件已達一半！指揮中心：確實是警訊| 社會</span></div></div><div><div class=\"BNeawe tAd8D AP7Wnd\">新頭殼\n",
       "19 小時前</div></div></div></div></div></a><a class=\"BVG0Nb\" href=\"/url?q=https://heho.com.tw/archives/71357&amp;sa=U&amp;ved=2ahUKEwjb452b8_jnAhVSyIsBHdJdDV4Q0PADMAp6BAgGECY&amp;usg=AOvVaw3PlgTt-RMSNeFZJqyW7ayf\"><div><div style=\"width:232px\"><div class=\"S7Jdze\" style=\"width:232px;height:128px\"><img alt=\"\" class=\"EYOsld\" data-deferred=\"1\" id=\"dimg_27\" src=\"data:image/gif;base64,R0lGODlhAQABAIAAAP///////yH5BAEKAAEALAAAAAABAAEAAAICTAEAOw==\" style=\"max-width:232px;max-height:128px\"/></div><div class=\"RWuggc kCrYT\"><div><div class=\"BNeawe s3v9rd AP7Wnd\"><span class=\"rQMQod Xb5VRe\">武漢肺炎／台灣首例院內感染！一天增5名確診，其中3名是護理人員，總確診到39例</span></div></div><div><div class=\"BNeawe tAd8D AP7Wnd\">Heho健康\n",
       "20 小時前</div></div></div></div></div></a></div></div></div></div></div></div></div><div><div class=\"ZINbbc xpd O9g5cc uUPGi\"><div class=\"kCrYT\"><div class=\"q4vBJc\"></div><span><div class=\"BNeawe deIvCb AP7Wnd\"><span class=\"rQMQod\">援助與資訊</span></div></span></div><div class=\"Q0HXG\"></div><div class=\"X7NTVe\"><div class=\"tHmfQe\"><div class=\"am3QBf\"><div><span><div class=\"BNeawe deIvCb AP7Wnd\">Coronavirus advisory information</div></span><span><div class=\"BNeawe tAd8D AP7Wnd\">World Health Organization<br/><img alt=\"網站\" class=\"R0jTRc\" data-deferred=\"1\" id=\"dimg_5\" src=\"data:image/gif;base64,R0lGODlhAQABAIAAAP///////yH5BAEKAAEALAAAAAABAAEAAAICTAEAOw==\" style=\"max-width:14px;max-height:14px\"/><span class=\"BNeawe\"><a href=\"/url?q=https://www.who.int/emergencies/diseases/novel-coronavirus-2019/advice-for-public&amp;sa=U&amp;ved=2ahUKEwjb452b8_jnAhVSyIsBHdJdDV4Qi-8BMAt6BAgLEAE&amp;usg=AOvVaw30GhXLslY8tXz3zzqqNvzS\"><span class=\"tAd8D AP7Wnd\">who.int/emergencies</span></a></span></div></span></div></div></div></div><div class=\"Q0HXG\"></div><div class=\"X7NTVe\"><div class=\"tHmfQe\"><div class=\"am3QBf\"><div><span><div class=\"BNeawe deIvCb AP7Wnd\">Coronavirus condition overview</div></span><span><div class=\"BNeawe tAd8D AP7Wnd\">World Health Organization<br/><img alt=\"網站\" class=\"R0jTRc\" data-deferred=\"1\" id=\"dimg_9\" src=\"data:image/gif;base64,R0lGODlhAQABAIAAAP///////yH5BAEKAAEALAAAAAABAAEAAAICTAEAOw==\" style=\"max-width:14px;max-height:14px\"/><span class=\"BNeawe\"><a href=\"/url?q=https://www.who.int/health-topics/coronavirus&amp;sa=U&amp;ved=2ahUKEwjb452b8_jnAhVSyIsBHdJdDV4Qi-8BMAt6BAgLEAI&amp;usg=AOvVaw25CjnJHs7n22sJE_fpEb__\"><span class=\"tAd8D AP7Wnd\">who.int/health-topics</span></a></span></div></span></div></div></div></div><div class=\"Q0HXG\"></div><div class=\"X7NTVe\"><div class=\"tHmfQe\"><div class=\"am3QBf\"><div><span><div class=\"BNeawe deIvCb AP7Wnd\">Coronavirus Q&amp;A</div></span><span><div class=\"BNeawe tAd8D AP7Wnd\">World Health Organization<br/><img alt=\"網站\" class=\"R0jTRc\" data-deferred=\"1\" id=\"dimg_13\" src=\"data:image/gif;base64,R0lGODlhAQABAIAAAP///////yH5BAEKAAEALAAAAAABAAEAAAICTAEAOw==\" style=\"max-width:14px;max-height:14px\"/><span class=\"BNeawe\"><a href=\"/url?q=https://www.who.int/news-room/q-a-detail/q-a-coronaviruses&amp;sa=U&amp;ved=2ahUKEwjb452b8_jnAhVSyIsBHdJdDV4Qi-8BMAt6BAgLEAM&amp;usg=AOvVaw2LFoIgLKLsY7fYG_tvnqWG\"><span class=\"tAd8D AP7Wnd\">who.int/news-room</span></a></span></div></span></div></div></div></div></div></div><div><div class=\"ZINbbc xpd O9g5cc uUPGi\"><div class=\"kCrYT\"><div class=\"BNeawe deIvCb AP7Wnd\"><span class=\"rQMQod\">安全提示</span></div></div><div><div><div><div class=\"Xdlr0d\"><div class=\"idg8be\"><div class=\"BVG0Nb\"><div style=\"width:232px\"><div class=\"RWuggc kCrYT\"><div><div class=\"BNeawe s3v9rd AP7Wnd\">Clean hands with soap and water or alcohol-based hand rub</div></div><div><div class=\"BNeawe tAd8D AP7Wnd\"></div></div></div></div></div><div class=\"BVG0Nb\"><div style=\"width:232px\"><div class=\"RWuggc kCrYT\"><div><div class=\"BNeawe s3v9rd AP7Wnd\">Cover nose and mouth when coughing and sneezing with tissue or flexed elbow</div></div><div><div class=\"BNeawe tAd8D AP7Wnd\"></div></div></div></div></div><div class=\"BVG0Nb\"><div style=\"width:232px\"><div class=\"RWuggc kCrYT\"><div><div class=\"BNeawe s3v9rd AP7Wnd\">Avoid close contact with anyone with cold or flu-like symptoms</div></div><div><div class=\"BNeawe tAd8D AP7Wnd\"></div></div></div></div></div><div class=\"BVG0Nb\"><div style=\"width:232px\"><div class=\"RWuggc kCrYT\"><div><div class=\"BNeawe s3v9rd AP7Wnd\">Thoroughly cook meat and eggs</div></div><div><div class=\"BNeawe tAd8D AP7Wnd\"></div></div></div></div></div><div class=\"BVG0Nb\"><div style=\"width:232px\"><div class=\"RWuggc kCrYT\"><div><div class=\"BNeawe s3v9rd AP7Wnd\">Avoid unprotected contact with live animals</div></div><div><div class=\"BNeawe tAd8D AP7Wnd\"></div></div></div></div></div><div class=\"mHhylf\"><div class=\"WZ5GJf\"><a class=\"qN9Ked\" href=\"/url?q=https://www.who.int/emergencies/diseases/novel-coronavirus-2019/advice-for-public&amp;sa=U&amp;ved=2ahUKEwjb452b8_jnAhVSyIsBHdJdDV4QuJ0FMAx6BAgKEAY&amp;usg=AOvVaw0cOUfHhQigexdVttO81QFT\"><button class=\"DXk5Me Qi9Fd\"><img alt=\"Arrow\" class=\"hWHuJ\" data-deferred=\"1\" id=\"dimg_15\" src=\"data:image/gif;base64,R0lGODlhAQABAIAAAP///////yH5BAEKAAEALAAAAAABAAEAAAICTAEAOw==\" style=\"max-width:24px;max-height:24px\"/></button><div class=\"BNeawe ji5jpf tAd8D AP7Wnd\">更多提示</div></a></div></div></div></div></div></div></div><div class=\"sIkBVc kCrYT\"><span><div class=\"BNeawe uEec3 AP7Wnd\">資料來源： <span class=\"BNeawe\"><a href=\"/url?q=https://www.who.int/emergencies/diseases/novel-coronavirus-2019/advice-for-public&amp;sa=U&amp;ved=2ahUKEwjb452b8_jnAhVSyIsBHdJdDV4Q9f4BMAx6BAgKEAc&amp;usg=AOvVaw2-UxRC-VrxP7HGiJwGpisM\"><span class=\"uEec3 AP7Wnd\">who.int</span></a></span></div></span></div></div></div><div><div class=\"ZINbbc xpd O9g5cc uUPGi\"><div class=\"kCrYT\"><a href=\"/url?q=https://www.cna.com.tw/news/firstnews/202003010079.aspx&amp;sa=U&amp;ved=2ahUKEwjb452b8_jnAhVSyIsBHdJdDV4QFjANegQIBBAB&amp;usg=AOvVaw3uVAyhYciOjW38XqlRccbT\"><div class=\"BNeawe vvjwJb AP7Wnd\">武漢肺炎日本北海道死亡增至3例疑出現院內感染| 國際| 重點新聞 ...</div><div class=\"BNeawe UPmit AP7Wnd\">https://www.cna.com.tw › news › firstnews</div></a></div><div class=\"x54gtf\"></div><div class=\"kCrYT\"><div><div class=\"BNeawe s3v9rd AP7Wnd\"><div><div><div class=\"BNeawe s3v9rd AP7Wnd\"><span class=\"r0bn4c rQMQod\">3 小時前</span><span class=\"r0bn4c rQMQod\"> · </span>日本北海道政府今天表示，一名確診武漢肺炎的70多歲男性死亡，是北海道內第3起死亡案例。由於死者1月17日就已住院，醫院方面認為有可能是在 ...</div></div></div></div></div></div></div></div><div><div class=\"ZINbbc xpd O9g5cc uUPGi\"><div class=\"kCrYT\"><a href=\"/url?q=https://www.cna.com.tw/news/firstnews/202003010118.aspx&amp;sa=U&amp;ved=2ahUKEwjb452b8_jnAhVSyIsBHdJdDV4QFjAOegQIARAB&amp;usg=AOvVaw2iGEzKeDuVyfbVUWhqJImS\"><div class=\"BNeawe vvjwJb AP7Wnd\">武漢肺炎確診者痊癒又陽性可能原因有2種| 生活| 重點新聞| 中央社CNA</div><div class=\"BNeawe UPmit AP7Wnd\">https://www.cna.com.tw › news › firstnews</div></a></div><div class=\"x54gtf\"></div><div class=\"kCrYT\"><div><div class=\"BNeawe s3v9rd AP7Wnd\"><div><div><div class=\"BNeawe s3v9rd AP7Wnd\"><span class=\"r0bn4c rQMQod\">2 小時前</span><span class=\"r0bn4c rQMQod\"> · </span>一名因確診武漢肺炎留置日本的鑽石公主號旅客，痊癒後回台又確診。專家張上淳今天說，國內外報告發現，有些病人採檢會時陰時陽，包含採檢 ...</div></div></div></div></div></div></div></div><div><div class=\"ZINbbc xpd O9g5cc uUPGi\"><div class=\"kCrYT\"><a href=\"/url?q=https://news.ltn.com.tw/news/life/breakingnews/3084821&amp;sa=U&amp;ved=2ahUKEwjb452b8_jnAhVSyIsBHdJdDV4QFjAPegQICRAB&amp;usg=AOvVaw2IQaE_8KX70mo2e0HXxwSJ\"><div class=\"BNeawe vvjwJb AP7Wnd\">武漢肺炎》台灣再增1例鑽石公主號返台旅客- 生活- 自由時報電子報</div><div class=\"BNeawe UPmit AP7Wnd\">https://news.ltn.com.tw › news › life › breakingnews</div></a></div><div class=\"x54gtf\"></div><div class=\"kCrYT\"><div><div class=\"BNeawe s3v9rd AP7Wnd\"><div><div><div class=\"BNeawe s3v9rd AP7Wnd\"><span class=\"r0bn4c rQMQod\">3 小時前</span><span class=\"r0bn4c rQMQod\"> · </span>中央流行疫情指揮中心今日公布國內第40例武漢肺炎確定病例，為北部70多歲女性； 個案為先前鑽石公主號經日方檢驗陽性後住院者，後經2次採檢 ...</div></div></div></div></div></div></div></div><div><div class=\"ZINbbc xpd O9g5cc uUPGi\"><div class=\"kCrYT\"><a href=\"/url?q=https://news.ltn.com.tw/news/world/breakingnews/3084775&amp;sa=U&amp;ved=2ahUKEwjb452b8_jnAhVSyIsBHdJdDV4QFjAQegQIBRAB&amp;usg=AOvVaw28bfvmQmcKBBkccqAGyKqm\"><div class=\"BNeawe vvjwJb AP7Wnd\">武漢肺炎》大邱求救！ 1662名確診患者還在家裡等病床- 國際- 自由 ...</div><div class=\"BNeawe UPmit AP7Wnd\">https://news.ltn.com.tw › news › world › breakingnews</div></a></div><div class=\"x54gtf\"></div><div class=\"kCrYT\"><div><div class=\"BNeawe s3v9rd AP7Wnd\"><div><div><div class=\"BNeawe s3v9rd AP7Wnd\"><span class=\"r0bn4c rQMQod\">3 小時前</span><span class=\"r0bn4c rQMQod\"> · </span>韓國新型冠狀病毒疫情最嚴重的大邱廣域市，目前共有2569人確診感染武漢肺炎， 其中竟然有1662人還在居家隔離等病床空出來才能住院，大邱 ...</div></div></div></div></div></div></div></div><div><div class=\"ZINbbc xpd O9g5cc uUPGi\"><div class=\"kCrYT\"><a href=\"/url?q=https://www.bbc.com/zhongwen/trad/topics/5fe79b8d-56e5-4aff-8b05-21f9ad731912&amp;sa=U&amp;ved=2ahUKEwjb452b8_jnAhVSyIsBHdJdDV4QFjARegQICBAB&amp;usg=AOvVaw3IUba5R1becSeosROQqmV4\"><div class=\"BNeawe vvjwJb AP7Wnd\">武漢肺炎- BBC News 中文</div><div class=\"BNeawe UPmit AP7Wnd\">https://www.bbc.com › zhongwen › trad › topics</div></a></div><div class=\"x54gtf\"></div><div class=\"kCrYT\"><div><div class=\"BNeawe s3v9rd AP7Wnd\"><div><div><div class=\"BNeawe s3v9rd AP7Wnd\">肺炎疫情：美國西海岸無法確定病源病例引發恐憂. 美國西海岸新增三例無法確定病源病例， 英國又增三個新病例。新冠病毒感染人數繼續攀升，疫情仍在發酵.</div></div></div></div></div></div></div></div><div><div class=\"ZINbbc xpd O9g5cc uUPGi\"><div class=\"kCrYT\"><a href=\"/url?q=https://www.bbc.com/zhongwen/trad/chinese-news-51382117&amp;sa=U&amp;ved=2ahUKEwjb452b8_jnAhVSyIsBHdJdDV4QFjASegQIBxAB&amp;usg=AOvVaw0eL08JgylS2f_bXd3BIeD3\"><div class=\"BNeawe vvjwJb AP7Wnd\">武漢肺炎疫情爆發至今大事記- BBC News 中文</div><div class=\"BNeawe UPmit AP7Wnd\">https://www.bbc.com › zhongwen › trad › chinese-news-51382117</div></a></div><div class=\"x54gtf\"></div><div class=\"kCrYT\"><div><div class=\"BNeawe s3v9rd AP7Wnd\"><div><div><div class=\"BNeawe s3v9rd AP7Wnd\"><span class=\"r0bn4c rQMQod\">2020年2月11日</span><span class=\"r0bn4c rQMQod\"> · </span>新型冠狀病毒疫情如何從武漢蔓延至全世界？中國當局在疫情爆發初期又做了哪些應對措施？BBC按照時間為你詳細拆解。</div></div></div></div></div></div></div></div><div><div class=\"ZINbbc xpd O9g5cc uUPGi\"><div class=\"kCrYT\"><a href=\"/url?q=https://zh.wikipedia.org/zh-tw/2019%25E5%2586%25A0%25E7%258B%2580%25E7%2597%2585%25E6%25AF%2592%25E7%2597%2585%25E7%2596%25AB%25E6%2583%2585&amp;sa=U&amp;ved=2ahUKEwjb452b8_jnAhVSyIsBHdJdDV4QFjATegQIAxAB&amp;usg=AOvVaw1TNmNrPDK-PZkbzUqd5qjV\"><div class=\"BNeawe vvjwJb AP7Wnd\">2019冠狀病毒病疫情- 维基百科，自由的百科全书</div><div class=\"BNeawe UPmit AP7Wnd\">https://zh.wikipedia.org › zh-tw › 2019冠狀病毒病疫情</div></a></div><div class=\"x54gtf\"></div><div class=\"kCrYT\"><div><div class=\"BNeawe s3v9rd AP7Wnd\"><div><div><div class=\"BNeawe s3v9rd AP7Wnd\">2019冠狀病毒病疫情，是指嚴重急性呼吸系統綜合症冠狀病毒2型(簡稱：武漢肺炎） 於2019年首次於中國湖北省武漢市大規模爆發傳染後，引發2019冠狀病毒病流行致 ...</div></div></div></div></div></div></div></div><div><div class=\"ZINbbc xpd O9g5cc uUPGi\"><div class=\"kCrYT\"><a href=\"/url?q=https://www.twreporter.org/i/covid-2019-keep-tracking-gcs&amp;sa=U&amp;ved=2ahUKEwjb452b8_jnAhVSyIsBHdJdDV4QFjAUegQIABAB&amp;usg=AOvVaw1rAvQxjVFN0wmHtWDPOT__\"><div class=\"BNeawe vvjwJb AP7Wnd\">從武漢到世界    COVID-19（武漢肺炎）疫情即時脈動 - 報導者</div><div class=\"BNeawe UPmit AP7Wnd\">https://www.twreporter.org › covid-2019-keep-tracking-gcs</div></a></div><div class=\"x54gtf\"></div><div class=\"kCrYT\"><div><div class=\"BNeawe s3v9rd AP7Wnd\"><div><div><div class=\"BNeawe s3v9rd AP7Wnd\"><span class=\"r0bn4c rQMQod\">3 天前</span><span class=\"r0bn4c rQMQod\"> · </span>COVID-19（武漢肺炎）疫情發展瞬息萬變，《報導者》串接即時更新的病例資料庫，以多媒體地圖、圖表解釋疫情最新發展，更看見台灣本土防疫和科研 ...</div></div></div></div></div></div></div></div><div><div class=\"ZINbbc xpd O9g5cc uUPGi\"><div class=\"kCrYT\"><a href=\"/url?q=https://campaign.commonhealth.com.tw/main/china-disease-347&amp;sa=U&amp;ved=2ahUKEwjb452b8_jnAhVSyIsBHdJdDV4QFjAVegQIAhAB&amp;usg=AOvVaw0DUSLXwphFDuSkahan25WG\"><div class=\"BNeawe vvjwJb AP7Wnd\">武漢肺炎蔓延中該如何預防？一次看懂新型、SARS、MERS的差別</div><div class=\"BNeawe UPmit AP7Wnd\">https://campaign.commonhealth.com.tw › main › china-disease-347</div></a></div><div class=\"x54gtf\"></div><div class=\"kCrYT\"><div><div class=\"BNeawe s3v9rd AP7Wnd\"><div><div><div class=\"BNeawe s3v9rd AP7Wnd\">近來引發關注的中國大陸武漢不明原因肺炎，根據中國大陸提供的資訊，病原體初步判定為新型冠狀病毒，它與過往的SARS、MERS又有什麼不同？我們該如何預防？</div></div></div></div></div></div></div></div><footer> <div> <div class=\"ZINbbc xpd O9g5cc uUPGi BmP5tf\"><div class=\"nMymef MUxGbd lyLwlc\"><a aria-label=\"下一頁\" class=\"nBDE1b G5eFlf\" href=\"/search?q=%E6%AD%A6%E6%BC%A2%E8%82%BA%E7%82%8E&amp;ie=UTF-8&amp;ei=-XdbXpuDEdKQr7wP0ru18AU&amp;start=10&amp;sa=N\">下一頁 &gt;</a></div></div> </div> <div id=\"mCljob\"><div><a href=\"/url?q=https://accounts.google.com/ServiceLogin%3Fcontinue%3Dhttps://www.google.com/search%253Fq%253D%2525E6%2525AD%2525A6%2525E6%2525BC%2525A2%2525E8%252582%2525BA%2525E7%252582%25258E%2526oq%253D%2525E6%2525AD%2525A6%2525E6%2525BC%2525A2%2525E8%252582%2525BA%2525E7%252582%25258E%2526aqs%253Dchrome..69i57j0l7.5140j0j4%2526sourceid%253Dchrome%2526ie%253DUTF-8%26hl%3Dzh-TW&amp;sa=U&amp;ved=0ahUKEwjb452b8_jnAhVSyIsBHdJdDV4Qxs8CCGk&amp;usg=AOvVaw1dh31xUwAwS8tKT9AoR2x7\">登入</a></div><div><a class=\"ksTU4c\" href=\"https://www.google.com/preferences?hl=zh-TW&amp;fg=1&amp;sa=X&amp;ved=0ahUKEwjb452b8_jnAhVSyIsBHdJdDV4Q5fUCCGo\">設定</a><a class=\"ksTU4c\" href=\"//policies.google.com/privacy?fg=1\">隱私權</a><a class=\"ksTU4c\" href=\"//policies.google.com/terms?fg=1\">服務條款</a></div></div> </footer><script nonce=\"89cUKwZoZgGY0uegXW+9mQ==\">(function(){var hl='zh-TW';(function(){\n",
       "var b=this||self,d=/^[\\w+/_-]+[=]{0,2}$/,e=null;var f=document.querySelector(\".l\"),g=document.querySelector(\"#sf\"),k=g.querySelector(\".sbc\"),l=g.querySelector(\"[type=text]\"),m=g.querySelector(\"[type=submit]\"),n=g.querySelector(\".sc\"),p=g.querySelector(\".x\"),q=l.value,r=[],t=-1,u=q,w,x,y;q||(p&&(p.style.display=\"none\"),z(!1));function z(a){if(k.classList.contains(\"esbc\")){var c=k.classList.contains(\"chsbc\"),h=k.classList.contains(\"rtlsbc\");a&&(n.style.display=\"block\",c?(g.style.borderRadius=\"20px 20px 0 0\",n.style.borderBottom=\"1px solid #DFE1E5\",m.style.borderRadius=h?\"20px 0 0 0\":\"0 20px 0 0\"):k.style.borderRadius=h?\"0 8px 0 0\":\"8px 0 0 0\");a||(n.style.display=\"none\",c?(g.style.borderRadius=\"20px\",n.style.borderBottom=\"none\",m.style.borderRadius=h?\"20px 0 0 20px\":\"0 20px 20px 0\"):k.style.borderRadius=h?\"0 8px 8px 0\":\"8px 0 0 8px\")}}function A(){g.querySelector(\"[name=oq]\").value=u;g.querySelector(\"[name=aqs]\").value=\"heirloom-srp.\"+(0<=t?t:\"\")+\".\"+(0<r.length?\"0l\"+r.length:\"\")}\n",
       "function C(){w=null;if(x){var a=\"/complete/search?client=heirloom-srp&hl=\"+hl+\"&json=t&callback=hS&q=\"+encodeURIComponent(x);\"undefined\"!==typeof ds&&ds&&(a+=\"&ds=\"+ds);var c=document.createElement(\"script\");c.src=a;if(null===e)a:{a=b.document;if((a=a.querySelector&&a.querySelector(\"script[nonce]\"))&&(a=a.nonce||a.getAttribute(\"nonce\"))&&d.test(a)){e=a;break a}e=\"\"}(a=e)&&c.setAttribute(\"nonce\",a);document.body.appendChild(c);x=null;w=setTimeout(C,500)}}\n",
       "function D(){for(;n.firstChild;)n.removeChild(n.firstChild);r=[];t=-1;z(!1)}function E(){var a=n.querySelector(\".scs\");a&&(a.className=\"\");0<=t?(a=n.childNodes[t],a.className=\"scs\",q=a.textContent):q=u;l.value=q}l.addEventListener(\"focus\",function(){f&&(f.style.display=\"none\")},!1);l.addEventListener(\"blur\",function(){D();f&&(f.style.display=\"\")},!1);l.addEventListener(\"keyup\",function(a){q=l.value;y=!1;13==a.which?A():27==a.which?(D(),f&&(f.style.display=\"\"),q=u,l.value=q):40==a.which?(t++,t>=r.length&&(t=-1),E()):38==a.which?(t--,-1>t&&(t=r.length-1),E()):(a=q)?(p&&(p.style.display=\"\"),x=a,w||C(),u=a):(p&&(p.style.display=\"none\"),z(!1),D(),u=\"\",y=!0)},!1);m.addEventListener(\"click\",A,!1);p.addEventListener(\"click\",function(){l.value=\"\";p.style.display=\"none\";z(!1)},!1);k.addEventListener(\"click\",function(){l.focus()},!1);window.hS=function(a){if(!y){D();0==a[1].length&&z(!1);for(var c=0;c<a[1].length;c++){var h=a[1][c][0],v=document.createElement(\"div\");v.innerHTML=h;v.addEventListener(\"mousedown\",function(B){B.preventDefault();return!1},!1);h=h.replace(/<\\/?b>/g,\"\");v.addEventListener(\"click\",function(B){return function(){t=B;A();E();D();g.submit()}}(c),!1);n.appendChild(v);z(!0);r.push(h)}}};}).call(this);})();(function(){\n",
       "function b(a){for(a=a.target||a.srcElement;a&&\"A\"!=a.nodeName;)a=a.parentElement;a&&(a.href||\"\").match(/\\/search.*[?&]tbm=isch/)&&(a.href+=\"&biw=\"+document.documentElement.clientWidth,a.href+=\"&bih=\"+document.documentElement.clientHeight)}document.addEventListener(\"click\",b,!1);document.addEventListener(\"touchStart\",b,!1);}).call(this);</script></div><!-- cctlcm 0 cctlcm --><textarea class=\"csi\" name=\"csi\" style=\"display:none\"></textarea><script nonce=\"89cUKwZoZgGY0uegXW+9mQ==\">(function(){var e='-XdbXpuDEdKQr7wP0ru18AU';var sn='web';(function(){\n",
       "function x(a){if(!a||\"none\"==a.style.display)return 0;if(document.defaultView&&document.defaultView.getComputedStyle){var b=document.defaultView.getComputedStyle(a);if(b&&(\"hidden\"==b.visibility||\"0px\"==b.height&&\"0px\"==b.width))return 0}if(!a.getBoundingClientRect)return 1;var c=a.getBoundingClientRect();a=c.left+window.pageXOffset;b=c.top+window.pageYOffset;var f=c.width;c=c.height;var h=0;if(0>=c&&0>=f)return h;0>b+c?h=2:b>=(window.innerHeight||document.documentElement.clientHeight)&&(h=4);if(0>\n",
       "a+f||a>=(window.innerWidth||document.documentElement.clientWidth))h|=8;return h||1};var y=e,z=sn,H=[];function I(a,b,c){a=\"/gen_204?atyp=csi&s=\"+(z||\"web\")+\"&t=\"+a+(\"&lite=1&ei=\"+y+\"&conn=\"+(window.navigator&&window.navigator.connection?window.navigator.connection.type:-1)+b);b=\"&rt=\";for(var f in c)a+=b+f+\".\"+c[f],b=\",\";return a}function J(a){a={prt:a};window.wsrt&&(a.wsrt=window.wsrt);return a}function K(a){window.ping?window.ping(a):(new Image).src=a}\n",
       "(function(){for(var a=(new Date).getTime()-window.start,b=J(a),c=0,f=0,h=0,A=document.getElementsByTagName(\"img\"),n=\"&imn=\"+A.length+\"&biw=\"+window.innerWidth+\"&bih=\"+window.innerHeight,L=function(g,p){g.onload=function(){f=(new Date).getTime()-window.start;p&&++t==h&&(c=f,B());g.onload=null}},B=function(){n+=\"&ima=\"+h;b.aft=c;K(I(\"aft\",n,b))},t=0,M=0,d=void 0;d=A[M++];){var q=x(d),r=1==q;r&&++h;var m=d.hasAttribute(\"data-ilite\"),u=d.hasAttribute(\"data-deferred\")||m,C=d.getAttribute(\"data-src\")||\n",
       "d.getAttribute(\"data-lzysrc\");H.push([q,u,!u&&C,google.ldi&&d.id&&google.ldi[d.id]||m&&C]);m=(q=d.complete&&!u)&&Number(d.getAttribute(\"data-iml\"))||0;q&&m?(r&&++t,m&&(d=m-window.start,r&&(c=Math.max(c,d)),f=Math.max(f,d))):L(d,r)}c||(c=a);f||(f=c);t==h&&B();google.rglh&&google.rglh();window.addEventListener(\"load\",function(){window.setTimeout(function(){b.ol=(new Date).getTime()-window.start;b.iml=f;var g=window.performance&&window.performance.timing;g&&(b.rqst=g.responseEnd-g.requestStart,b.rspt=\n",
       "g.responseEnd-g.responseStart);for(var p=g=0,D=0,E=0,F=0,N=0,k;k=H[N++];){var l=k[0],v=k[1],O=k[2];k=k[3];var P=0==l,w=l&8,G=l&4;l=1==l||2==l||w&&!G;!l||w||v&&!k||++D;v&&(l&&k&&++g,G&&!k&&++p);P||w?O||++F:v||++E}n+=\"&ime=\"+D+(\"&imex=\"+E+\"&imeh=\"+F)+(\"&imea=\"+g+\"&imeb=\"+p);K(I(\"all\",n,b))},0)},!1)})();}).call(this);})();</script><script nonce=\"89cUKwZoZgGY0uegXW+9mQ==\">function _setImagesSrc(e,c){function f(b){b.onerror=function(){b.style.display=\"none\"};b.src=c}for(var g=0,a=void 0;a=e[g++];){var d=document.getElementById(a)||document.querySelector('img[data-iid=\"'+a+'\"]');d?f(d):(window.google=window.google||{},google.iir=google.iir||{},google.iir[a]=c)}};</script><script nonce=\"89cUKwZoZgGY0uegXW+9mQ==\">(function(){var s='data:image/jpeg;base64,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';var i=['dimg_1'];_setImagesSrc(i,s);})();</script><script nonce=\"89cUKwZoZgGY0uegXW+9mQ==\">(function(){var s='data:image/jpeg;base64,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\\x3d';var i=['dimg_3'];_setImagesSrc(i,s);})();</script><script nonce=\"89cUKwZoZgGY0uegXW+9mQ==\">(function(){var s='data:image/jpeg;base64,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';var i=['dimg_7'];_setImagesSrc(i,s);})();</script><script nonce=\"89cUKwZoZgGY0uegXW+9mQ==\">(function(){var s='data:image/jpeg;base64,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\\x3d';var i=['dimg_11'];_setImagesSrc(i,s);})();</script><script nonce=\"89cUKwZoZgGY0uegXW+9mQ==\">(function(){var s='data:image/jpeg;base64,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\\x3d';var i=['dimg_17'];_setImagesSrc(i,s);})();</script><script nonce=\"89cUKwZoZgGY0uegXW+9mQ==\">(function(){var s='data:image/jpeg;base64,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\\x3d';var i=['dimg_19'];_setImagesSrc(i,s);})();</script><script nonce=\"89cUKwZoZgGY0uegXW+9mQ==\">(function(){var s='data:image/jpeg;base64,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';var i=['dimg_21'];_setImagesSrc(i,s);})();</script><script nonce=\"89cUKwZoZgGY0uegXW+9mQ==\">(function(){var s='data:image/jpeg;base64,/9j/4AAQSkZJRgABAQAAAQABAAD/2wCEAAkGBwgHBgkIBwgKCgkLDRYPDQwMDRsUFRAWIB0iIiAdHx8kKDQsJCYxJx8fLT0tMTU3Ojo6Iys/RD84QzQ5OjcBCgoKDQwNGg8PGjclHyU3Nzc3Nzc3Nzc3Nzc3Nzc3Nzc3Nzc3Nzc3Nzc3Nzc3Nzc3Nzc3Nzc3Nzc3Nzc3Nzc3N//AABEIAIAA6AMBIgACEQEDEQH/xAAbAAABBQEBAAAAAAAAAAAAAAACAQMEBQYAB//EAEAQAAEDAwIDBQUFBQcFAQAAAAEAAgMEBRESITFBUQYTImFxFDJCgZEjUqGxwTNictHhFSQ0Q0SC8BYmU5LxB//EABkBAAMBAQEAAAAAAAAAAAAAAAABAgMEBf/EACERAQACAgICAwEBAAAAAAAAAAABEQIDEiEEMRMyQVEi/9oADAMBAAIRAxEAPwDxfuCDu0hP919mVubt2dbPA4UuiR7cnEZ328vwWOkjfC0slY5jgdw4YKx15zlHfTozwxj0rWwku8lLjia3gAmmkEqQxPKSjGBtCYqtnBS2BNTR63D1WcT20rpOhAFKNfEpmcYY7AThOQxo4AIw0EbhRE1NtJ7VVLSPdMHnYA5Cum25tXPC0k6X7HHJIxrByWks0dFBEypkna+TOe7DSQ31IGyqc5mbZVGMItssbIZGPhiLsHBdy/Fbiki7uLAaG+WUcbIxGO706SMgjgU4AombSTCbI3TxTZ4pAoCTCMJEwHCEhOptyAbxulCUBKQgitKNA1EgOQlKUJKZETkTsJklcHYVQFg2UYTMr9lHEqbkkyECgTO3XJl7srkATRHUbljXDVsdeW5HIPG4A8+aC52SK4wd3VME2QS2RwAlb1eT8Q6LKWbtjHLIG3CAxvOxmh2BHQ45dVtIalksTdD45WSO8JacMld5/cA+i6qZ28uvfZ6otTw9hMtK/dkmN8dSOSrYl7BWsFRE/LO/1nDgRgzuHXyHXmsHdrGAHVNvIeBu+MDc9XNHQc1lnDXHL8UjV2ASlOy5vFZNTjQn2DIQxtJUmOMnChZ22U7pa6BobkawT6LS3a6R0392o2d9VSnRFGzmVT0tJcJnBlvpXO1DHfvOljeu/P0C1NjsENtcamd3tFa4YMrhgNHRo5D81URXbHZNykWGkqqG2xQVkzZZWji3l5KxXcVwUk4jZN806eCb+JICSJeSRMOIQlGUJQUhAXEIgEjkAjeKJCESCA5NlOOQFMwISURQkJgBJQklEUJTgGyuSkJEEwEvYy6Ujz7TG6IAZ1BuR9QpVPU19kbgyCWJww+PgS1eyU9Q140uaCDxBGVWXvsjbrxC8RfYTcWuaNvoFvGUxKahn7Bd6a6U2pjhocA14B8TejB5JLzSzRvNRT5EjThxZ8X7o8uvqs1W9mL52WrRW00L5IBs8wnVseeFprVe46ina17sDGBgYLBzYPP9Cr9pYe+Ucf8AjqRumNzsTRNG0T+g6jzVfE3K3d2pWQz99EwAHwvjbuC37o9OZWbrqBsMjZoADTyHbHBpHFqx2YV3DbXnfUmII9grW2W59ZVNhYCPvuI90Ju20UtXMIoWeLmeTR1W4t9DFb4O7j3c7d7vvLKqazl0kQQR0sLIo2gNaMDCXOV2crlNsbKFyF0jYxqkIa3qSq6pv9ug4ziR33Yxq/HgnQtZkpvO6z0/atgJEFKfV7lXzdoq55+zLIx1a3P5p8ZLk2nyKB8jI/fc1o/edhYGa41s37WqmPkHkD6BRi4u94k+pT4Dk38lxoo/fqov/ZRpL5bm/wCpz6NJWLA2SAbpxhBW2f8A1BQY8LpD6MTb+0VGOEcx/wBo/mstGCOCdwTxV/HBcpaNnaGlP+VN9B/NOC/0v/jl+g/msy1jcotPRLhA5S0gvlE74nj/AGpxtzo38Jm/PZZYgoCEcIHKWxbJHIMska70OURWMaS05aSD1ClwXOqgP7Uvb0k3S4HyaUoCodFc4qohjvBIeAPA+hU0qao7AkSrkBf078EY3HNWcMo0ZCz1JUNPHrz/AKqw9oDPCDk4z6LopK8ilDhggOB5FQ7l2cttyYPsvZ5Qctmi2IKbo5i4AkY/VWUU7PjwD5lL0bEXqwXC2xuMbPaabGMs95remPPmVjzLGJnQvw2J+xB+Dp6Afivc4pYyziFSX7sla7zG6QxiCrx4ZYx+fVOMv6mv2Gat1JDQ0jGQjiAS772eakZPHG3XCqrvFduzVtEUsbZA12ls2Mtxy/4UljnmqrS6fX31SXO987A8h5LDLHtUTbrhfYKIkCOWR/TQWj6lUNX2lrpsiIsp2fujJ+pVlPdYpKCWmvEZZVEOGjujjyIKq+y0Pe3djnjIjaS7P0/VERAn2rJ6iSoJdUSukOficmwvQnmOqbWwBjRoGjOOrf6rG2FgddqZrmg+PcH0VWJQRvwXLc3SCGSirY2Qxtc2HUMNGc4J/RQLFSwC2wGaKN7pZDguaD/zglyKmWyEuFb9pYo47mxsUbI2mNuzRjmd1cVENJZ6FjxRNm3DXOLQeXE5RZ0zEbBpO44IXDTuOCu76yhbEyekMQeXYc1h5J2KjppLAZ3wtMndlwdk55pxNFLPxnJ2TmfwV3ZbdTVFqdUTRB0jdZ1ZOdlHsFLDVVErahutrY8gZ4HIVxkVIMQyCjCtrzb6eGnZNSM04dpfunLzQU1LRMkhaQS8DjnkUrClcOiaIV9bLdA+j9qq924JAG2AOqKe20dXRvnotTSM4OTjbluly7FM6QkKLkhKog5IIIJBHukLWUkpmpYpHcXNyfVZukpX1UwjZkfed90LTtY2NjWMGA0YCjJcOKRcVyk2U7N1NaaieN1TK3QdtQyGrRS311A3Fa2MnbBY7j8uqytuqmUdwncHDw+vFVtXXyXG497O7LdXXIAXXTK3p1H2gZUtxTEahu4P2LB+8FZsna9ocZQ48eP/AD6LzmAvdJE2MdzE3m4+P681oo6owtDZXBg+Hbwu/qonFUS1cdyMBA+E8jt/89Fa0ly71vl0KxsDtcffTktjzsHcT/EpAuIcG5kxGNsO/Xqpo7a41MFwY6CeJkkR2c1wyCFjrx2Yns75bhZJx7NgvfTuaSFJZdZHtd7N9ixo3I3c70VhS1M3sEjoJ8ve05bK4EEpTAtl2mC+2cyzRaSGnHVpHQ9FX9iosmqlI2w1jT+J/RPdo66roo/Z+6jZ3rNyw8AegVTa71JbKV0McDXan6tTjvwWcxMdC15YKjv6+6b7Om1D03H5BVNsi7rtPox7sjzhQ7Tc3W2oklawSaxjBON05HddF4dcO5G+fBq54RQtpy/VeKiE7h9M04+Z/mozR7M+00nxDJd8m/1VTHeXSXhtYyDfuu7Mevl64S3B8tZWRVjbmaPS3S1kdL3hHzLhn6LTXoz2fWE57MMfcu7UguukYbuXRtAHnkhWVPX1VDCyK8QYjJ0NlBB+o+SrI7HVXeobN/aVzqHjhIKeOMD8UPaq1Pt1uc+uvFeZz/hY5DG7vX9AAM4HM/mtsvD2xFyyx8rXOVRKV2gtkEEbaqm8LXOw5g4eoUuI/wDax3/ySqSrvM1dbqeCaPQ5ozJjmQOSmWy80zKD2OtY4swW6mjII81yt1lY3hnZ94dt4ZTn6qv7LSf3mcjlGPzXVN3oobe6lt7D4gWjLSAAeJ3UKyV8NFLK6YP8bQBpGU49SLXrJfaaa5UoG8cjnN/P8/zS9oJCbdAMcZG/kVV0FxiiulRO7V3MpJwBupN2r6erpo2Qa/C/PibjkUV2L6WNOcdnDt/lu/Mpmmoon0euGqnDdO4BGM8wgtldTuofY6g6diAfvAqwjhZFSdzTcHZwX+aUzQY88+A3Uujtk1SNTh3cXNx4n0V5TWungAcR3kg+JykcDnmnOQiDMFPFTxhkTcDrzKcK4pCpUErkhKRAeazTaX1B1kk+EeLOU3QjRFrA3J4jcfNMtJ0zEcgeSda/+6xtA90cRxXbDBfGZ4pmNhGQ47uxlpP6Ka18tdimJJZEOR4fw+aprSXOcHNJLiNLADjT54V7rFHA2npi108hySBkE9VErhKNylpWmOXXUTYwxxbgtHn1QPrgWsp2BrppD/EcFRDUM0nA1PA1OJPAjiAEFp+1qnTHgCWsPADmkF1Vy9xTRU4djO4J4g8wQpvZi8RvqHUry5moZAcA3cceKzzpH11YSwEAdBgalBFRJQXRkuRkOzkbnz3Toreh322R3ChkaQ0SNbqjdsAF5q9hjkcx3vNOCvU4XtrKNrmkEObjJAOcrz3tBTGnuLyRs49MLOYVasHFG1uo4ABJQxtc9waxpLnYAaBvurV/ZC91AGDTwREe66Q6vnsr1actk3EWz2bccI/1NG6bu443YfG5w3e4uGydp7vQUsjZpJYZNJyGtmAyUrf/AM/ur4tJq6RjDv7zj8+CrKnszDbKljq6ZtWzJ0wU4OuoePgafug+87l6r0OWenH61DkiMNs9TctbL2wfTUUddPBBDTP2p4mO1SVDujcbAZ4u/VZGqqKu6V77ldJO8qH+60bNiA4NaOQR0FBPX3Waa9RzxVLWBsFOyPAjHINHJoU6OxXGT/T6fNzgFwbvLnbNR+OvX4fw9zHcq07pt3FaFnZqpP7SaJnpkqRH2ZgG808j/wCEBv8ANc3KG1MqNkcbHyO0xse9x5NblbOGzUEW7YA5w5v3UxjGRjDGBg6AYRyFMpR2WulwXQmJp5yHH4K8pOz8YH28pcejBgKzacp5vh4JcpFQZgpaen/YxMafvY3PzRuOSicU2Tug3dU09GhegjRSEriUJKDI5chcVyQeUDZr8Yy71Tof9iGkDfkSmCS0cz80sUmGNI9ccV3MFiagU4Y0Z1kfQeRSuryGFzCQ945n3cKrDy+TmDxyn4XfbBzhkDfdI1iyplbGI2EgykE8tirpr20VE1sZAkkHixxBHmqGnl1VHeuG4JDeeOike0Plk1TO8yCcj6JBfW4BgILm5O/DUQoN5InaCHZIPE4HHyT5lMdNtnGMcdPooT/tGOIGM53A/VINp2LrTPbO5eDriOkjSFMuMNJFJJLWiFlOGGR8k2MNwst2TqBHWEYGHjfAzkrayRQzuBliZKGjGh8exyiMOeXH+icuMcnnzu01kfM2aN1VTOY46BTRxtyOpJ3zj6ZTo7U0Dj4au/yA8Q2pDfyW8FPFCwudbaRu+wEYOfwUa+Xyg7PWs1dTS05qJP8AC0oYAZD1PRo6r0/hy1Yd5dPOnbG3L62x8l2pxRMr3vvLWaj3UM9e8uqnDkADs37zvkOKqaG9VxqX1L2n+0JMMaNGkQs5NYPhCdob7U1FS64S4nuM7vf0+GFvJrRyC1dDSSVNQLhcgHVWkNbtu0dT5rxfI8jLbPD8e14+nHRjGyfawoBUezsfWu11Lh4yeLfLKkkkocrsrCIqKGWU5TcuJQlKhcVUJIkXJQnRDYERKFpXEpgpKbJSkoCd0ApKQ8EhKTOyCAeKAoyms7oEEcuQuO65AeTPAxy58sJuIl0Q34I3E4PHn8SZBLdbRkYXYxSIsHf6J1uQN/qmafdmPNPHpz4IB6N+2nJxx323UyleZJGg7AHltsq4HfbiN+qm0eIozJI4bjADtz9EGn1MwJjjbu7Azp33Ccka8MDHk5xzPNRbezvZHSPI0jjrOFMnfrBEYwG8dIwMjzSBbRMY5GuOBpdqGenovQYpXS0hfDtMGeFxZz5LzeiyJMjccM5xt6rY2aqLYdLg04OOZS9TYY5/artNNUSsZXtj7lxa50gjbjB81ErJq3tBc3VFW4zzPDQ4tbgHGwDRyCsrvYnPv0ohhyZnaxttvxWqs1qhtseSdUxGC7H4BZ7d+eXVr16sMe6R7LYIqBrJJQDKBkN+7/VXQKRx2Qg7rmazNnspcpvKUFOiFlATuuyhJToWIJcpvK7KaToOyQuQByQlAEShJQkpCUAWUhOyElISgikpkndESm3ndBhcd0qbcd1yA//Z';var i=['dimg_23'];_setImagesSrc(i,s);})();</script><script nonce=\"89cUKwZoZgGY0uegXW+9mQ==\">(function(){var s='data:image/jpeg;base64,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\\x3d\\x3d';var i=['dimg_25'];_setImagesSrc(i,s);})();</script><script nonce=\"89cUKwZoZgGY0uegXW+9mQ==\">(function(){var s='data:image/jpeg;base64,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';var i=['dimg_27'];_setImagesSrc(i,s);})();</script><script nonce=\"89cUKwZoZgGY0uegXW+9mQ==\">(function(){var s='data:image/svg+xml;base64,PHN2ZyB4bWxucz0iaHR0cDovL3d3dy53My5vcmcvMjAwMC9zdmciIHdpZHRoPSIyNHB4IiBoZWlnaHQ9IjI0cHgiIHZpZXdCb3g9IjAgMCAyNCAyNCIgZmlsbD0iI0RGMkEwMCI+CiAgICA8cGF0aCBkPSJNMCAwaDI0djI0SDB6IiBmaWxsPSJub25lIi8+CiAgICA8cGF0aCBkPSJNMTIgMkM2LjQ4IDIgMiA2LjQ4IDIgMTJzNC40OCAxMCAxMCAxMCAxMC00LjQ4IDEwLTEwUzE3LjUyIDIgMTIgMnptLTEgMTcuOTNjLTMuOTUtLjQ5LTctMy44NS03LTcuOTMgMC0uNjIuMDgtMS4yMS4yMS0xLjc5TDkgMTV2MWMwIDEuMS45IDIgMiAydjEuOTN6bTYuOS0yLjU0Yy0uMjYtLjgxLTEtMS4zOS0xLjktMS4zOWgtMXYtM2MwLS41NS0uNDUtMS0xLTFIOHYtMmgyYy41NSAwIDEtLjQ1IDEtMVY3aDJjMS4xIDAgMi0uOSAyLTJ2LS40MWMyLjkzIDEuMTkgNSA0LjA2IDUgNy40MSAwIDIuMDgtLjggMy45Ny0yLjEgNS4zOXoiLz4KPC9zdmc+Cg\\x3d\\x3d';var i=['dimg_5','dimg_9','dimg_13'];_setImagesSrc(i,s);})();</script><script nonce=\"89cUKwZoZgGY0uegXW+9mQ==\">(function(){var s='data:image/png;base64,iVBORw0KGgoAAAANSUhEUgAAABgAAAAYAgMAAACdGdVrAAAADFBMVEVMaXFChfRChfRChfT0tCPZAAAAA3RSTlMAgFJEkGxNAAAAL0lEQVR4AWPADxgdwBT3BTDF9AUiuhdC6WNK/v///y+UggrClSA07EWVglmEFwAA5eYSExeCwigAAAAASUVORK5CYII\\x3d';var i=['dimg_15'];_setImagesSrc(i,s);})();</script><script nonce=\"89cUKwZoZgGY0uegXW+9mQ==\">(function(){var e='-XdbXpuDEdKQr7wP0ru18AU';(function(){\n",
       "var a=e,b=window.performance&&window.performance.navigation;b&&2==b.type&&window.ping(\"/gen_204?ct=backbutton&ei=\"+a);}).call(this);})();(function(){\n",
       "var b=[function(){google.tick&&google.tick(\"load\",\"dcl\")}];google.dclc=function(a){b.length?b.push(a):a()};function c(){for(var a;a=b.shift();)a()}window.addEventListener?(document.addEventListener(\"DOMContentLoaded\",c,!1),window.addEventListener(\"load\",c,!1)):window.attachEvent&&window.attachEvent(\"onload\",c);}).call(this);(function(){(function(){google.csct={};google.csct.ps='AOvVaw1fK7YgiPafpDb7fcVbQk5M\\x26ust\\x3d1583139193315206';})();})();(function(){(function(){google.csct.rd=true;})();})();google.drty&&google.drty();</script></body></html>"
      ]
     },
     "execution_count": 384,
     "metadata": {},
     "output_type": "execute_result"
    }
   ],
   "source": [
    "soup"
   ]
  },
  {
   "cell_type": "code",
   "execution_count": 385,
   "metadata": {},
   "outputs": [],
   "source": [
    "title = soup.find_all(\"div\", class_=\"BNeawe s3v9rd AP7Wnd\")"
   ]
  },
  {
   "cell_type": "code",
   "execution_count": 386,
   "metadata": {},
   "outputs": [
    {
     "data": {
      "text/plain": [
       "[<div class=\"BNeawe s3v9rd AP7Wnd\"><span class=\"rQMQod Xb5VRe\">武漢肺炎台灣新增一確診 為鑽石公主號返台旅客【更新】</span></div>,\n",
       " <div class=\"BNeawe s3v9rd AP7Wnd\"><span class=\"rQMQod Xb5VRe\">美國哪個州武漢肺炎疫情恐最先失控？答案一面倒：還用想| 新奇</span></div>,\n",
       " <div class=\"BNeawe s3v9rd AP7Wnd\"><span class=\"rQMQod Xb5VRe\">武漢肺炎確診者痊癒又陽性 可能原因有2種</span></div>,\n",
       " <div class=\"BNeawe s3v9rd AP7Wnd\"><span class=\"rQMQod Xb5VRe\">武漢肺炎》中國旅遊業重創「簽證龍頭」百程旅行網倒閉</span></div>,\n",
       " <div class=\"BNeawe s3v9rd AP7Wnd\"><span class=\"rQMQod Xb5VRe\">法國武漢肺炎確診破百 疫情未解總理拋退休改革震撼彈</span></div>,\n",
       " <div class=\"BNeawe s3v9rd AP7Wnd\"><span class=\"rQMQod Xb5VRe\">武漢肺炎》南韓單日增586確診！ 全球確診87195例 死亡2981例</span></div>,\n",
       " <div class=\"BNeawe s3v9rd AP7Wnd\"><span class=\"rQMQod Xb5VRe\">武漢肺炎》台灣新增5例 醫師曝「關鍵10件事」別像韓國暴增</span></div>,\n",
       " <div class=\"BNeawe s3v9rd AP7Wnd\"><span class=\"rQMQod Xb5VRe\">武漢肺炎》贏家變輸家！ 越南限制南韓入境 料衝擊多間韓企</span></div>,\n",
       " <div class=\"BNeawe s3v9rd AP7Wnd\"><span class=\"rQMQod Xb5VRe\">武漢肺炎》「社區傳播」要件已達一半！指揮中心：確實是警訊| 社會</span></div>,\n",
       " <div class=\"BNeawe s3v9rd AP7Wnd\"><span class=\"rQMQod Xb5VRe\">武漢肺炎／台灣首例院內感染！一天增5名確診，其中3名是護理人員，總確診到39例</span></div>,\n",
       " <div class=\"BNeawe s3v9rd AP7Wnd\">Clean hands with soap and water or alcohol-based hand rub</div>,\n",
       " <div class=\"BNeawe s3v9rd AP7Wnd\">Cover nose and mouth when coughing and sneezing with tissue or flexed elbow</div>,\n",
       " <div class=\"BNeawe s3v9rd AP7Wnd\">Avoid close contact with anyone with cold or flu-like symptoms</div>,\n",
       " <div class=\"BNeawe s3v9rd AP7Wnd\">Thoroughly cook meat and eggs</div>,\n",
       " <div class=\"BNeawe s3v9rd AP7Wnd\">Avoid unprotected contact with live animals</div>,\n",
       " <div class=\"BNeawe s3v9rd AP7Wnd\"><div><div><div class=\"BNeawe s3v9rd AP7Wnd\"><span class=\"r0bn4c rQMQod\">3 小時前</span><span class=\"r0bn4c rQMQod\"> · </span>日本北海道政府今天表示，一名確診武漢肺炎的70多歲男性死亡，是北海道內第3起死亡案例。由於死者1月17日就已住院，醫院方面認為有可能是在 ...</div></div></div></div>,\n",
       " <div class=\"BNeawe s3v9rd AP7Wnd\"><span class=\"r0bn4c rQMQod\">3 小時前</span><span class=\"r0bn4c rQMQod\"> · </span>日本北海道政府今天表示，一名確診武漢肺炎的70多歲男性死亡，是北海道內第3起死亡案例。由於死者1月17日就已住院，醫院方面認為有可能是在 ...</div>,\n",
       " <div class=\"BNeawe s3v9rd AP7Wnd\"><div><div><div class=\"BNeawe s3v9rd AP7Wnd\"><span class=\"r0bn4c rQMQod\">2 小時前</span><span class=\"r0bn4c rQMQod\"> · </span>一名因確診武漢肺炎留置日本的鑽石公主號旅客，痊癒後回台又確診。專家張上淳今天說，國內外報告發現，有些病人採檢會時陰時陽，包含採檢 ...</div></div></div></div>,\n",
       " <div class=\"BNeawe s3v9rd AP7Wnd\"><span class=\"r0bn4c rQMQod\">2 小時前</span><span class=\"r0bn4c rQMQod\"> · </span>一名因確診武漢肺炎留置日本的鑽石公主號旅客，痊癒後回台又確診。專家張上淳今天說，國內外報告發現，有些病人採檢會時陰時陽，包含採檢 ...</div>,\n",
       " <div class=\"BNeawe s3v9rd AP7Wnd\"><div><div><div class=\"BNeawe s3v9rd AP7Wnd\"><span class=\"r0bn4c rQMQod\">3 小時前</span><span class=\"r0bn4c rQMQod\"> · </span>中央流行疫情指揮中心今日公布國內第40例武漢肺炎確定病例，為北部70多歲女性； 個案為先前鑽石公主號經日方檢驗陽性後住院者，後經2次採檢 ...</div></div></div></div>,\n",
       " <div class=\"BNeawe s3v9rd AP7Wnd\"><span class=\"r0bn4c rQMQod\">3 小時前</span><span class=\"r0bn4c rQMQod\"> · </span>中央流行疫情指揮中心今日公布國內第40例武漢肺炎確定病例，為北部70多歲女性； 個案為先前鑽石公主號經日方檢驗陽性後住院者，後經2次採檢 ...</div>,\n",
       " <div class=\"BNeawe s3v9rd AP7Wnd\"><div><div><div class=\"BNeawe s3v9rd AP7Wnd\"><span class=\"r0bn4c rQMQod\">3 小時前</span><span class=\"r0bn4c rQMQod\"> · </span>韓國新型冠狀病毒疫情最嚴重的大邱廣域市，目前共有2569人確診感染武漢肺炎， 其中竟然有1662人還在居家隔離等病床空出來才能住院，大邱 ...</div></div></div></div>,\n",
       " <div class=\"BNeawe s3v9rd AP7Wnd\"><span class=\"r0bn4c rQMQod\">3 小時前</span><span class=\"r0bn4c rQMQod\"> · </span>韓國新型冠狀病毒疫情最嚴重的大邱廣域市，目前共有2569人確診感染武漢肺炎， 其中竟然有1662人還在居家隔離等病床空出來才能住院，大邱 ...</div>,\n",
       " <div class=\"BNeawe s3v9rd AP7Wnd\"><div><div><div class=\"BNeawe s3v9rd AP7Wnd\">肺炎疫情：美國西海岸無法確定病源病例引發恐憂. 美國西海岸新增三例無法確定病源病例， 英國又增三個新病例。新冠病毒感染人數繼續攀升，疫情仍在發酵.</div></div></div></div>,\n",
       " <div class=\"BNeawe s3v9rd AP7Wnd\">肺炎疫情：美國西海岸無法確定病源病例引發恐憂. 美國西海岸新增三例無法確定病源病例， 英國又增三個新病例。新冠病毒感染人數繼續攀升，疫情仍在發酵.</div>,\n",
       " <div class=\"BNeawe s3v9rd AP7Wnd\"><div><div><div class=\"BNeawe s3v9rd AP7Wnd\"><span class=\"r0bn4c rQMQod\">2020年2月11日</span><span class=\"r0bn4c rQMQod\"> · </span>新型冠狀病毒疫情如何從武漢蔓延至全世界？中國當局在疫情爆發初期又做了哪些應對措施？BBC按照時間為你詳細拆解。</div></div></div></div>,\n",
       " <div class=\"BNeawe s3v9rd AP7Wnd\"><span class=\"r0bn4c rQMQod\">2020年2月11日</span><span class=\"r0bn4c rQMQod\"> · </span>新型冠狀病毒疫情如何從武漢蔓延至全世界？中國當局在疫情爆發初期又做了哪些應對措施？BBC按照時間為你詳細拆解。</div>,\n",
       " <div class=\"BNeawe s3v9rd AP7Wnd\"><div><div><div class=\"BNeawe s3v9rd AP7Wnd\">2019冠狀病毒病疫情，是指嚴重急性呼吸系統綜合症冠狀病毒2型(簡稱：武漢肺炎） 於2019年首次於中國湖北省武漢市大規模爆發傳染後，引發2019冠狀病毒病流行致 ...</div></div></div></div>,\n",
       " <div class=\"BNeawe s3v9rd AP7Wnd\">2019冠狀病毒病疫情，是指嚴重急性呼吸系統綜合症冠狀病毒2型(簡稱：武漢肺炎） 於2019年首次於中國湖北省武漢市大規模爆發傳染後，引發2019冠狀病毒病流行致 ...</div>,\n",
       " <div class=\"BNeawe s3v9rd AP7Wnd\"><div><div><div class=\"BNeawe s3v9rd AP7Wnd\"><span class=\"r0bn4c rQMQod\">3 天前</span><span class=\"r0bn4c rQMQod\"> · </span>COVID-19（武漢肺炎）疫情發展瞬息萬變，《報導者》串接即時更新的病例資料庫，以多媒體地圖、圖表解釋疫情最新發展，更看見台灣本土防疫和科研 ...</div></div></div></div>,\n",
       " <div class=\"BNeawe s3v9rd AP7Wnd\"><span class=\"r0bn4c rQMQod\">3 天前</span><span class=\"r0bn4c rQMQod\"> · </span>COVID-19（武漢肺炎）疫情發展瞬息萬變，《報導者》串接即時更新的病例資料庫，以多媒體地圖、圖表解釋疫情最新發展，更看見台灣本土防疫和科研 ...</div>,\n",
       " <div class=\"BNeawe s3v9rd AP7Wnd\"><div><div><div class=\"BNeawe s3v9rd AP7Wnd\">近來引發關注的中國大陸武漢不明原因肺炎，根據中國大陸提供的資訊，病原體初步判定為新型冠狀病毒，它與過往的SARS、MERS又有什麼不同？我們該如何預防？</div></div></div></div>,\n",
       " <div class=\"BNeawe s3v9rd AP7Wnd\">近來引發關注的中國大陸武漢不明原因肺炎，根據中國大陸提供的資訊，病原體初步判定為新型冠狀病毒，它與過往的SARS、MERS又有什麼不同？我們該如何預防？</div>]"
      ]
     },
     "execution_count": 386,
     "metadata": {},
     "output_type": "execute_result"
    }
   ],
   "source": [
    "title"
   ]
  },
  {
   "cell_type": "code",
   "execution_count": 387,
   "metadata": {},
   "outputs": [],
   "source": [
    "title = soup.find_all(\"span\", class_ = \"rQMQod Xb5VRe\")"
   ]
  },
  {
   "cell_type": "code",
   "execution_count": 388,
   "metadata": {},
   "outputs": [
    {
     "data": {
      "text/plain": [
       "[<span class=\"rQMQod Xb5VRe\">武漢肺炎台灣新增一確診 為鑽石公主號返台旅客【更新】</span>,\n",
       " <span class=\"rQMQod Xb5VRe\">美國哪個州武漢肺炎疫情恐最先失控？答案一面倒：還用想| 新奇</span>,\n",
       " <span class=\"rQMQod Xb5VRe\">武漢肺炎確診者痊癒又陽性 可能原因有2種</span>,\n",
       " <span class=\"rQMQod Xb5VRe\">武漢肺炎》中國旅遊業重創「簽證龍頭」百程旅行網倒閉</span>,\n",
       " <span class=\"rQMQod Xb5VRe\">法國武漢肺炎確診破百 疫情未解總理拋退休改革震撼彈</span>,\n",
       " <span class=\"rQMQod Xb5VRe\">武漢肺炎》南韓單日增586確診！ 全球確診87195例 死亡2981例</span>,\n",
       " <span class=\"rQMQod Xb5VRe\">武漢肺炎》台灣新增5例 醫師曝「關鍵10件事」別像韓國暴增</span>,\n",
       " <span class=\"rQMQod Xb5VRe\">武漢肺炎》贏家變輸家！ 越南限制南韓入境 料衝擊多間韓企</span>,\n",
       " <span class=\"rQMQod Xb5VRe\">武漢肺炎》「社區傳播」要件已達一半！指揮中心：確實是警訊| 社會</span>,\n",
       " <span class=\"rQMQod Xb5VRe\">武漢肺炎／台灣首例院內感染！一天增5名確診，其中3名是護理人員，總確診到39例</span>]"
      ]
     },
     "execution_count": 388,
     "metadata": {},
     "output_type": "execute_result"
    }
   ],
   "source": [
    "title"
   ]
  },
  {
   "cell_type": "code",
   "execution_count": 389,
   "metadata": {},
   "outputs": [],
   "source": [
    "T = [t.text for t in title]"
   ]
  },
  {
   "cell_type": "code",
   "execution_count": 390,
   "metadata": {},
   "outputs": [
    {
     "data": {
      "text/plain": [
       "['武漢肺炎台灣新增一確診 為鑽石公主號返台旅客【更新】',\n",
       " '美國哪個州武漢肺炎疫情恐最先失控？答案一面倒：還用想| 新奇',\n",
       " '武漢肺炎確診者痊癒又陽性 可能原因有2種',\n",
       " '武漢肺炎》中國旅遊業重創「簽證龍頭」百程旅行網倒閉',\n",
       " '法國武漢肺炎確診破百 疫情未解總理拋退休改革震撼彈',\n",
       " '武漢肺炎》南韓單日增586確診！ 全球確診87195例 死亡2981例',\n",
       " '武漢肺炎》台灣新增5例 醫師曝「關鍵10件事」別像韓國暴增',\n",
       " '武漢肺炎》贏家變輸家！ 越南限制南韓入境 料衝擊多間韓企',\n",
       " '武漢肺炎》「社區傳播」要件已達一半！指揮中心：確實是警訊| 社會',\n",
       " '武漢肺炎／台灣首例院內感染！一天增5名確診，其中3名是護理人員，總確診到39例']"
      ]
     },
     "execution_count": 390,
     "metadata": {},
     "output_type": "execute_result"
    }
   ],
   "source": [
    "T"
   ]
  },
  {
   "cell_type": "code",
   "execution_count": 391,
   "metadata": {},
   "outputs": [],
   "source": [
    "Link = soup.find_all(\"a\",class_=\"BVG0Nb\")"
   ]
  },
  {
   "cell_type": "code",
   "execution_count": 392,
   "metadata": {},
   "outputs": [],
   "source": [
    "L = [l[\"href\"] for l in Link]"
   ]
  },
  {
   "cell_type": "code",
   "execution_count": 393,
   "metadata": {},
   "outputs": [
    {
     "data": {
      "text/plain": [
       "['/url?q=https://www.cna.com.tw/news/firstnews/202003015002.aspx&sa=U&ved=2ahUKEwjb452b8_jnAhVSyIsBHdJdDV4Q0PADMAF6BAgGEAI&usg=AOvVaw11eBGxISCdw8x8Pnih_DiJ',\n",
       " '/url?q=https://www.nownews.com/news/20200301/3963308/&sa=U&ved=2ahUKEwjb452b8_jnAhVSyIsBHdJdDV4Q0PADMAJ6BAgGEAY&usg=AOvVaw0GeTCV2SepNoMYXS-Hf1xc',\n",
       " '/url?q=https://www.cna.com.tw/news/firstnews/202003010118.aspx&sa=U&ved=2ahUKEwjb452b8_jnAhVSyIsBHdJdDV4Q0PADMAN6BAgGEAo&usg=AOvVaw3RLsVxjvXOOKU6TX7Ath3j',\n",
       " '/url?q=https://ec.ltn.com.tw/article/breakingnews/3084856&sa=U&ved=2ahUKEwjb452b8_jnAhVSyIsBHdJdDV4Q0PADMAR6BAgGEA4&usg=AOvVaw1fecW4MJUnHeZxOnkCtiGP',\n",
       " '/url?q=https://www.cna.com.tw/news/firstnews/202003010016.aspx&sa=U&ved=2ahUKEwjb452b8_jnAhVSyIsBHdJdDV4Q0PADMAV6BAgGEBI&usg=AOvVaw2pHPXRNzU0ab2X-wEpZoV3',\n",
       " '/url?q=https://news.ltn.com.tw/news/world/breakingnews/3084522&sa=U&ved=2ahUKEwjb452b8_jnAhVSyIsBHdJdDV4Q0PADMAZ6BAgGEBY&usg=AOvVaw1Is4F_FRD4fvqoQOBIzSxN',\n",
       " '/url?q=https://news.ltn.com.tw/news/life/breakingnews/3084490&sa=U&ved=2ahUKEwjb452b8_jnAhVSyIsBHdJdDV4Q0PADMAd6BAgGEBo&usg=AOvVaw0lZNVUEycoK0eETnZ2ySnf',\n",
       " '/url?q=https://ec.ltn.com.tw/article/breakingnews/3084431&sa=U&ved=2ahUKEwjb452b8_jnAhVSyIsBHdJdDV4Q0PADMAh6BAgGEB4&usg=AOvVaw1kX6rRjJdw2-n6Zr1rxTNc',\n",
       " '/url?q=https://newtalk.tw/news/view/2020-02-29/373520&sa=U&ved=2ahUKEwjb452b8_jnAhVSyIsBHdJdDV4Q0PADMAl6BAgGECI&usg=AOvVaw3xIEWN2Ra1j30-yqp5iOXI',\n",
       " '/url?q=https://heho.com.tw/archives/71357&sa=U&ved=2ahUKEwjb452b8_jnAhVSyIsBHdJdDV4Q0PADMAp6BAgGECY&usg=AOvVaw3PlgTt-RMSNeFZJqyW7ayf']"
      ]
     },
     "execution_count": 393,
     "metadata": {},
     "output_type": "execute_result"
    }
   ],
   "source": [
    "L"
   ]
  },
  {
   "cell_type": "code",
   "execution_count": 394,
   "metadata": {},
   "outputs": [
    {
     "data": {
      "text/plain": [
       "(6, 62)"
      ]
     },
     "execution_count": 394,
     "metadata": {},
     "output_type": "execute_result"
    }
   ],
   "source": [
    "L[0].find(\"=\") , L[0].find(\"&sa\")"
   ]
  },
  {
   "cell_type": "code",
   "execution_count": 395,
   "metadata": {},
   "outputs": [
    {
     "data": {
      "text/plain": [
       "'https://www.cna.com.tw/news/firstnews/202003010118'"
      ]
     },
     "execution_count": 395,
     "metadata": {},
     "output_type": "execute_result"
    }
   ],
   "source": [
    "L[2][7:57]"
   ]
  },
  {
   "cell_type": "code",
   "execution_count": 396,
   "metadata": {},
   "outputs": [],
   "source": [
    "link = list()\n",
    "for i in range(len(L)):\n",
    "    lb = L[i].find(\"=\")\n",
    "    ub = L[i].find(\"&sa\")\n",
    "    link.append(L[i][lb+1:ub])\n",
    "    "
   ]
  },
  {
   "cell_type": "code",
   "execution_count": 397,
   "metadata": {},
   "outputs": [
    {
     "data": {
      "text/plain": [
       "['https://www.cna.com.tw/news/firstnews/202003015002.aspx',\n",
       " 'https://www.nownews.com/news/20200301/3963308/',\n",
       " 'https://www.cna.com.tw/news/firstnews/202003010118.aspx',\n",
       " 'https://ec.ltn.com.tw/article/breakingnews/3084856',\n",
       " 'https://www.cna.com.tw/news/firstnews/202003010016.aspx',\n",
       " 'https://news.ltn.com.tw/news/world/breakingnews/3084522',\n",
       " 'https://news.ltn.com.tw/news/life/breakingnews/3084490',\n",
       " 'https://ec.ltn.com.tw/article/breakingnews/3084431',\n",
       " 'https://newtalk.tw/news/view/2020-02-29/373520',\n",
       " 'https://heho.com.tw/archives/71357']"
      ]
     },
     "execution_count": 397,
     "metadata": {},
     "output_type": "execute_result"
    }
   ],
   "source": [
    "link"
   ]
  },
  {
   "cell_type": "code",
   "execution_count": 398,
   "metadata": {},
   "outputs": [],
   "source": [
    "D_L = dict(zip(T,link))"
   ]
  },
  {
   "cell_type": "code",
   "execution_count": 399,
   "metadata": {},
   "outputs": [
    {
     "data": {
      "text/plain": [
       "{'武漢肺炎台灣新增一確診 為鑽石公主號返台旅客【更新】': 'https://www.cna.com.tw/news/firstnews/202003015002.aspx',\n",
       " '美國哪個州武漢肺炎疫情恐最先失控？答案一面倒：還用想| 新奇': 'https://www.nownews.com/news/20200301/3963308/',\n",
       " '武漢肺炎確診者痊癒又陽性 可能原因有2種': 'https://www.cna.com.tw/news/firstnews/202003010118.aspx',\n",
       " '武漢肺炎》中國旅遊業重創「簽證龍頭」百程旅行網倒閉': 'https://ec.ltn.com.tw/article/breakingnews/3084856',\n",
       " '法國武漢肺炎確診破百 疫情未解總理拋退休改革震撼彈': 'https://www.cna.com.tw/news/firstnews/202003010016.aspx',\n",
       " '武漢肺炎》南韓單日增586確診！ 全球確診87195例 死亡2981例': 'https://news.ltn.com.tw/news/world/breakingnews/3084522',\n",
       " '武漢肺炎》台灣新增5例 醫師曝「關鍵10件事」別像韓國暴增': 'https://news.ltn.com.tw/news/life/breakingnews/3084490',\n",
       " '武漢肺炎》贏家變輸家！ 越南限制南韓入境 料衝擊多間韓企': 'https://ec.ltn.com.tw/article/breakingnews/3084431',\n",
       " '武漢肺炎》「社區傳播」要件已達一半！指揮中心：確實是警訊| 社會': 'https://newtalk.tw/news/view/2020-02-29/373520',\n",
       " '武漢肺炎／台灣首例院內感染！一天增5名確診，其中3名是護理人員，總確診到39例': 'https://heho.com.tw/archives/71357'}"
      ]
     },
     "execution_count": 399,
     "metadata": {},
     "output_type": "execute_result"
    }
   ],
   "source": [
    "D_L"
   ]
  },
  {
   "cell_type": "code",
   "execution_count": 400,
   "metadata": {},
   "outputs": [],
   "source": [
    "X = pd.DataFrame.from_dict(D_L, orient = \"index\",columns =[\"link\"] )"
   ]
  },
  {
   "cell_type": "code",
   "execution_count": 401,
   "metadata": {},
   "outputs": [],
   "source": [
    "X = X.reset_index().rename(columns = {\"index\":\"title\"})"
   ]
  },
  {
   "cell_type": "code",
   "execution_count": 402,
   "metadata": {},
   "outputs": [
    {
     "data": {
      "text/html": [
       "<div>\n",
       "<style scoped>\n",
       "    .dataframe tbody tr th:only-of-type {\n",
       "        vertical-align: middle;\n",
       "    }\n",
       "\n",
       "    .dataframe tbody tr th {\n",
       "        vertical-align: top;\n",
       "    }\n",
       "\n",
       "    .dataframe thead th {\n",
       "        text-align: right;\n",
       "    }\n",
       "</style>\n",
       "<table border=\"1\" class=\"dataframe\">\n",
       "  <thead>\n",
       "    <tr style=\"text-align: right;\">\n",
       "      <th></th>\n",
       "      <th>title</th>\n",
       "      <th>link</th>\n",
       "    </tr>\n",
       "  </thead>\n",
       "  <tbody>\n",
       "    <tr>\n",
       "      <td>0</td>\n",
       "      <td>武漢肺炎台灣新增一確診 為鑽石公主號返台旅客【更新】</td>\n",
       "      <td>https://www.cna.com.tw/news/firstnews/20200301...</td>\n",
       "    </tr>\n",
       "    <tr>\n",
       "      <td>1</td>\n",
       "      <td>美國哪個州武漢肺炎疫情恐最先失控？答案一面倒：還用想| 新奇</td>\n",
       "      <td>https://www.nownews.com/news/20200301/3963308/</td>\n",
       "    </tr>\n",
       "    <tr>\n",
       "      <td>2</td>\n",
       "      <td>武漢肺炎確診者痊癒又陽性 可能原因有2種</td>\n",
       "      <td>https://www.cna.com.tw/news/firstnews/20200301...</td>\n",
       "    </tr>\n",
       "    <tr>\n",
       "      <td>3</td>\n",
       "      <td>武漢肺炎》中國旅遊業重創「簽證龍頭」百程旅行網倒閉</td>\n",
       "      <td>https://ec.ltn.com.tw/article/breakingnews/308...</td>\n",
       "    </tr>\n",
       "    <tr>\n",
       "      <td>4</td>\n",
       "      <td>法國武漢肺炎確診破百 疫情未解總理拋退休改革震撼彈</td>\n",
       "      <td>https://www.cna.com.tw/news/firstnews/20200301...</td>\n",
       "    </tr>\n",
       "    <tr>\n",
       "      <td>5</td>\n",
       "      <td>武漢肺炎》南韓單日增586確診！ 全球確診87195例 死亡2981例</td>\n",
       "      <td>https://news.ltn.com.tw/news/world/breakingnew...</td>\n",
       "    </tr>\n",
       "    <tr>\n",
       "      <td>6</td>\n",
       "      <td>武漢肺炎》台灣新增5例 醫師曝「關鍵10件事」別像韓國暴增</td>\n",
       "      <td>https://news.ltn.com.tw/news/life/breakingnews...</td>\n",
       "    </tr>\n",
       "    <tr>\n",
       "      <td>7</td>\n",
       "      <td>武漢肺炎》贏家變輸家！ 越南限制南韓入境 料衝擊多間韓企</td>\n",
       "      <td>https://ec.ltn.com.tw/article/breakingnews/308...</td>\n",
       "    </tr>\n",
       "    <tr>\n",
       "      <td>8</td>\n",
       "      <td>武漢肺炎》「社區傳播」要件已達一半！指揮中心：確實是警訊| 社會</td>\n",
       "      <td>https://newtalk.tw/news/view/2020-02-29/373520</td>\n",
       "    </tr>\n",
       "    <tr>\n",
       "      <td>9</td>\n",
       "      <td>武漢肺炎／台灣首例院內感染！一天增5名確診，其中3名是護理人員，總確診到39例</td>\n",
       "      <td>https://heho.com.tw/archives/71357</td>\n",
       "    </tr>\n",
       "  </tbody>\n",
       "</table>\n",
       "</div>"
      ],
      "text/plain": [
       "                                     title  \\\n",
       "0               武漢肺炎台灣新增一確診 為鑽石公主號返台旅客【更新】   \n",
       "1           美國哪個州武漢肺炎疫情恐最先失控？答案一面倒：還用想| 新奇   \n",
       "2                     武漢肺炎確診者痊癒又陽性 可能原因有2種   \n",
       "3                武漢肺炎》中國旅遊業重創「簽證龍頭」百程旅行網倒閉   \n",
       "4                法國武漢肺炎確診破百 疫情未解總理拋退休改革震撼彈   \n",
       "5      武漢肺炎》南韓單日增586確診！ 全球確診87195例 死亡2981例   \n",
       "6            武漢肺炎》台灣新增5例 醫師曝「關鍵10件事」別像韓國暴增   \n",
       "7             武漢肺炎》贏家變輸家！ 越南限制南韓入境 料衝擊多間韓企   \n",
       "8         武漢肺炎》「社區傳播」要件已達一半！指揮中心：確實是警訊| 社會   \n",
       "9  武漢肺炎／台灣首例院內感染！一天增5名確診，其中3名是護理人員，總確診到39例   \n",
       "\n",
       "                                                link  \n",
       "0  https://www.cna.com.tw/news/firstnews/20200301...  \n",
       "1     https://www.nownews.com/news/20200301/3963308/  \n",
       "2  https://www.cna.com.tw/news/firstnews/20200301...  \n",
       "3  https://ec.ltn.com.tw/article/breakingnews/308...  \n",
       "4  https://www.cna.com.tw/news/firstnews/20200301...  \n",
       "5  https://news.ltn.com.tw/news/world/breakingnew...  \n",
       "6  https://news.ltn.com.tw/news/life/breakingnews...  \n",
       "7  https://ec.ltn.com.tw/article/breakingnews/308...  \n",
       "8     https://newtalk.tw/news/view/2020-02-29/373520  \n",
       "9                 https://heho.com.tw/archives/71357  "
      ]
     },
     "execution_count": 402,
     "metadata": {},
     "output_type": "execute_result"
    }
   ],
   "source": [
    "X"
   ]
  },
  {
   "cell_type": "code",
   "execution_count": 403,
   "metadata": {},
   "outputs": [],
   "source": [
    "## As example"
   ]
  },
  {
   "cell_type": "code",
   "execution_count": 404,
   "metadata": {},
   "outputs": [
    {
     "data": {
      "text/plain": [
       "'https://www.cna.com.tw/news/firstnews/202003015002.aspx'"
      ]
     },
     "execution_count": 404,
     "metadata": {},
     "output_type": "execute_result"
    }
   ],
   "source": [
    "X[\"link\"][0]"
   ]
  },
  {
   "cell_type": "code",
   "execution_count": 405,
   "metadata": {},
   "outputs": [],
   "source": [
    "r = requests.get(X[\"link\"][0])"
   ]
  },
  {
   "cell_type": "code",
   "execution_count": 406,
   "metadata": {},
   "outputs": [],
   "source": [
    "r = r.text"
   ]
  },
  {
   "cell_type": "code",
   "execution_count": 407,
   "metadata": {},
   "outputs": [],
   "source": [
    "soup = BeautifulSoup(r, \"html.parser\")"
   ]
  },
  {
   "cell_type": "code",
   "execution_count": 408,
   "metadata": {},
   "outputs": [],
   "source": [
    "cont = soup.find_all(\"p\")"
   ]
  },
  {
   "cell_type": "code",
   "execution_count": 409,
   "metadata": {},
   "outputs": [],
   "source": [
    "C = [c.text for c in cont]"
   ]
  },
  {
   "cell_type": "code",
   "execution_count": 410,
   "metadata": {},
   "outputs": [
    {
     "data": {
      "text/plain": [
       "['（中央社記者陳偉婷台北1日電）疫情指揮中心今天宣布，台灣新增一例武漢肺炎確診病例，為鑽石公主號返台旅客，北部70多歲女性。1090301',\n",
       " '鑽石公主號旅客返台確診 研判境外移入',\n",
       " '（中央社記者陳偉婷台北1日電）中央流行疫情指揮中心指揮官陳時中今天宣布，鑽石公主號返台旅客一人確診，為北部70多歲女性，先前經日方檢驗陽性後住院，2月26日返台後再度採檢而確診。研判為境外感染。',\n",
       " '陳時中下午在記者會公布國內第40例COVID-19（武漢肺炎）確定病例，為北部70多歲女性。',\n",
       " '指揮中心說明，個案於1月20日自日本參加鑽石公主號旅遊，2月4日抵達日本後持續留置船上，15日檢驗陽性（當時無呼吸道症狀），隔日安排住院隔離。個案25日經2次採檢陰性，於26日搭機返台。',\n",
       " '陳時中說，個案返台搭機時，全程配戴口罩，座位前後2排皆無安排其他旅客；抵台後，也由專人協助完成入境檢疫作業程序，由救護車載送醫院進行隔離採檢；經3次採檢，於今天確診。',\n",
       " '返台至今，個案的接觸者，包含入境檢疫、醫院相關醫護人員等，皆有完善防護裝備，無須採檢。',\n",
       " '指揮中心表示，與個案同遊的丈夫，2月7日曾經日方檢驗為陰性，目前仍在日本飯店進行隔離中。',\n",
       " '陳時中說，此個案從日本回國後就有嚴密隔離防護，對境內沒有威脅，研判為境外移入個案。（編輯：管中維）1090301',\n",
       " '武漢肺炎台灣確診40例 已12人解除隔離',\n",
       " '（中央社記者陳偉婷、張雄風台北1日電）中央流行疫情指揮中心今天宣布，台灣目前有40名COVID-19（武漢肺炎）確診個案，累計12人解除隔離。',\n",
       " '中央流行疫情指揮中心指揮官陳時中下午在記者會宣布，台灣目前40名確診（今日新增案40），其中1名死亡、12名解除隔離、其餘個案持續住院中，狀況穩定。',\n",
       " '新增的解除隔離者為案7（女陸客）、9（有武漢工作史台商之妻）、16（澳門境外移入）。',\n",
       " '指揮中心表示，針對北部80餘歲老翁群聚事件，截至目前已掌握接觸者820人，並採檢183人，其中5人陽性（案28至32）、177人陰性，其餘檢驗中。',\n",
       " '另一個北部50餘歲女性相關的醫院群聚案，截至目前已掌握5名個案接觸者312人，並已採檢218人，其中192人陰性，其餘檢驗中。',\n",
       " '陳時中說，北部50餘歲女性的醫院群聚案「危機還沒有解除」，但第一層把關應該守得住。後續延伸的清潔人員和護理人員相關接觸者比較多，還有些人待採檢，但比較放心的是，醫護採檢79人中有76人陰性。醫院部分會持續感控，做好消毒，病人也移到安全區域，會持續觀察狀況。',\n",
       " '另鑽石公主號19名返台國人，持續於集中檢疫所密切觀察健康情形。（編輯：管中維）1090301']"
      ]
     },
     "execution_count": 410,
     "metadata": {},
     "output_type": "execute_result"
    }
   ],
   "source": [
    "C"
   ]
  },
  {
   "cell_type": "code",
   "execution_count": 411,
   "metadata": {},
   "outputs": [],
   "source": [
    "ALL = \"\\n\".join(C)"
   ]
  },
  {
   "cell_type": "code",
   "execution_count": 412,
   "metadata": {},
   "outputs": [
    {
     "data": {
      "text/plain": [
       "'（中央社記者陳偉婷台北1日電）疫情指揮中心今天宣布，台灣新增一例武漢肺炎確診病例，為鑽石公主號返台旅客，北部70多歲女性。1090301\\n鑽石公主號旅客返台確診 研判境外移入\\n（中央社記者陳偉婷台北1日電）中央流行疫情指揮中心指揮官陳時中今天宣布，鑽石公主號返台旅客一人確診，為北部70多歲女性，先前經日方檢驗陽性後住院，2月26日返台後再度採檢而確診。研判為境外感染。\\n陳時中下午在記者會公布國內第40例COVID-19（武漢肺炎）確定病例，為北部70多歲女性。\\n指揮中心說明，個案於1月20日自日本參加鑽石公主號旅遊，2月4日抵達日本後持續留置船上，15日檢驗陽性（當時無呼吸道症狀），隔日安排住院隔離。個案25日經2次採檢陰性，於26日搭機返台。\\n陳時中說，個案返台搭機時，全程配戴口罩，座位前後2排皆無安排其他旅客；抵台後，也由專人協助完成入境檢疫作業程序，由救護車載送醫院進行隔離採檢；經3次採檢，於今天確診。\\n返台至今，個案的接觸者，包含入境檢疫、醫院相關醫護人員等，皆有完善防護裝備，無須採檢。\\n指揮中心表示，與個案同遊的丈夫，2月7日曾經日方檢驗為陰性，目前仍在日本飯店進行隔離中。\\n陳時中說，此個案從日本回國後就有嚴密隔離防護，對境內沒有威脅，研判為境外移入個案。（編輯：管中維）1090301\\n武漢肺炎台灣確診40例 已12人解除隔離\\n（中央社記者陳偉婷、張雄風台北1日電）中央流行疫情指揮中心今天宣布，台灣目前有40名COVID-19（武漢肺炎）確診個案，累計12人解除隔離。\\n中央流行疫情指揮中心指揮官陳時中下午在記者會宣布，台灣目前40名確診（今日新增案40），其中1名死亡、12名解除隔離、其餘個案持續住院中，狀況穩定。\\n新增的解除隔離者為案7（女陸客）、9（有武漢工作史台商之妻）、16（澳門境外移入）。\\n指揮中心表示，針對北部80餘歲老翁群聚事件，截至目前已掌握接觸者820人，並採檢183人，其中5人陽性（案28至32）、177人陰性，其餘檢驗中。\\n另一個北部50餘歲女性相關的醫院群聚案，截至目前已掌握5名個案接觸者312人，並已採檢218人，其中192人陰性，其餘檢驗中。\\n陳時中說，北部50餘歲女性的醫院群聚案「危機還沒有解除」，但第一層把關應該守得住。後續延伸的清潔人員和護理人員相關接觸者比較多，還有些人待採檢，但比較放心的是，醫護採檢79人中有76人陰性。醫院部分會持續感控，做好消毒，病人也移到安全區域，會持續觀察狀況。\\n另鑽石公主號19名返台國人，持續於集中檢疫所密切觀察健康情形。（編輯：管中維）1090301'"
      ]
     },
     "execution_count": 412,
     "metadata": {},
     "output_type": "execute_result"
    }
   ],
   "source": [
    "ALL"
   ]
  },
  {
   "cell_type": "code",
   "execution_count": 413,
   "metadata": {},
   "outputs": [],
   "source": [
    "import jieba\n",
    "import nltk"
   ]
  },
  {
   "cell_type": "code",
   "execution_count": 414,
   "metadata": {},
   "outputs": [],
   "source": [
    "ALL = ALL.replace(\"\\n\",\"\").replace(\" \",\"\").replace(\"\\u3000\",\"\").replace(\"，\",\"\").replace(\"。\",\"\").replace(\"、\",\"\")"
   ]
  },
  {
   "cell_type": "code",
   "execution_count": 415,
   "metadata": {},
   "outputs": [],
   "source": [
    "ALL = ALL.replace(\"/\",\"\").replace(\"「\",\"\").replace(\"(\",\"\").replace(\")\",\"\").replace(\"...\",\"\").replace(\"」\",\"\")"
   ]
  },
  {
   "cell_type": "code",
   "execution_count": 416,
   "metadata": {},
   "outputs": [],
   "source": [
    "ALL = ALL.replace(\"〔\",\"\").replace(\"／\",\"\").replace(\"〕\",\"\").replace(\"!\",\"\").replace(\"?\",\"\").replace(\":\",\"\")"
   ]
  },
  {
   "cell_type": "code",
   "execution_count": 417,
   "metadata": {},
   "outputs": [],
   "source": [
    "ALL = ALL.replace(\"！\",\"\").replace(\"（\",\"\").replace(\"）\",\"\").replace(\"》\",\"\").replace(\"？\",\"\").replace(\"：\",\"\")"
   ]
  },
  {
   "cell_type": "code",
   "execution_count": 418,
   "metadata": {},
   "outputs": [],
   "source": [
    "ALL = ALL.replace(\"︰\",\"\").replace(\"‧\",\"\").replace(\"；\",\"\").replace(\"丶\",\"\").replace(\".\",\"\")"
   ]
  },
  {
   "cell_type": "code",
   "execution_count": 549,
   "metadata": {},
   "outputs": [],
   "source": [
    "def remove_punc(content):\n",
    "    content = content.replace(\"\\n\",\"\").replace(\" \",\"\").replace(\"\\u3000\",\"\").replace(\"，\",\"\").replace(\"\\t\",\"\")\n",
    "    content = content.replace(\"。\",\"\").replace(\"、\",\"\").replace(\"/\",\"\").replace(\"「\",\"\").replace(\"(\",\"\").replace(\")\",\"\")\n",
    "    content = content.replace(\"...\",\"\").replace(\"」\",\"\").replace(\"〔\",\"\").replace(\"／\",\"\").replace(\"〕\",\"\").replace(\"!\",\"\")\n",
    "    content = content.replace(\"?\",\"\").replace(\":\",\"\").replace(\"︰\",\"\").replace(\"‧\",\"\").replace(\"；\",\"\").replace(\"丶\",\"\").replace(\".\",\"\")\n",
    "    import string\n",
    "    R = list(string.ascii_lowercase)\n",
    "    for r in R:\n",
    "        content = content.replace(r,\"\")\n",
    "    RR = list(string.ascii_uppercase)\n",
    "    for r in RR:\n",
    "        content = content.replace(r,\"\")\n",
    "    RRR = list(\"1234567890\")\n",
    "    for r in RRR:\n",
    "        content = content.replace(r,\"\")\n",
    "    rel = [\"（\",\"）\",\"-\",\"\\r\",\"$\",\"_____\",\"[\",\"]\",\"▲\",\"=\",\"【】\",\"！\",\"《》\",\"》\",\"《\",\"{\",\"'\",\"#\",'\"',\n",
    "       \";\",\"}\",\"&\",\"|\",\"_\",\"+\",\"*\",\"：\",\"？\",\"%\",\">\",\"【\",\"】\",\",\"]\n",
    "    for r in rel:\n",
    "        content = content.replace(r,\"\")\n",
    "        \n",
    "    return(content)"
   ]
  },
  {
   "cell_type": "code",
   "execution_count": 533,
   "metadata": {},
   "outputs": [
    {
     "data": {
      "text/plain": [
       "'中央社記者陳偉婷台北日電疫情指揮中心今天宣布台灣新增一例武漢肺炎確診病例為鑽石公主號返台旅客北部多歲女性鑽石公主號旅客返台確診研判境外移入中央社記者陳偉婷台北日電中央流行疫情指揮中心指揮官陳時中今天宣布鑽石公主號返台旅客一人確診為北部多歲女性先前經日方檢驗陽性後住院月日返台後再度採檢而確診研判為境外感染陳時中下午在記者會公布國內第例武漢肺炎確定病例為北部多歲女性指揮中心說明個案於月日自日本參加鑽石公主號旅遊月日抵達日本後持續留置船上日檢驗陽性當時無呼吸道症狀隔日安排住院隔離個案日經次採檢陰性於日搭機返台陳時中說個案返台搭機時全程配戴口罩座位前後排皆無安排其他旅客抵台後也由專人協助完成入境檢疫作業程序由救護車載送醫院進行隔離採檢經次採檢於今天確診返台至今個案的接觸者包含入境檢疫醫院相關醫護人員等皆有完善防護裝備無須採檢指揮中心表示與個案同遊的丈夫月日曾經日方檢驗為陰性目前仍在日本飯店進行隔離中陳時中說此個案從日本回國後就有嚴密隔離防護對境內沒有威脅研判為境外移入個案編輯管中維武漢肺炎台灣確診例已人解除隔離中央社記者陳偉婷張雄風台北日電中央流行疫情指揮中心今天宣布台灣目前有名武漢肺炎確診個案累計人解除隔離中央流行疫情指揮中心指揮官陳時中下午在記者會宣布台灣目前名確診今日新增案其中名死亡名解除隔離其餘個案持續住院中狀況穩定新增的解除隔離者為案女陸客有武漢工作史台商之妻澳門境外移入指揮中心表示針對北部餘歲老翁群聚事件截至目前已掌握接觸者人並採檢人其中人陽性案至人陰性其餘檢驗中另一個北部餘歲女性相關的醫院群聚案截至目前已掌握名個案接觸者人並已採檢人其中人陰性其餘檢驗中陳時中說北部餘歲女性的醫院群聚案危機還沒有解除但第一層把關應該守得住後續延伸的清潔人員和護理人員相關接觸者比較多還有些人待採檢但比較放心的是醫護採檢人中有人陰性醫院部分會持續感控做好消毒病人也移到安全區域會持續觀察狀況另鑽石公主號名返台國人持續於集中檢疫所密切觀察健康情形編輯管中維'"
      ]
     },
     "execution_count": 533,
     "metadata": {},
     "output_type": "execute_result"
    }
   ],
   "source": [
    "remove_punc(ALL)"
   ]
  },
  {
   "cell_type": "code",
   "execution_count": 534,
   "metadata": {},
   "outputs": [],
   "source": [
    "jieba.setLogLevel(20)\n",
    "word = jieba.cut(ALL,cut_all = False)"
   ]
  },
  {
   "cell_type": "code",
   "execution_count": 535,
   "metadata": {},
   "outputs": [
    {
     "name": "stdout",
     "output_type": "stream",
     "text": [
      "中央社\n",
      "記者\n",
      "陳\n",
      "偉婷\n",
      "台北\n",
      "1\n",
      "日電\n",
      "疫情\n",
      "指揮\n",
      "中心\n",
      "今天\n",
      "宣布\n",
      "台灣\n",
      "新增\n",
      "一例\n",
      "武漢\n",
      "肺炎\n",
      "確診\n",
      "病例\n",
      "為\n",
      "鑽石\n",
      "公主\n",
      "號\n",
      "返台\n",
      "旅客\n",
      "北部\n",
      "70\n",
      "多歲\n",
      "女性\n",
      "1090301\n",
      "鑽石\n",
      "公主\n",
      "號\n",
      "旅客\n",
      "返台\n",
      "確診\n",
      "研判\n",
      "境外\n",
      "移入\n",
      "中央社\n",
      "記者\n",
      "陳\n",
      "偉婷\n",
      "台北\n",
      "1\n",
      "日電\n",
      "中央\n",
      "流行\n",
      "疫情\n",
      "指揮\n",
      "中心\n",
      "指揮\n",
      "官陳時\n",
      "中\n",
      "今天\n",
      "宣布\n",
      "鑽石\n",
      "公主\n",
      "號\n",
      "返台\n",
      "旅客\n",
      "一人確\n",
      "診為\n",
      "北部\n",
      "70\n",
      "多歲\n",
      "女性\n",
      "先前\n",
      "經\n",
      "日方\n",
      "檢驗陽性\n",
      "後\n",
      "住院\n",
      "2\n",
      "月\n",
      "26\n",
      "日\n",
      "返台\n",
      "後\n",
      "再度\n",
      "採檢而\n",
      "確診\n",
      "研判\n",
      "為\n",
      "境外\n",
      "感染\n",
      "陳\n",
      "時\n",
      "中\n",
      "下午\n",
      "在\n",
      "記者\n",
      "會\n",
      "公布\n",
      "國內\n",
      "第\n",
      "40\n",
      "例\n",
      "COVID\n",
      "-\n",
      "19\n",
      "武漢\n",
      "肺炎\n",
      "確定\n",
      "病例\n",
      "為\n",
      "北部\n",
      "70\n",
      "多歲\n",
      "女性\n",
      "指揮\n",
      "中心\n",
      "說\n",
      "明個案\n",
      "於\n",
      "1\n",
      "月\n",
      "20\n",
      "日自\n",
      "日本\n",
      "參加\n",
      "鑽石\n",
      "公主\n",
      "號旅遊\n",
      "2\n",
      "月\n",
      "4\n",
      "日\n",
      "抵達\n",
      "日本\n",
      "後\n",
      "持續\n",
      "留置\n",
      "船上\n",
      "15\n",
      "日檢驗陽性\n",
      "當時\n",
      "無\n",
      "呼吸道\n",
      "症狀\n",
      "隔日\n",
      "安排\n",
      "住院\n",
      "隔離\n",
      "個案\n",
      "25\n",
      "日經\n",
      "2\n",
      "次\n",
      "採檢陰性\n",
      "於\n",
      "26\n",
      "日\n",
      "搭機\n",
      "返台\n",
      "陳\n",
      "時\n",
      "中\n",
      "說\n",
      "個案\n",
      "返台\n",
      "搭機\n",
      "時\n",
      "全程\n",
      "配戴\n",
      "口罩\n",
      "座位\n",
      "前\n",
      "後\n",
      "2\n",
      "排皆無\n",
      "安排\n",
      "其他\n",
      "旅客\n",
      "抵台\n",
      "後\n",
      "也\n",
      "由\n",
      "專人\n",
      "協助\n",
      "完成\n",
      "入境\n",
      "檢疫\n",
      "作業\n",
      "程序\n",
      "由救護\n",
      "車載\n",
      "送\n",
      "醫院\n",
      "進行\n",
      "隔離\n",
      "採檢經\n",
      "3\n",
      "次\n",
      "採檢\n",
      "於\n",
      "今天\n",
      "確診\n",
      "返台\n",
      "至今\n",
      "個案\n",
      "的\n",
      "接觸者\n",
      "包含\n",
      "入境\n",
      "檢疫\n",
      "醫院\n",
      "相關\n",
      "醫護\n",
      "人員\n",
      "等\n",
      "皆\n",
      "有\n",
      "完善\n",
      "防護\n",
      "裝備\n",
      "無須\n",
      "採檢\n",
      "指揮\n",
      "中心\n",
      "表示\n",
      "與\n",
      "個案\n",
      "同遊\n",
      "的\n",
      "丈夫\n",
      "2\n",
      "月\n",
      "7\n",
      "日\n",
      "曾經\n",
      "日方\n",
      "檢驗\n",
      "為\n",
      "陰性\n",
      "目前\n",
      "仍\n",
      "在\n",
      "日本\n",
      "飯店\n",
      "進行\n",
      "隔離\n",
      "中陳時\n",
      "中\n",
      "說\n",
      "此個案\n",
      "從\n",
      "日本\n",
      "回國\n",
      "後\n",
      "就\n",
      "有\n",
      "嚴密\n",
      "隔離\n",
      "防護\n",
      "對境\n",
      "內\n",
      "沒\n",
      "有\n",
      "威脅\n",
      "研判\n",
      "為\n",
      "境外\n",
      "移入\n",
      "個案\n",
      "編輯\n",
      "管中維\n",
      "1090301\n",
      "武漢\n",
      "肺炎\n",
      "台灣\n",
      "確診\n",
      "40\n",
      "例已\n",
      "12\n",
      "人\n",
      "解除\n",
      "隔離\n",
      "中央社\n",
      "記者\n",
      "陳\n",
      "偉婷\n",
      "張雄風\n",
      "台北\n",
      "1\n",
      "日電\n",
      "中央\n",
      "流行\n",
      "疫情\n",
      "指揮\n",
      "中心\n",
      "今天\n",
      "宣布\n",
      "台灣\n",
      "目前\n",
      "有\n",
      "40\n",
      "名\n",
      "COVID\n",
      "-\n",
      "19\n",
      "武漢\n",
      "肺炎\n",
      "確診\n",
      "個案\n",
      "累計\n",
      "12\n",
      "人\n",
      "解除\n",
      "隔離\n",
      "中央\n",
      "流行\n",
      "疫情\n",
      "指揮\n",
      "中心\n",
      "指揮\n",
      "官陳時\n",
      "中\n",
      "下午\n",
      "在\n",
      "記者\n",
      "會\n",
      "宣布\n",
      "台灣\n",
      "目前\n",
      "40\n",
      "名確診\n",
      "今日\n",
      "新增\n",
      "案\n",
      "40\n",
      "其中\n",
      "1\n",
      "名\n",
      "死亡\n",
      "12\n",
      "名\n",
      "解除\n",
      "隔離\n",
      "其餘個\n",
      "案持續\n",
      "住院\n",
      "中狀況\n",
      "穩定\n",
      "新增\n",
      "的\n",
      "解除\n",
      "隔離者\n",
      "為案\n",
      "7\n",
      "女陸客\n",
      "9\n",
      "有\n",
      "武漢\n",
      "工作\n",
      "史\n",
      "台商\n",
      "之妻\n",
      "16\n",
      "澳門\n",
      "境外\n",
      "移入\n",
      "指揮\n",
      "中心\n",
      "表示\n",
      "針對\n",
      "北部\n",
      "80\n",
      "餘歲\n",
      "老翁\n",
      "群聚\n",
      "事件\n",
      "截至\n",
      "目前\n",
      "已\n",
      "掌握\n",
      "接觸者\n",
      "820\n",
      "人並\n",
      "採檢\n",
      "183\n",
      "人\n",
      "其中\n",
      "5\n",
      "人陽\n",
      "性案\n",
      "28\n",
      "至\n",
      "32177\n",
      "人陰性\n",
      "其餘檢驗\n",
      "中\n",
      "另\n",
      "一個\n",
      "北部\n",
      "50\n",
      "餘歲\n",
      "女性\n",
      "相關\n",
      "的\n",
      "醫院\n",
      "群聚\n",
      "案\n",
      "截至\n",
      "目前\n",
      "已\n",
      "掌握\n",
      "5\n",
      "名個\n",
      "案接\n",
      "觸者\n",
      "312\n",
      "人並\n",
      "已\n",
      "採檢\n",
      "218\n",
      "人\n",
      "其中\n",
      "192\n",
      "人陰性\n",
      "其餘檢驗\n",
      "中陳時\n",
      "中\n",
      "說\n",
      "北部\n",
      "50\n",
      "餘歲\n",
      "女性\n",
      "的\n",
      "醫院\n",
      "群聚\n",
      "案\n",
      "危機\n",
      "還沒有\n",
      "解除\n",
      "但\n",
      "第一\n",
      "層\n",
      "把\n",
      "關應\n",
      "該\n",
      "守\n",
      "得\n",
      "住後續\n",
      "延伸\n",
      "的\n",
      "清潔\n",
      "人員\n",
      "和\n",
      "護理\n",
      "人員\n",
      "相關\n",
      "接觸者\n",
      "比較\n",
      "多還\n",
      "有些\n",
      "人待\n",
      "採檢\n",
      "但\n",
      "比\n",
      "較\n",
      "放心\n",
      "的\n",
      "是\n",
      "醫護\n",
      "採檢\n",
      "79\n",
      "人中\n",
      "有\n",
      "76\n",
      "人陰性\n",
      "醫院\n",
      "部分\n",
      "會持續\n",
      "感控\n",
      "做好\n",
      "消毒\n",
      "病人\n",
      "也\n",
      "移到\n",
      "安全\n",
      "區域\n",
      "會\n",
      "持續\n",
      "觀察狀況\n",
      "另\n",
      "鑽石\n",
      "公主\n",
      "號\n",
      "19\n",
      "名\n",
      "返台\n",
      "國人\n",
      "持續\n",
      "於\n",
      "集中\n",
      "檢疫\n",
      "所\n",
      "密切\n",
      "觀察\n",
      "健康\n",
      "情形\n",
      "編輯\n",
      "管中維\n",
      "1090301\n"
     ]
    }
   ],
   "source": [
    "for w in word:\n",
    "    print(w)"
   ]
  },
  {
   "cell_type": "code",
   "execution_count": 536,
   "metadata": {},
   "outputs": [],
   "source": [
    "import matplotlib.pyplot as plt\n",
    "from wordcloud import WordCloud"
   ]
  },
  {
   "cell_type": "code",
   "execution_count": 537,
   "metadata": {},
   "outputs": [],
   "source": [
    "stopwords = {}.fromkeys([\"在\",\"也\",\"但\",\"來\",\"個\",\"再\",\"的\",\"和\",\"是\",\"有\",\"更\",\"會\",\"可能\",\"有何\",\"從\",\"對\",\"就\", '\\n','越','為','這種','多','越來',' '])"
   ]
  },
  {
   "cell_type": "code",
   "execution_count": 538,
   "metadata": {},
   "outputs": [],
   "source": [
    "Sentence = jieba.cut_for_search(ALL)"
   ]
  },
  {
   "cell_type": "code",
   "execution_count": 539,
   "metadata": {},
   "outputs": [],
   "source": [
    "hash_ = dict()\n",
    "\n",
    "for i in Sentence:\n",
    "    if i in stopwords:\n",
    "        continue\n",
    "    if i in hash_:\n",
    "        hash_[i]+=1\n",
    "    else:\n",
    "        hash_[i]=1\n",
    "        "
   ]
  },
  {
   "cell_type": "code",
   "execution_count": 540,
   "metadata": {},
   "outputs": [
    {
     "data": {
      "text/plain": [
       "{'中央': 6,\n",
       " '中央社': 3,\n",
       " '記者': 5,\n",
       " '陳': 5,\n",
       " '偉婷': 3,\n",
       " '台北': 3,\n",
       " '1': 5,\n",
       " '日電': 3,\n",
       " '疫情': 4,\n",
       " '指揮': 9,\n",
       " '中心': 7,\n",
       " '今天': 4,\n",
       " '宣布': 4,\n",
       " '台灣': 4,\n",
       " '新增': 3,\n",
       " '一例': 1,\n",
       " '武漢': 5,\n",
       " '肺炎': 4,\n",
       " '確診': 6,\n",
       " '病例': 2,\n",
       " '鑽石': 5,\n",
       " '公主': 5,\n",
       " '號': 4,\n",
       " '返台': 8,\n",
       " '旅客': 4,\n",
       " '北部': 6,\n",
       " '70': 3,\n",
       " '多歲': 3,\n",
       " '女性': 5,\n",
       " '1090301': 3,\n",
       " '研判': 3,\n",
       " '境外': 4,\n",
       " '移入': 3,\n",
       " '流行': 3,\n",
       " '官陳時': 2,\n",
       " '中': 7,\n",
       " '一人確': 1,\n",
       " '診為': 1,\n",
       " '先前': 1,\n",
       " '經': 1,\n",
       " '日方': 2,\n",
       " '檢驗陽性': 1,\n",
       " '後': 6,\n",
       " '住院': 3,\n",
       " '2': 5,\n",
       " '月': 4,\n",
       " '26': 2,\n",
       " '日': 4,\n",
       " '再度': 1,\n",
       " '採檢而': 1,\n",
       " '感染': 1,\n",
       " '時': 3,\n",
       " '下午': 2,\n",
       " '公布': 1,\n",
       " '國內': 1,\n",
       " '第': 1,\n",
       " '40': 5,\n",
       " '例': 1,\n",
       " 'COVID': 2,\n",
       " '-': 2,\n",
       " '19': 3,\n",
       " '確定': 1,\n",
       " '說': 4,\n",
       " '明個案': 1,\n",
       " '於': 4,\n",
       " '20': 1,\n",
       " '日自': 1,\n",
       " '日本': 4,\n",
       " '參加': 1,\n",
       " '號旅遊': 1,\n",
       " '4': 1,\n",
       " '抵達': 1,\n",
       " '持續': 3,\n",
       " '留置': 1,\n",
       " '船上': 1,\n",
       " '15': 1,\n",
       " '日檢驗陽性': 1,\n",
       " '當時': 1,\n",
       " '無': 1,\n",
       " '呼吸': 1,\n",
       " '呼吸道': 1,\n",
       " '症狀': 1,\n",
       " '隔日': 1,\n",
       " '安排': 2,\n",
       " '隔離': 7,\n",
       " '個案': 6,\n",
       " '25': 1,\n",
       " '日經': 1,\n",
       " '次': 2,\n",
       " '採檢陰性': 1,\n",
       " '搭機': 2,\n",
       " '全程': 1,\n",
       " '配戴': 1,\n",
       " '口罩': 1,\n",
       " '座位': 1,\n",
       " '前': 1,\n",
       " '排皆無': 1,\n",
       " '其他': 1,\n",
       " '抵台': 1,\n",
       " '由': 1,\n",
       " '專人': 1,\n",
       " '協助': 1,\n",
       " '完成': 1,\n",
       " '入境': 2,\n",
       " '檢疫': 3,\n",
       " '作業': 1,\n",
       " '程序': 1,\n",
       " '由救護': 1,\n",
       " '車載': 1,\n",
       " '送': 1,\n",
       " '醫院': 5,\n",
       " '進行': 2,\n",
       " '採檢經': 1,\n",
       " '3': 1,\n",
       " '採檢': 6,\n",
       " '至今': 1,\n",
       " '接觸者': 3,\n",
       " '包含': 1,\n",
       " '相關': 3,\n",
       " '醫護': 2,\n",
       " '人員': 3,\n",
       " '等': 1,\n",
       " '皆': 1,\n",
       " '完善': 1,\n",
       " '防護': 2,\n",
       " '裝備': 1,\n",
       " '無須': 1,\n",
       " '表示': 2,\n",
       " '與': 1,\n",
       " '同遊': 1,\n",
       " '丈夫': 1,\n",
       " '7': 2,\n",
       " '曾經': 1,\n",
       " '檢驗': 1,\n",
       " '陰性': 1,\n",
       " '目前': 5,\n",
       " '仍': 1,\n",
       " '飯店': 1,\n",
       " '中陳時': 2,\n",
       " '此個案': 1,\n",
       " '回國': 1,\n",
       " '嚴密': 1,\n",
       " '對境': 1,\n",
       " '內': 1,\n",
       " '沒': 1,\n",
       " '威脅': 1,\n",
       " '編輯': 2,\n",
       " '管中維': 2,\n",
       " '例已': 1,\n",
       " '12': 3,\n",
       " '人': 4,\n",
       " '解除': 5,\n",
       " '張雄風': 1,\n",
       " '名': 4,\n",
       " '累計': 1,\n",
       " '名確診': 1,\n",
       " '今日': 1,\n",
       " '案': 3,\n",
       " '其中': 3,\n",
       " '死亡': 1,\n",
       " '其餘個': 1,\n",
       " '案持續': 1,\n",
       " '中狀況': 1,\n",
       " '穩定': 1,\n",
       " '隔離者': 1,\n",
       " '為案': 1,\n",
       " '女陸客': 1,\n",
       " '9': 1,\n",
       " '工作': 1,\n",
       " '史': 1,\n",
       " '台商': 1,\n",
       " '之妻': 1,\n",
       " '16': 1,\n",
       " '澳門': 1,\n",
       " '針對': 1,\n",
       " '80': 1,\n",
       " '餘歲': 3,\n",
       " '老翁': 1,\n",
       " '群聚': 3,\n",
       " '事件': 1,\n",
       " '截至': 2,\n",
       " '已': 3,\n",
       " '掌握': 2,\n",
       " '820': 1,\n",
       " '人並': 2,\n",
       " '183': 1,\n",
       " '5': 2,\n",
       " '人陽': 1,\n",
       " '性案': 1,\n",
       " '28': 1,\n",
       " '至': 1,\n",
       " '32177': 1,\n",
       " '人陰性': 3,\n",
       " '其餘檢驗': 2,\n",
       " '另': 2,\n",
       " '一個': 1,\n",
       " '50': 2,\n",
       " '名個': 1,\n",
       " '案接': 1,\n",
       " '觸者': 1,\n",
       " '312': 1,\n",
       " '218': 1,\n",
       " '192': 1,\n",
       " '危機': 1,\n",
       " '還沒有': 1,\n",
       " '第一': 1,\n",
       " '層': 1,\n",
       " '把': 1,\n",
       " '關應': 1,\n",
       " '該': 1,\n",
       " '守': 1,\n",
       " '得': 1,\n",
       " '住後續': 1,\n",
       " '延伸': 1,\n",
       " '清潔': 1,\n",
       " '護理': 1,\n",
       " '比較': 1,\n",
       " '多還': 1,\n",
       " '有些': 1,\n",
       " '人待': 1,\n",
       " '比': 1,\n",
       " '較': 1,\n",
       " '放心': 1,\n",
       " '79': 1,\n",
       " '人中': 1,\n",
       " '76': 1,\n",
       " '部分': 1,\n",
       " '會持續': 1,\n",
       " '感控': 1,\n",
       " '做好': 1,\n",
       " '消毒': 1,\n",
       " '病人': 1,\n",
       " '移到': 1,\n",
       " '安全': 1,\n",
       " '區域': 1,\n",
       " '觀察狀況': 1,\n",
       " '國人': 1,\n",
       " '集中': 1,\n",
       " '所': 1,\n",
       " '密切': 1,\n",
       " '觀察': 1,\n",
       " '健康': 1,\n",
       " '情形': 1}"
      ]
     },
     "execution_count": 540,
     "metadata": {},
     "output_type": "execute_result"
    }
   ],
   "source": [
    "hash_"
   ]
  },
  {
   "cell_type": "code",
   "execution_count": 541,
   "metadata": {},
   "outputs": [],
   "source": [
    "wc = WordCloud(\"/System/Library/fonts/PingFang.ttc\",width = 600, height = 300,max_words=200,stopwords = stopwords)"
   ]
  },
  {
   "cell_type": "code",
   "execution_count": 542,
   "metadata": {},
   "outputs": [
    {
     "data": {
      "image/png": "[encoded data removed]",
      "text/plain": [
       "<Figure size 432x288 with 1 Axes>"
      ]
     },
     "metadata": {
      "needs_background": "light"
     },
     "output_type": "display_data"
    },
    {
     "data": {
      "text/plain": [
       "<Figure size 3600x3600 with 0 Axes>"
      ]
     },
     "metadata": {},
     "output_type": "display_data"
    }
   ],
   "source": [
    "wc.generate_from_frequencies(hash_)\n",
    "plt.imshow(wc)\n",
    "plt.axis(\"off\")\n",
    "plt.figure(figsize = (50,50))\n",
    "plt.show()"
   ]
  },
  {
   "cell_type": "code",
   "execution_count": 543,
   "metadata": {},
   "outputs": [],
   "source": [
    "## for all"
   ]
  },
  {
   "cell_type": "code",
   "execution_count": 544,
   "metadata": {},
   "outputs": [
    {
     "data": {
      "text/html": [
       "<div>\n",
       "<style scoped>\n",
       "    .dataframe tbody tr th:only-of-type {\n",
       "        vertical-align: middle;\n",
       "    }\n",
       "\n",
       "    .dataframe tbody tr th {\n",
       "        vertical-align: top;\n",
       "    }\n",
       "\n",
       "    .dataframe thead th {\n",
       "        text-align: right;\n",
       "    }\n",
       "</style>\n",
       "<table border=\"1\" class=\"dataframe\">\n",
       "  <thead>\n",
       "    <tr style=\"text-align: right;\">\n",
       "      <th></th>\n",
       "      <th>title</th>\n",
       "      <th>link</th>\n",
       "    </tr>\n",
       "  </thead>\n",
       "  <tbody>\n",
       "    <tr>\n",
       "      <td>0</td>\n",
       "      <td>武漢肺炎台灣新增一確診 為鑽石公主號返台旅客【更新】</td>\n",
       "      <td>https://www.cna.com.tw/news/firstnews/20200301...</td>\n",
       "    </tr>\n",
       "    <tr>\n",
       "      <td>1</td>\n",
       "      <td>美國哪個州武漢肺炎疫情恐最先失控？答案一面倒：還用想| 新奇</td>\n",
       "      <td>https://www.nownews.com/news/20200301/3963308/</td>\n",
       "    </tr>\n",
       "    <tr>\n",
       "      <td>2</td>\n",
       "      <td>武漢肺炎確診者痊癒又陽性 可能原因有2種</td>\n",
       "      <td>https://www.cna.com.tw/news/firstnews/20200301...</td>\n",
       "    </tr>\n",
       "    <tr>\n",
       "      <td>3</td>\n",
       "      <td>武漢肺炎》中國旅遊業重創「簽證龍頭」百程旅行網倒閉</td>\n",
       "      <td>https://ec.ltn.com.tw/article/breakingnews/308...</td>\n",
       "    </tr>\n",
       "    <tr>\n",
       "      <td>4</td>\n",
       "      <td>法國武漢肺炎確診破百 疫情未解總理拋退休改革震撼彈</td>\n",
       "      <td>https://www.cna.com.tw/news/firstnews/20200301...</td>\n",
       "    </tr>\n",
       "    <tr>\n",
       "      <td>5</td>\n",
       "      <td>武漢肺炎》南韓單日增586確診！ 全球確診87195例 死亡2981例</td>\n",
       "      <td>https://news.ltn.com.tw/news/world/breakingnew...</td>\n",
       "    </tr>\n",
       "    <tr>\n",
       "      <td>6</td>\n",
       "      <td>武漢肺炎》台灣新增5例 醫師曝「關鍵10件事」別像韓國暴增</td>\n",
       "      <td>https://news.ltn.com.tw/news/life/breakingnews...</td>\n",
       "    </tr>\n",
       "    <tr>\n",
       "      <td>7</td>\n",
       "      <td>武漢肺炎》贏家變輸家！ 越南限制南韓入境 料衝擊多間韓企</td>\n",
       "      <td>https://ec.ltn.com.tw/article/breakingnews/308...</td>\n",
       "    </tr>\n",
       "    <tr>\n",
       "      <td>8</td>\n",
       "      <td>武漢肺炎》「社區傳播」要件已達一半！指揮中心：確實是警訊| 社會</td>\n",
       "      <td>https://newtalk.tw/news/view/2020-02-29/373520</td>\n",
       "    </tr>\n",
       "    <tr>\n",
       "      <td>9</td>\n",
       "      <td>武漢肺炎／台灣首例院內感染！一天增5名確診，其中3名是護理人員，總確診到39例</td>\n",
       "      <td>https://heho.com.tw/archives/71357</td>\n",
       "    </tr>\n",
       "  </tbody>\n",
       "</table>\n",
       "</div>"
      ],
      "text/plain": [
       "                                     title  \\\n",
       "0               武漢肺炎台灣新增一確診 為鑽石公主號返台旅客【更新】   \n",
       "1           美國哪個州武漢肺炎疫情恐最先失控？答案一面倒：還用想| 新奇   \n",
       "2                     武漢肺炎確診者痊癒又陽性 可能原因有2種   \n",
       "3                武漢肺炎》中國旅遊業重創「簽證龍頭」百程旅行網倒閉   \n",
       "4                法國武漢肺炎確診破百 疫情未解總理拋退休改革震撼彈   \n",
       "5      武漢肺炎》南韓單日增586確診！ 全球確診87195例 死亡2981例   \n",
       "6            武漢肺炎》台灣新增5例 醫師曝「關鍵10件事」別像韓國暴增   \n",
       "7             武漢肺炎》贏家變輸家！ 越南限制南韓入境 料衝擊多間韓企   \n",
       "8         武漢肺炎》「社區傳播」要件已達一半！指揮中心：確實是警訊| 社會   \n",
       "9  武漢肺炎／台灣首例院內感染！一天增5名確診，其中3名是護理人員，總確診到39例   \n",
       "\n",
       "                                                link  \n",
       "0  https://www.cna.com.tw/news/firstnews/20200301...  \n",
       "1     https://www.nownews.com/news/20200301/3963308/  \n",
       "2  https://www.cna.com.tw/news/firstnews/20200301...  \n",
       "3  https://ec.ltn.com.tw/article/breakingnews/308...  \n",
       "4  https://www.cna.com.tw/news/firstnews/20200301...  \n",
       "5  https://news.ltn.com.tw/news/world/breakingnew...  \n",
       "6  https://news.ltn.com.tw/news/life/breakingnews...  \n",
       "7  https://ec.ltn.com.tw/article/breakingnews/308...  \n",
       "8     https://newtalk.tw/news/view/2020-02-29/373520  \n",
       "9                 https://heho.com.tw/archives/71357  "
      ]
     },
     "execution_count": 544,
     "metadata": {},
     "output_type": "execute_result"
    }
   ],
   "source": [
    "X"
   ]
  },
  {
   "cell_type": "code",
   "execution_count": 545,
   "metadata": {},
   "outputs": [
    {
     "data": {
      "text/plain": [
       "10"
      ]
     },
     "execution_count": 545,
     "metadata": {},
     "output_type": "execute_result"
    }
   ],
   "source": [
    "len(X[\"link\"])"
   ]
  },
  {
   "cell_type": "code",
   "execution_count": 546,
   "metadata": {},
   "outputs": [],
   "source": [
    "tmp = \"\"\n",
    "for i in range(len(X[\"link\"])):\n",
    "    X[\"link\"][i]\n",
    "    r = requests.get(X[\"link\"][i]).text\n",
    "    soup = BeautifulSoup(r, \"html.parser\")\n",
    "    cont = soup.find_all(\"p\")\n",
    "    C = [c.text for c in cont]\n",
    "    ALL_I = \"\\n\".join(C)\n",
    "    tmp = tmp + ALL_I\n",
    "    "
   ]
  },
  {
   "cell_type": "code",
   "execution_count": 550,
   "metadata": {},
   "outputs": [
    {
     "data": {
      "image/png": "[encoded data removed]",
      "text/plain": [
       "<Figure size 432x288 with 1 Axes>"
      ]
     },
     "metadata": {
      "needs_background": "light"
     },
     "output_type": "display_data"
    },
    {
     "data": {
      "text/plain": [
       "<Figure size 3600x3600 with 0 Axes>"
      ]
     },
     "metadata": {},
     "output_type": "display_data"
    }
   ],
   "source": [
    "tmp = remove_punc(tmp)\n",
    "jieba.setLogLevel(20)\n",
    "word = jieba.cut(ALL,cut_all = False)\n",
    "stopwords = {}.fromkeys([\"於\",\"內\",\"都\",\"在\",\"也\",\"但\",\"來\",\"個\",\"再\",\"的\",\"和\",\"是\",\"有\",\"更\",\"會\",\"可能\",\"有何\",\"從\",\"對\",\"就\", '\\n','越','為','這種','多','越來',' '])\n",
    "Sentence = jieba.cut_for_search(tmp)\n",
    "\n",
    "hash_ = dict()\n",
    "\n",
    "for i in Sentence:\n",
    "    if i in stopwords:\n",
    "        continue\n",
    "    if i in hash_:\n",
    "        hash_[i]+=1\n",
    "    else:\n",
    "        hash_[i]=1\n",
    "        \n",
    "wc = WordCloud(\"/System/Library/fonts/PingFang.ttc\",width = 600, height = 300,max_words=200,stopwords = stopwords)\n",
    "wc.generate_from_frequencies(hash_)\n",
    "plt.imshow(wc)\n",
    "plt.axis(\"off\")\n",
    "plt.figure(figsize = (50,50))\n",
    "plt.show()"
   ]
  },
  {
   "cell_type": "code",
   "execution_count": null,
   "metadata": {},
   "outputs": [],
   "source": []
  },
  {
   "cell_type": "code",
   "execution_count": null,
   "metadata": {},
   "outputs": [],
   "source": []
  },
  {
   "cell_type": "code",
   "execution_count": null,
   "metadata": {},
   "outputs": [],
   "source": []
  },
  {
   "cell_type": "code",
   "execution_count": null,
   "metadata": {},
   "outputs": [],
   "source": []
  },
  {
   "cell_type": "code",
   "execution_count": null,
   "metadata": {},
   "outputs": [],
   "source": []
  },
  {
   "cell_type": "code",
   "execution_count": 440,
   "metadata": {},
   "outputs": [],
   "source": []
  },
  {
   "cell_type": "code",
   "execution_count": 441,
   "metadata": {},
   "outputs": [],
   "source": []
  },
  {
   "cell_type": "code",
   "execution_count": null,
   "metadata": {},
   "outputs": [],
   "source": []
  },
  {
   "cell_type": "code",
   "execution_count": null,
   "metadata": {},
   "outputs": [],
   "source": []
  }
 ],
 "metadata": {
  "kernelspec": {
   "display_name": "Python 3",
   "language": "python",
   "name": "python3"
  },
  "language_info": {
   "codemirror_mode": {
    "name": "ipython",
    "version": 3
   },
   "file_extension": ".py",
   "mimetype": "text/x-python",
   "name": "python",
   "nbconvert_exporter": "python",
   "pygments_lexer": "ipython3",
   "version": "3.6.8"
  }
 },
 "nbformat": 4,
 "nbformat_minor": 2
}
