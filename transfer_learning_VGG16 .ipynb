{
 "cells": [
  {
   "cell_type": "code",
   "execution_count": 0,
   "metadata": {
    "colab": {},
    "colab_type": "code",
    "id": "tMkfWTFuSjLx"
   },
   "outputs": [],
   "source": [
    "##Using VGG16 to extract features"
   ]
  },
  {
   "cell_type": "code",
   "execution_count": 0,
   "metadata": {
    "colab": {},
    "colab_type": "code",
    "id": "L5IhGW_rx6cm"
   },
   "outputs": [],
   "source": []
  },
  {
   "cell_type": "code",
   "execution_count": 0,
   "metadata": {
    "colab": {},
    "colab_type": "code",
    "id": "TPk0Nia8eC9l"
   },
   "outputs": [],
   "source": [
    "import matplotlib.pyplot as plt\n",
    "import numpy as np\n",
    "\n",
    "from tensorflow.keras import datasets\n",
    "from tensorflow.keras.utils import to_categorical"
   ]
  },
  {
   "cell_type": "code",
   "execution_count": 0,
   "metadata": {
    "colab": {},
    "colab_type": "code",
    "id": "V_PMveoahr-0"
   },
   "outputs": [],
   "source": [
    "from tensorflow.keras.applications.vgg16 import VGG16\n",
    "\n",
    "from tensorflow.keras.models import Sequential\n",
    "from tensorflow.keras.layers import Dense\n",
    "\n",
    "from tensorflow.keras.layers import Conv2D, MaxPool2D, GlobalAveragePooling2D\n",
    "\n",
    "\n",
    "from tensorflow.keras.optimizers import SGD, Adam\n",
    "\n",
    "from tensorflow.keras.layers import Dropout, BatchNormalization"
   ]
  },
  {
   "cell_type": "code",
   "execution_count": 0,
   "metadata": {
    "colab": {},
    "colab_type": "code",
    "id": "HaJvyBole3GN"
   },
   "outputs": [],
   "source": [
    "name_list = ['airplane', 'automobile', 'bird', 'cat', 'deer', 'dog', 'frog', 'horse', 'ship', 'truck'] ## dataset category"
   ]
  },
  {
   "cell_type": "code",
   "execution_count": 0,
   "metadata": {
    "colab": {
     "base_uri": "https://localhost:8080/",
     "height": 52
    },
    "colab_type": "code",
    "id": "9dkcmI4Oe6Wq",
    "outputId": "c2afcb3a-7b03-4af2-ac78-a9ce8ffe24b2"
   },
   "outputs": [
    {
     "name": "stdout",
     "output_type": "stream",
     "text": [
      "Downloading data from https://www.cs.toronto.edu/~kriz/cifar-10-python.tar.gz\n",
      "170500096/170498071 [==============================] - 6s 0us/step\n"
     ]
    }
   ],
   "source": [
    "(X_train, Y_train_x), (X_test, Y_test_x) = datasets.cifar10.load_data() ## load dataset\n",
    "\n",
    "X_train = X_train / X_train.max()\n",
    "X_test = X_test / X_test.max()"
   ]
  },
  {
   "cell_type": "markdown",
   "metadata": {
    "colab_type": "text",
    "id": "NjsgAZoHv9rP"
   },
   "source": []
  },
  {
   "cell_type": "code",
   "execution_count": 0,
   "metadata": {
    "colab": {
     "base_uri": "https://localhost:8080/",
     "height": 34
    },
    "colab_type": "code",
    "id": "P_1ZP5VjhyhC",
    "outputId": "91eb95cd-41a9-4bdb-c43c-7e6492311720"
   },
   "outputs": [
    {
     "data": {
      "text/plain": [
       "(32, 32, 3)"
      ]
     },
     "execution_count": 6,
     "metadata": {
      "tags": []
     },
     "output_type": "execute_result"
    }
   ],
   "source": [
    "X_train[0].shape"
   ]
  },
  {
   "cell_type": "code",
   "execution_count": 0,
   "metadata": {
    "colab": {
     "base_uri": "https://localhost:8080/",
     "height": 34
    },
    "colab_type": "code",
    "id": "0oyvD_59ggvw",
    "outputId": "a5fd4614-b7e7-42d3-d3eb-1128cb9f5c5c"
   },
   "outputs": [
    {
     "data": {
      "text/plain": [
       "array([6], dtype=uint8)"
      ]
     },
     "execution_count": 7,
     "metadata": {
      "tags": []
     },
     "output_type": "execute_result"
    }
   ],
   "source": [
    "Y_train_x[0]"
   ]
  },
  {
   "cell_type": "code",
   "execution_count": 0,
   "metadata": {
    "colab": {
     "base_uri": "https://localhost:8080/",
     "height": 34
    },
    "colab_type": "code",
    "id": "-PVBOZnug4j3",
    "outputId": "4de575e9-6c90-4864-fe7f-6c55267516cf"
   },
   "outputs": [
    {
     "data": {
      "text/plain": [
       "array(6, dtype=uint8)"
      ]
     },
     "execution_count": 8,
     "metadata": {
      "tags": []
     },
     "output_type": "execute_result"
    }
   ],
   "source": [
    "Y_train_x[0].squeeze() ## remove dim = 1"
   ]
  },
  {
   "cell_type": "code",
   "execution_count": 0,
   "metadata": {
    "colab": {},
    "colab_type": "code",
    "id": "exerk4MyfzUn"
   },
   "outputs": [],
   "source": [
    "Y_train = to_categorical(Y_train_x, 10)\n",
    "Y_test = to_categorical(Y_test_x, 10)"
   ]
  },
  {
   "cell_type": "code",
   "execution_count": 0,
   "metadata": {
    "colab": {
     "base_uri": "https://localhost:8080/",
     "height": 34
    },
    "colab_type": "code",
    "id": "3Kf4rbHTgJcD",
    "outputId": "d07ca2cb-cb6c-44b0-e5f4-e66b99101d79"
   },
   "outputs": [
    {
     "data": {
      "text/plain": [
       "array([0., 0., 0., 0., 0., 0., 1., 0., 0., 0.], dtype=float32)"
      ]
     },
     "execution_count": 10,
     "metadata": {
      "tags": []
     },
     "output_type": "execute_result"
    }
   ],
   "source": [
    "Y_train[0]"
   ]
  },
  {
   "cell_type": "code",
   "execution_count": 0,
   "metadata": {
    "colab": {
     "base_uri": "https://localhost:8080/",
     "height": 282
    },
    "colab_type": "code",
    "id": "qwtx68CBfCCf",
    "outputId": "c69f7550-fc5e-44de-aab0-336fce53bb94"
   },
   "outputs": [
    {
     "data": {
      "text/plain": [
       "(-0.5, 31.5, 31.5, -0.5)"
      ]
     },
     "execution_count": 11,
     "metadata": {
      "tags": []
     },
     "output_type": "execute_result"
    },
    {
     "data": {
      "image/png": "[encoded data removed]",
      "text/plain": [
       "<Figure size 432x288 with 1 Axes>"
      ]
     },
     "metadata": {
      "needs_background": "light",
      "tags": []
     },
     "output_type": "display_data"
    }
   ],
   "source": [
    "plt.imshow(X_train[0])\n",
    "plt.title(name_list[Y_train_x[0].squeeze()])\n",
    "plt.axis(\"off\")"
   ]
  },
  {
   "cell_type": "code",
   "execution_count": 0,
   "metadata": {
    "colab": {
     "base_uri": "https://localhost:8080/",
     "height": 72
    },
    "colab_type": "code",
    "id": "YDMeMK7Kfb4s",
    "outputId": "a8acdbe2-75da-4089-9102-fca266e5d561"
   },
   "outputs": [
    {
     "name": "stdout",
     "output_type": "stream",
     "text": [
      "Downloading data from https://storage.googleapis.com/tensorflow/keras-applications/vgg16/vgg16_weights_tf_dim_ordering_tf_kernels_notop.h5\n",
      "58892288/58889256 [==============================] - 0s 0us/step\n"
     ]
    }
   ],
   "source": [
    "## VGG16\n",
    "VGG_model = VGG16(include_top=False, input_shape=(32, 32, 3)) ## include_top = False remove classifier part of the network"
   ]
  },
  {
   "cell_type": "code",
   "execution_count": 0,
   "metadata": {
    "colab": {
     "base_uri": "https://localhost:8080/",
     "height": 351
    },
    "colab_type": "code",
    "id": "vAhCiZM1h4uj",
    "outputId": "55a01e76-5899-4fee-8861-254cf1e24cc0"
   },
   "outputs": [
    {
     "data": {
      "text/plain": [
       "[<tensorflow.python.keras.engine.input_layer.InputLayer at 0x7fc03a08bfd0>,\n",
       " <tensorflow.python.keras.layers.convolutional.Conv2D at 0x7fbff7a480b8>,\n",
       " <tensorflow.python.keras.layers.convolutional.Conv2D at 0x7fbff7a48400>,\n",
       " <tensorflow.python.keras.layers.pooling.MaxPooling2D at 0x7fbff7201ac8>,\n",
       " <tensorflow.python.keras.layers.convolutional.Conv2D at 0x7fbff7201940>,\n",
       " <tensorflow.python.keras.layers.convolutional.Conv2D at 0x7fbfe0165c88>,\n",
       " <tensorflow.python.keras.layers.pooling.MaxPooling2D at 0x7fbfe016e3c8>,\n",
       " <tensorflow.python.keras.layers.convolutional.Conv2D at 0x7fbfe0178c50>,\n",
       " <tensorflow.python.keras.layers.convolutional.Conv2D at 0x7fbfe0178dd8>,\n",
       " <tensorflow.python.keras.layers.convolutional.Conv2D at 0x7fbfe017f588>,\n",
       " <tensorflow.python.keras.layers.pooling.MaxPooling2D at 0x7fbfe01854a8>,\n",
       " <tensorflow.python.keras.layers.convolutional.Conv2D at 0x7fbfe018db70>,\n",
       " <tensorflow.python.keras.layers.convolutional.Conv2D at 0x7fbfe01942e8>,\n",
       " <tensorflow.python.keras.layers.convolutional.Conv2D at 0x7fbfe019c4a8>,\n",
       " <tensorflow.python.keras.layers.pooling.MaxPooling2D at 0x7fbfe0123390>,\n",
       " <tensorflow.python.keras.layers.convolutional.Conv2D at 0x7fbfe0123240>,\n",
       " <tensorflow.python.keras.layers.convolutional.Conv2D at 0x7fbfe012a588>,\n",
       " <tensorflow.python.keras.layers.convolutional.Conv2D at 0x7fbfe0134748>,\n",
       " <tensorflow.python.keras.layers.pooling.MaxPooling2D at 0x7fbfe013a668>]"
      ]
     },
     "execution_count": 13,
     "metadata": {
      "tags": []
     },
     "output_type": "execute_result"
    }
   ],
   "source": [
    "VGG_model.layers ##take a look"
   ]
  },
  {
   "cell_type": "code",
   "execution_count": 0,
   "metadata": {
    "colab": {
     "base_uri": "https://localhost:8080/",
     "height": 34
    },
    "colab_type": "code",
    "id": "43X2M8tjiMmI",
    "outputId": "89e24740-8411-46e2-e8ba-cad2586928c9"
   },
   "outputs": [
    {
     "data": {
      "text/plain": [
       "<tensorflow.python.keras.layers.pooling.MaxPooling2D at 0x7fbfe013a668>"
      ]
     },
     "execution_count": 14,
     "metadata": {
      "tags": []
     },
     "output_type": "execute_result"
    }
   ],
   "source": [
    "VGG_model.layers.pop(-1) ##remove maxpolling, instead, using GlobalAveragePooling"
   ]
  },
  {
   "cell_type": "code",
   "execution_count": 0,
   "metadata": {
    "colab": {},
    "colab_type": "code",
    "id": "k9lAC9USjFbL"
   },
   "outputs": [],
   "source": [
    "## Our network\n",
    "\n",
    "GlobalAverage = [GlobalAveragePooling2D()]\n",
    "\n",
    "FC_layers = [Dense(units=128, activation='relu'),\n",
    "             Dense(units=64, activation='relu'),\n",
    "             BatchNormalization(),\n",
    "             Dense(units=10, activation='softmax')]\n"
   ]
  },
  {
   "cell_type": "code",
   "execution_count": 0,
   "metadata": {
    "colab": {},
    "colab_type": "code",
    "id": "bDTVMNoykFPn"
   },
   "outputs": [],
   "source": [
    "## freeze VGG weights\n",
    "for layers in VGG_model.layers:\n",
    "  layers.trainable = False"
   ]
  },
  {
   "cell_type": "code",
   "execution_count": 0,
   "metadata": {
    "colab": {},
    "colab_type": "code",
    "id": "3T6-2W1YkWpr"
   },
   "outputs": [],
   "source": []
  },
  {
   "cell_type": "code",
   "execution_count": 0,
   "metadata": {
    "colab": {},
    "colab_type": "code",
    "id": "FfKZ2u3rkrqV"
   },
   "outputs": [],
   "source": [
    "Our_model = Sequential(VGG_model.layers + GlobalAverage + FC_layers)"
   ]
  },
  {
   "cell_type": "code",
   "execution_count": 0,
   "metadata": {
    "colab": {
     "base_uri": "https://localhost:8080/",
     "height": 967
    },
    "colab_type": "code",
    "id": "1qxpOu1RlVZ5",
    "outputId": "44b8fc79-0ff6-40fd-ea27-f1f06cb82ee5"
   },
   "outputs": [
    {
     "name": "stdout",
     "output_type": "stream",
     "text": [
      "Model: \"sequential\"\n",
      "_________________________________________________________________\n",
      "Layer (type)                 Output Shape              Param #   \n",
      "=================================================================\n",
      "block1_conv1 (Conv2D)        (None, 32, 32, 64)        1792      \n",
      "_________________________________________________________________\n",
      "block1_conv2 (Conv2D)        (None, 32, 32, 64)        36928     \n",
      "_________________________________________________________________\n",
      "block1_pool (MaxPooling2D)   (None, 16, 16, 64)        0         \n",
      "_________________________________________________________________\n",
      "block2_conv1 (Conv2D)        (None, 16, 16, 128)       73856     \n",
      "_________________________________________________________________\n",
      "block2_conv2 (Conv2D)        (None, 16, 16, 128)       147584    \n",
      "_________________________________________________________________\n",
      "block2_pool (MaxPooling2D)   (None, 8, 8, 128)         0         \n",
      "_________________________________________________________________\n",
      "block3_conv1 (Conv2D)        (None, 8, 8, 256)         295168    \n",
      "_________________________________________________________________\n",
      "block3_conv2 (Conv2D)        (None, 8, 8, 256)         590080    \n",
      "_________________________________________________________________\n",
      "block3_conv3 (Conv2D)        (None, 8, 8, 256)         590080    \n",
      "_________________________________________________________________\n",
      "block3_pool (MaxPooling2D)   (None, 4, 4, 256)         0         \n",
      "_________________________________________________________________\n",
      "block4_conv1 (Conv2D)        (None, 4, 4, 512)         1180160   \n",
      "_________________________________________________________________\n",
      "block4_conv2 (Conv2D)        (None, 4, 4, 512)         2359808   \n",
      "_________________________________________________________________\n",
      "block4_conv3 (Conv2D)        (None, 4, 4, 512)         2359808   \n",
      "_________________________________________________________________\n",
      "block4_pool (MaxPooling2D)   (None, 2, 2, 512)         0         \n",
      "_________________________________________________________________\n",
      "block5_conv1 (Conv2D)        (None, 2, 2, 512)         2359808   \n",
      "_________________________________________________________________\n",
      "block5_conv2 (Conv2D)        (None, 2, 2, 512)         2359808   \n",
      "_________________________________________________________________\n",
      "block5_conv3 (Conv2D)        (None, 2, 2, 512)         2359808   \n",
      "_________________________________________________________________\n",
      "block5_pool (MaxPooling2D)   (None, 1, 1, 512)         0         \n",
      "_________________________________________________________________\n",
      "global_average_pooling2d (Gl (None, 512)               0         \n",
      "_________________________________________________________________\n",
      "dense (Dense)                (None, 128)               65664     \n",
      "_________________________________________________________________\n",
      "dense_1 (Dense)              (None, 64)                8256      \n",
      "_________________________________________________________________\n",
      "batch_normalization (BatchNo (None, 64)                256       \n",
      "_________________________________________________________________\n",
      "dense_2 (Dense)              (None, 10)                650       \n",
      "=================================================================\n",
      "Total params: 14,789,514\n",
      "Trainable params: 74,698\n",
      "Non-trainable params: 14,714,816\n",
      "_________________________________________________________________\n"
     ]
    }
   ],
   "source": [
    "Our_model.summary()"
   ]
  },
  {
   "cell_type": "code",
   "execution_count": 0,
   "metadata": {
    "colab": {},
    "colab_type": "code",
    "id": "Nv6YzWr-mggP"
   },
   "outputs": [],
   "source": [
    "Our_model.compile(loss='categorical_crossentropy', optimizer=Adam(),metrics=['categorical_accuracy'])"
   ]
  },
  {
   "cell_type": "code",
   "execution_count": 0,
   "metadata": {
    "colab": {
     "base_uri": "https://localhost:8080/",
     "height": 618
    },
    "colab_type": "code",
    "id": "uXeTpournwlX",
    "outputId": "fc2019fc-d92f-4c90-fe53-19aa539586b1"
   },
   "outputs": [
    {
     "name": "stdout",
     "output_type": "stream",
     "text": [
      "Epoch 1/16\n",
      "196/196 [==============================] - 5s 27ms/step - loss: 1.4347 - categorical_accuracy: 0.5043 - val_loss: 1.4268 - val_categorical_accuracy: 0.5041\n",
      "Epoch 2/16\n",
      "196/196 [==============================] - 5s 24ms/step - loss: 1.1937 - categorical_accuracy: 0.5853 - val_loss: 1.2372 - val_categorical_accuracy: 0.5716\n",
      "Epoch 3/16\n",
      "196/196 [==============================] - 5s 24ms/step - loss: 1.1343 - categorical_accuracy: 0.6046 - val_loss: 1.1950 - val_categorical_accuracy: 0.5819\n",
      "Epoch 4/16\n",
      "196/196 [==============================] - 5s 24ms/step - loss: 1.0995 - categorical_accuracy: 0.6179 - val_loss: 1.1689 - val_categorical_accuracy: 0.5920\n",
      "Epoch 5/16\n",
      "196/196 [==============================] - 5s 24ms/step - loss: 1.0696 - categorical_accuracy: 0.6282 - val_loss: 1.1740 - val_categorical_accuracy: 0.5944\n",
      "Epoch 6/16\n",
      "196/196 [==============================] - 5s 24ms/step - loss: 1.0448 - categorical_accuracy: 0.6358 - val_loss: 1.2426 - val_categorical_accuracy: 0.5727\n",
      "Epoch 7/16\n",
      "196/196 [==============================] - 5s 24ms/step - loss: 1.0216 - categorical_accuracy: 0.6431 - val_loss: 1.1743 - val_categorical_accuracy: 0.5964\n",
      "Epoch 8/16\n",
      "196/196 [==============================] - 5s 24ms/step - loss: 1.0005 - categorical_accuracy: 0.6488 - val_loss: 1.2186 - val_categorical_accuracy: 0.5850\n",
      "Epoch 9/16\n",
      "196/196 [==============================] - 5s 24ms/step - loss: 0.9833 - categorical_accuracy: 0.6558 - val_loss: 1.2150 - val_categorical_accuracy: 0.5888\n",
      "Epoch 10/16\n",
      "196/196 [==============================] - 5s 24ms/step - loss: 0.9633 - categorical_accuracy: 0.6627 - val_loss: 1.1964 - val_categorical_accuracy: 0.5890\n",
      "Epoch 11/16\n",
      "196/196 [==============================] - 5s 24ms/step - loss: 0.9452 - categorical_accuracy: 0.6674 - val_loss: 1.1903 - val_categorical_accuracy: 0.5983\n",
      "Epoch 12/16\n",
      "196/196 [==============================] - 5s 24ms/step - loss: 0.9289 - categorical_accuracy: 0.6732 - val_loss: 1.1580 - val_categorical_accuracy: 0.6018\n",
      "Epoch 13/16\n",
      "196/196 [==============================] - 5s 24ms/step - loss: 0.9122 - categorical_accuracy: 0.6804 - val_loss: 1.1775 - val_categorical_accuracy: 0.6036\n",
      "Epoch 14/16\n",
      "196/196 [==============================] - 5s 24ms/step - loss: 0.8966 - categorical_accuracy: 0.6851 - val_loss: 1.1738 - val_categorical_accuracy: 0.6057\n",
      "Epoch 15/16\n",
      "196/196 [==============================] - 5s 24ms/step - loss: 0.8855 - categorical_accuracy: 0.6894 - val_loss: 1.2019 - val_categorical_accuracy: 0.5972\n",
      "Epoch 16/16\n",
      "196/196 [==============================] - 5s 24ms/step - loss: 0.8707 - categorical_accuracy: 0.6932 - val_loss: 1.1869 - val_categorical_accuracy: 0.6042\n"
     ]
    },
    {
     "data": {
      "text/plain": [
       "<tensorflow.python.keras.callbacks.History at 0x7fbfe002a278>"
      ]
     },
     "execution_count": 20,
     "metadata": {
      "tags": []
     },
     "output_type": "execute_result"
    }
   ],
   "source": [
    "Our_model.fit( X_train, Y_train, batch_size=256, epochs=16, validation_data=(X_test, Y_test) )"
   ]
  },
  {
   "cell_type": "code",
   "execution_count": 0,
   "metadata": {
    "colab": {},
    "colab_type": "code",
    "id": "K89c1fouoEqb"
   },
   "outputs": [],
   "source": [
    "## seems maybe VGG16(freeze) + our model is not that appropriate for cifar10, \n",
    "## https://stackoverflow.com/questions/57935576/is-it-normal-that-transfer-learning-vgg16-performs-worse-on-cifar-10\n",
    "## TO DO : Fine-tune the model\n"
   ]
  },
  {
   "cell_type": "code",
   "execution_count": 0,
   "metadata": {
    "colab": {},
    "colab_type": "code",
    "id": "nYBuB5b5pASE"
   },
   "outputs": [],
   "source": [
    "## fine-tune VGG weights\n",
    "for layers in VGG_model.layers:\n",
    "  layers.trainable = True"
   ]
  },
  {
   "cell_type": "code",
   "execution_count": 0,
   "metadata": {
    "colab": {},
    "colab_type": "code",
    "id": "PCUlyvsIrQYf"
   },
   "outputs": [],
   "source": [
    "Our_model_tune = Sequential(VGG_model.layers + GlobalAverage + FC_layers)"
   ]
  },
  {
   "cell_type": "code",
   "execution_count": 0,
   "metadata": {
    "colab": {
     "base_uri": "https://localhost:8080/",
     "height": 967
    },
    "colab_type": "code",
    "id": "R6-41-Sgqv9U",
    "outputId": "90761af8-266b-40d8-f5d4-fd0f01e6bdd6"
   },
   "outputs": [
    {
     "name": "stdout",
     "output_type": "stream",
     "text": [
      "Model: \"sequential_1\"\n",
      "_________________________________________________________________\n",
      "Layer (type)                 Output Shape              Param #   \n",
      "=================================================================\n",
      "block1_conv1 (Conv2D)        (None, 32, 32, 64)        1792      \n",
      "_________________________________________________________________\n",
      "block1_conv2 (Conv2D)        (None, 32, 32, 64)        36928     \n",
      "_________________________________________________________________\n",
      "block1_pool (MaxPooling2D)   (None, 16, 16, 64)        0         \n",
      "_________________________________________________________________\n",
      "block2_conv1 (Conv2D)        (None, 16, 16, 128)       73856     \n",
      "_________________________________________________________________\n",
      "block2_conv2 (Conv2D)        (None, 16, 16, 128)       147584    \n",
      "_________________________________________________________________\n",
      "block2_pool (MaxPooling2D)   (None, 8, 8, 128)         0         \n",
      "_________________________________________________________________\n",
      "block3_conv1 (Conv2D)        (None, 8, 8, 256)         295168    \n",
      "_________________________________________________________________\n",
      "block3_conv2 (Conv2D)        (None, 8, 8, 256)         590080    \n",
      "_________________________________________________________________\n",
      "block3_conv3 (Conv2D)        (None, 8, 8, 256)         590080    \n",
      "_________________________________________________________________\n",
      "block3_pool (MaxPooling2D)   (None, 4, 4, 256)         0         \n",
      "_________________________________________________________________\n",
      "block4_conv1 (Conv2D)        (None, 4, 4, 512)         1180160   \n",
      "_________________________________________________________________\n",
      "block4_conv2 (Conv2D)        (None, 4, 4, 512)         2359808   \n",
      "_________________________________________________________________\n",
      "block4_conv3 (Conv2D)        (None, 4, 4, 512)         2359808   \n",
      "_________________________________________________________________\n",
      "block4_pool (MaxPooling2D)   (None, 2, 2, 512)         0         \n",
      "_________________________________________________________________\n",
      "block5_conv1 (Conv2D)        (None, 2, 2, 512)         2359808   \n",
      "_________________________________________________________________\n",
      "block5_conv2 (Conv2D)        (None, 2, 2, 512)         2359808   \n",
      "_________________________________________________________________\n",
      "block5_conv3 (Conv2D)        (None, 2, 2, 512)         2359808   \n",
      "_________________________________________________________________\n",
      "block5_pool (MaxPooling2D)   (None, 1, 1, 512)         0         \n",
      "_________________________________________________________________\n",
      "global_average_pooling2d (Gl (None, 512)               0         \n",
      "_________________________________________________________________\n",
      "dense (Dense)                (None, 128)               65664     \n",
      "_________________________________________________________________\n",
      "dense_1 (Dense)              (None, 64)                8256      \n",
      "_________________________________________________________________\n",
      "batch_normalization (BatchNo (None, 64)                256       \n",
      "_________________________________________________________________\n",
      "dense_2 (Dense)              (None, 10)                650       \n",
      "=================================================================\n",
      "Total params: 14,789,514\n",
      "Trainable params: 14,789,386\n",
      "Non-trainable params: 128\n",
      "_________________________________________________________________\n"
     ]
    }
   ],
   "source": [
    "Our_model_tune.summary()"
   ]
  },
  {
   "cell_type": "code",
   "execution_count": 0,
   "metadata": {
    "colab": {},
    "colab_type": "code",
    "id": "_L0lbaworCew"
   },
   "outputs": [],
   "source": [
    "Our_model_tune.compile(loss='categorical_crossentropy', optimizer=Adam(),metrics=['categorical_accuracy'])"
   ]
  },
  {
   "cell_type": "code",
   "execution_count": 0,
   "metadata": {
    "colab": {
     "base_uri": "https://localhost:8080/",
     "height": 618
    },
    "colab_type": "code",
    "id": "qhfAlLndsBPK",
    "outputId": "28742a98-952c-437c-9b24-b3a2d5931ac0"
   },
   "outputs": [
    {
     "name": "stdout",
     "output_type": "stream",
     "text": [
      "Epoch 1/16\n",
      "196/196 [==============================] - 12s 61ms/step - loss: 2.1159 - categorical_accuracy: 0.1994 - val_loss: 6.0142 - val_categorical_accuracy: 0.1000\n",
      "Epoch 2/16\n",
      "196/196 [==============================] - 12s 59ms/step - loss: 1.6363 - categorical_accuracy: 0.3716 - val_loss: 2.4109 - val_categorical_accuracy: 0.1905\n",
      "Epoch 3/16\n",
      "196/196 [==============================] - 12s 60ms/step - loss: 1.2841 - categorical_accuracy: 0.5180 - val_loss: 1.8106 - val_categorical_accuracy: 0.3250\n",
      "Epoch 4/16\n",
      "196/196 [==============================] - 12s 60ms/step - loss: 1.3592 - categorical_accuracy: 0.4795 - val_loss: 7.7896 - val_categorical_accuracy: 0.1000\n",
      "Epoch 5/16\n",
      "196/196 [==============================] - 12s 60ms/step - loss: 1.2315 - categorical_accuracy: 0.5230 - val_loss: 9.9365 - val_categorical_accuracy: 0.1000\n",
      "Epoch 6/16\n",
      "196/196 [==============================] - 12s 60ms/step - loss: 1.0580 - categorical_accuracy: 0.6109 - val_loss: 6.8128 - val_categorical_accuracy: 0.1050\n",
      "Epoch 7/16\n",
      "196/196 [==============================] - 12s 60ms/step - loss: 0.8757 - categorical_accuracy: 0.6845 - val_loss: 2.0812 - val_categorical_accuracy: 0.3255\n",
      "Epoch 8/16\n",
      "196/196 [==============================] - 12s 60ms/step - loss: 0.7144 - categorical_accuracy: 0.7444 - val_loss: 1.1000 - val_categorical_accuracy: 0.6229\n",
      "Epoch 9/16\n",
      "196/196 [==============================] - 12s 60ms/step - loss: 0.6006 - categorical_accuracy: 0.7860 - val_loss: 0.7938 - val_categorical_accuracy: 0.7353\n",
      "Epoch 10/16\n",
      "196/196 [==============================] - 12s 60ms/step - loss: 0.4996 - categorical_accuracy: 0.8239 - val_loss: 0.8806 - val_categorical_accuracy: 0.7286\n",
      "Epoch 11/16\n",
      "196/196 [==============================] - 12s 60ms/step - loss: 0.4151 - categorical_accuracy: 0.8537 - val_loss: 0.7476 - val_categorical_accuracy: 0.7607\n",
      "Epoch 12/16\n",
      "196/196 [==============================] - 12s 60ms/step - loss: 0.3512 - categorical_accuracy: 0.8782 - val_loss: 0.9543 - val_categorical_accuracy: 0.7298\n",
      "Epoch 13/16\n",
      "196/196 [==============================] - 12s 60ms/step - loss: 0.2658 - categorical_accuracy: 0.9081 - val_loss: 0.8344 - val_categorical_accuracy: 0.7586\n",
      "Epoch 14/16\n",
      "196/196 [==============================] - 12s 60ms/step - loss: 0.2102 - categorical_accuracy: 0.9288 - val_loss: 0.9709 - val_categorical_accuracy: 0.7553\n",
      "Epoch 15/16\n",
      "196/196 [==============================] - 12s 60ms/step - loss: 0.1620 - categorical_accuracy: 0.9454 - val_loss: 1.0178 - val_categorical_accuracy: 0.7522\n",
      "Epoch 16/16\n",
      "196/196 [==============================] - 12s 60ms/step - loss: 0.1248 - categorical_accuracy: 0.9589 - val_loss: 1.0894 - val_categorical_accuracy: 0.7597\n"
     ]
    },
    {
     "data": {
      "text/plain": [
       "<tensorflow.python.keras.callbacks.History at 0x7fbf9a35bd68>"
      ]
     },
     "execution_count": 26,
     "metadata": {
      "tags": []
     },
     "output_type": "execute_result"
    }
   ],
   "source": [
    "Our_model_tune.fit( X_train, Y_train, batch_size=256, epochs=16, validation_data=(X_test, Y_test) )"
   ]
  },
  {
   "cell_type": "code",
   "execution_count": 0,
   "metadata": {
    "colab": {},
    "colab_type": "code",
    "id": "qZLVxwyqtDh5"
   },
   "outputs": [],
   "source": [
    "## work so much well than frozen the VGG weights.\n",
    "## a pre-trained weight with fine tuning is appropriate for cifar10."
   ]
  },
  {
   "cell_type": "code",
   "execution_count": 0,
   "metadata": {
    "colab": {},
    "colab_type": "code",
    "id": "8bfVNtXBtFWO"
   },
   "outputs": [],
   "source": [
    "##save"
   ]
  },
  {
   "cell_type": "code",
   "execution_count": 0,
   "metadata": {
    "colab": {},
    "colab_type": "code",
    "id": "K_gB7jMtMA0g"
   },
   "outputs": [],
   "source": []
  }
 ],
 "metadata": {
  "accelerator": "GPU",
  "colab": {
   "collapsed_sections": [],
   "name": "transfer_learning_VGG16.ipynb",
   "provenance": []
  },
  "kernelspec": {
   "display_name": "Python 3",
   "language": "python",
   "name": "python3"
  },
  "language_info": {
   "codemirror_mode": {
    "name": "ipython",
    "version": 3
   },
   "file_extension": ".py",
   "mimetype": "text/x-python",
   "name": "python",
   "nbconvert_exporter": "python",
   "pygments_lexer": "ipython3",
   "version": "3.6.8"
  }
 },
 "nbformat": 4,
 "nbformat_minor": 1
}
