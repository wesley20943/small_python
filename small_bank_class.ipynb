{
 "cells": [
  {
   "cell_type": "code",
   "execution_count": 1,
   "metadata": {},
   "outputs": [],
   "source": [
    "## small bank"
   ]
  },
  {
   "cell_type": "code",
   "execution_count": 33,
   "metadata": {},
   "outputs": [],
   "source": [
    "class bank_account():\n",
    "    def __init__(self, number, name):\n",
    "        self.number = number\n",
    "        self.name = name\n",
    "        self.account_money = 0\n",
    "        \n",
    "    def deposit(self, money):\n",
    "        self.account_money += money\n",
    "        \n",
    "    def withdraw(self, money):\n",
    "        self.account_money -= money\n",
    "    \n",
    "    def check(self):\n",
    "        print(f'account_number:{self.name} has ${self.account_money} left.')\n",
    "        "
   ]
  },
  {
   "cell_type": "code",
   "execution_count": 34,
   "metadata": {},
   "outputs": [],
   "source": [
    "acc = bank_account(\"123\",\"handsome\")"
   ]
  },
  {
   "cell_type": "code",
   "execution_count": 35,
   "metadata": {},
   "outputs": [],
   "source": [
    "acc.deposit(50)"
   ]
  },
  {
   "cell_type": "code",
   "execution_count": 36,
   "metadata": {},
   "outputs": [],
   "source": [
    "acc.withdraw(40)"
   ]
  },
  {
   "cell_type": "code",
   "execution_count": 37,
   "metadata": {},
   "outputs": [],
   "source": [
    "acc.deposit(100000)"
   ]
  },
  {
   "cell_type": "code",
   "execution_count": 38,
   "metadata": {},
   "outputs": [
    {
     "name": "stdout",
     "output_type": "stream",
     "text": [
      "account_number:handsome has $100010 left.\n"
     ]
    }
   ],
   "source": [
    "acc.check()"
   ]
  },
  {
   "cell_type": "code",
   "execution_count": 76,
   "metadata": {},
   "outputs": [],
   "source": [
    "class bank_account():\n",
    "    def __init__(self, number, name):\n",
    "        self.number = number\n",
    "        self.name = name\n",
    "        self.account_money = 0\n",
    "        \n",
    "    def deposit(self, money):\n",
    "        self.account_money += money\n",
    "        \n",
    "    def withdraw(self, money):\n",
    "        self.account_money -= money\n",
    "    \n",
    "    def check(self):\n",
    "        print(f'account_number:{self.name} has ${self.account_money} left.')\n",
    "\n",
    "\n",
    "\n",
    "class vip_account(bank_account): ## vip 不用存就有10000,存進去還加倍 貧富不均\n",
    "    def __init__(self, number, name):\n",
    "        super().__init__(number, name)\n",
    "        self.account_money = 10000\n",
    "        \n",
    "    def deposit(self, money):\n",
    "        self.account_money += 2*money"
   ]
  },
  {
   "cell_type": "code",
   "execution_count": 85,
   "metadata": {},
   "outputs": [],
   "source": [
    "acc = vip_account(\"123\",\"me\")"
   ]
  },
  {
   "cell_type": "code",
   "execution_count": 86,
   "metadata": {},
   "outputs": [],
   "source": [
    "acc.deposit(100)"
   ]
  },
  {
   "cell_type": "code",
   "execution_count": 87,
   "metadata": {},
   "outputs": [
    {
     "name": "stdout",
     "output_type": "stream",
     "text": [
      "account_number:me has $10200 left.\n"
     ]
    }
   ],
   "source": [
    "acc.check()"
   ]
  },
  {
   "cell_type": "code",
   "execution_count": null,
   "metadata": {},
   "outputs": [],
   "source": []
  }
 ],
 "metadata": {
  "kernelspec": {
   "display_name": "Python 3",
   "language": "python",
   "name": "python3"
  },
  "language_info": {
   "codemirror_mode": {
    "name": "ipython",
    "version": 3
   },
   "file_extension": ".py",
   "mimetype": "text/x-python",
   "name": "python",
   "nbconvert_exporter": "python",
   "pygments_lexer": "ipython3",
   "version": "3.6.8"
  }
 },
 "nbformat": 4,
 "nbformat_minor": 2
}
