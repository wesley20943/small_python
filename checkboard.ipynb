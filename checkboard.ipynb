{
 "cells": [
  {
   "cell_type": "code",
   "execution_count": 34,
   "metadata": {},
   "outputs": [],
   "source": [
    "import numpy as np"
   ]
  },
  {
   "cell_type": "code",
   "execution_count": 94,
   "metadata": {},
   "outputs": [],
   "source": [
    "checkboard_size = 15\n",
    "\n",
    "cb = np.zeros([checkboard_size,checkboard_size])"
   ]
  },
  {
   "cell_type": "code",
   "execution_count": 44,
   "metadata": {},
   "outputs": [],
   "source": [
    "black_step = 1\n",
    "white_step = 2\n",
    "\n",
    "turn = 1\n",
    "black_turn = 1\n",
    "white_turn = 2"
   ]
  },
  {
   "cell_type": "code",
   "execution_count": 61,
   "metadata": {},
   "outputs": [],
   "source": [
    "cb = np.ones([10,10])"
   ]
  },
  {
   "cell_type": "code",
   "execution_count": 87,
   "metadata": {},
   "outputs": [],
   "source": []
  },
  {
   "cell_type": "code",
   "execution_count": 97,
   "metadata": {},
   "outputs": [],
   "source": [
    "cb = np.ones([15,15])\n",
    "for i in range(15):\n",
    "    cb[i,1] = 2\n",
    "    cb[i,3] = 2\n",
    "    cb[i,6] = 2\n",
    "    cb[i,7] = 2\n"
   ]
  },
  {
   "cell_type": "code",
   "execution_count": 105,
   "metadata": {},
   "outputs": [
    {
     "data": {
      "text/plain": [
       "array([[1., 2., 1., 2., 1., 1., 2., 2., 1., 1., 1., 1., 1., 1., 1.],\n",
       "       [1., 2., 1., 2., 1., 1., 2., 2., 1., 1., 1., 1., 1., 1., 1.],\n",
       "       [1., 2., 1., 2., 1., 1., 2., 2., 1., 1., 1., 1., 1., 1., 1.],\n",
       "       [1., 2., 1., 2., 1., 1., 2., 2., 1., 1., 1., 1., 1., 1., 1.],\n",
       "       [1., 2., 1., 2., 1., 1., 2., 2., 1., 1., 1., 1., 1., 1., 1.],\n",
       "       [1., 2., 1., 2., 1., 1., 2., 2., 1., 1., 1., 1., 1., 1., 1.],\n",
       "       [1., 2., 1., 2., 1., 1., 2., 2., 1., 1., 1., 1., 1., 1., 1.],\n",
       "       [1., 2., 1., 2., 1., 1., 2., 2., 1., 1., 1., 1., 1., 1., 1.],\n",
       "       [1., 2., 1., 2., 1., 1., 2., 2., 1., 1., 1., 1., 1., 1., 1.],\n",
       "       [1., 2., 1., 2., 1., 1., 2., 2., 1., 1., 1., 1., 1., 1., 1.],\n",
       "       [1., 2., 1., 2., 1., 1., 2., 2., 1., 1., 1., 1., 1., 1., 1.],\n",
       "       [1., 2., 1., 2., 1., 1., 2., 2., 1., 1., 1., 1., 1., 1., 1.],\n",
       "       [1., 2., 1., 2., 1., 1., 2., 2., 1., 1., 1., 1., 1., 1., 1.],\n",
       "       [1., 2., 1., 2., 1., 1., 2., 2., 1., 1., 1., 1., 1., 1., 1.],\n",
       "       [1., 2., 1., 2., 1., 1., 2., 2., 1., 1., 1., 1., 1., 1., 1.]])"
      ]
     },
     "execution_count": 105,
     "metadata": {},
     "output_type": "execute_result"
    }
   ],
   "source": [
    "cb"
   ]
  },
  {
   "cell_type": "code",
   "execution_count": 131,
   "metadata": {},
   "outputs": [
    {
     "name": "stdout",
     "output_type": "stream",
     "text": [
      "gameover\n"
     ]
    }
   ],
   "source": [
    "##判斷直\n",
    "ct = 0\n",
    "g = 1\n",
    "checkboard_size = 15\n",
    "for j in range(checkboard_size):\n",
    "    if g ==0:\n",
    "        break\n",
    "    for i in range(checkboard_size):\n",
    "        tmp = cb[i,j]\n",
    "        if tmp == turn:\n",
    "            ct+=1\n",
    "            if ct==5:\n",
    "                print(\"gameover\")\n",
    "                g =0\n",
    "                break\n",
    "            \n",
    "        else:\n",
    "            ct =0\n"
   ]
  },
  {
   "cell_type": "code",
   "execution_count": 116,
   "metadata": {},
   "outputs": [
    {
     "data": {
      "text/plain": [
       "array([[1., 2., 1., 2., 1., 1., 2., 2., 1., 1., 1., 1., 1., 1., 1.],\n",
       "       [1., 2., 1., 2., 1., 1., 2., 2., 1., 1., 1., 1., 1., 1., 1.],\n",
       "       [1., 2., 1., 2., 1., 1., 2., 2., 1., 1., 1., 1., 1., 1., 1.],\n",
       "       [1., 2., 1., 2., 1., 1., 2., 2., 1., 1., 1., 1., 1., 1., 1.],\n",
       "       [1., 2., 1., 2., 1., 1., 2., 2., 1., 1., 1., 1., 1., 1., 1.],\n",
       "       [1., 2., 1., 2., 1., 1., 2., 2., 1., 1., 1., 1., 1., 1., 1.],\n",
       "       [1., 2., 1., 2., 1., 1., 2., 2., 1., 1., 1., 1., 1., 1., 1.],\n",
       "       [1., 2., 1., 2., 1., 1., 2., 2., 1., 1., 1., 1., 1., 1., 1.],\n",
       "       [1., 2., 1., 2., 1., 1., 2., 2., 1., 1., 1., 1., 1., 1., 1.],\n",
       "       [1., 2., 1., 2., 1., 1., 2., 2., 1., 1., 1., 1., 1., 1., 1.],\n",
       "       [1., 2., 1., 2., 1., 1., 2., 2., 1., 1., 1., 1., 1., 1., 1.],\n",
       "       [1., 2., 1., 2., 1., 1., 2., 2., 1., 1., 1., 1., 1., 1., 1.],\n",
       "       [1., 2., 1., 2., 1., 1., 2., 2., 1., 1., 1., 1., 1., 1., 1.],\n",
       "       [1., 2., 1., 2., 1., 1., 2., 2., 1., 1., 1., 1., 1., 1., 1.],\n",
       "       [1., 2., 1., 2., 1., 1., 2., 2., 1., 1., 1., 1., 1., 1., 1.]])"
      ]
     },
     "execution_count": 116,
     "metadata": {},
     "output_type": "execute_result"
    }
   ],
   "source": [
    "cb"
   ]
  },
  {
   "cell_type": "code",
   "execution_count": 133,
   "metadata": {},
   "outputs": [
    {
     "name": "stdout",
     "output_type": "stream",
     "text": [
      "gameover\n"
     ]
    }
   ],
   "source": [
    "##判斷橫            \n",
    "ct = 0\n",
    "g = 1\n",
    "checkboard_size = 15\n",
    "for i in range(checkboard_size):\n",
    "    if g ==0:\n",
    "        break\n",
    "    for j in range(checkboard_size):\n",
    "        tmp = cb[i,j]\n",
    "        \n",
    "        if tmp == turn:\n",
    "            ct+=1\n",
    "            \n",
    "            if ct==5:\n",
    "                print(\"gameover\")\n",
    "                g = 0\n",
    "\n",
    "                break\n",
    "            \n",
    "        else:\n",
    "            ct =0\n",
    "            continue"
   ]
  },
  {
   "cell_type": "code",
   "execution_count": 172,
   "metadata": {},
   "outputs": [
    {
     "name": "stdout",
     "output_type": "stream",
     "text": [
      "gameover\n"
     ]
    }
   ],
   "source": [
    "## 判斷斜線\n",
    "for i in range(checkboard_size):\n",
    "    for j in range(checkboard_size):\n",
    "        \n",
    "        if i+1<checkboard_size and i+2<checkboard_size and i+3<checkboard_size and i+4<checkboard_size and j+1<checkboard_size and j+2<checkboard_size and j+3<checkboard_size and j+4<checkboard_size:\n",
    "            if cb[i,j] == cb[i+1,j+1] == cb[i+2,j+2] == cb[i+3,j+3] == cb[i+4,j+4] == turn:\n",
    "                print(\"gameover\")\n",
    "                break\n",
    "                "
   ]
  },
  {
   "cell_type": "code",
   "execution_count": 169,
   "metadata": {},
   "outputs": [
    {
     "data": {
      "text/plain": [
       "1.0"
      ]
     },
     "execution_count": 169,
     "metadata": {},
     "output_type": "execute_result"
    }
   ],
   "source": [
    "tmp"
   ]
  },
  {
   "cell_type": "code",
   "execution_count": null,
   "metadata": {},
   "outputs": [],
   "source": []
  },
  {
   "cell_type": "code",
   "execution_count": 213,
   "metadata": {},
   "outputs": [],
   "source": [
    "def win(checkboard_size,turn):\n",
    "    ct = 0\n",
    "    g = 1\n",
    "    for j in range(checkboard_size):\n",
    "        if g ==0:\n",
    "            break\n",
    "        for i in range(checkboard_size):\n",
    "            tmp = cb[i,j]\n",
    "            if tmp == turn:\n",
    "                ct+=1\n",
    "                if ct==5:\n",
    "                    print(\"gameover\")\n",
    "                    g =0\n",
    "                    return True\n",
    "            \n",
    "            else:\n",
    "                ct =0\n",
    "\n",
    "    ##判斷橫            \n",
    "    ct = 0\n",
    "    g = 1\n",
    "    for i in range(checkboard_size):\n",
    "        if g ==0:\n",
    "            break\n",
    "        for j in range(checkboard_size):\n",
    "            tmp = cb[i,j]\n",
    "\n",
    "            if tmp == turn:\n",
    "                ct+=1\n",
    "\n",
    "                if ct==5:\n",
    "                    print(\"gameover\")\n",
    "                    g = 0\n",
    "\n",
    "                    return True\n",
    "\n",
    "            else:\n",
    "                ct =0\n",
    "                continue\n",
    "    ## 判斷斜線\n",
    "    for i in range(checkboard_size):\n",
    "        for j in range(checkboard_size):\n",
    "\n",
    "            if i+1<checkboard_size and i+2<checkboard_size and i+3<checkboard_size and i+4<checkboard_size and j+1<checkboard_size and j+2<checkboard_size and j+3<checkboard_size and j+4<checkboard_size:\n",
    "                if cb[i,j] == cb[i+1,j+1] == cb[i+2,j+2] == cb[i+3,j+3] == cb[i+4,j+4] == turn:\n",
    "                    print(\"gameover\")\n",
    "                    return True\n",
    "    \n",
    "    return False\n",
    "                \n",
    "    \n",
    "    \n",
    "    "
   ]
  },
  {
   "cell_type": "code",
   "execution_count": 215,
   "metadata": {},
   "outputs": [
    {
     "name": "stdout",
     "output_type": "stream",
     "text": [
      "now is black turn\n",
      "your moves0,0\n",
      "[[0. 0. 0. 0. 0.]\n",
      " [0. 0. 0. 0. 0.]\n",
      " [0. 0. 0. 0. 0.]\n",
      " [0. 0. 0. 0. 0.]\n",
      " [1. 0. 0. 0. 0.]]\n",
      "now is white turn\n",
      "your moves0,1\n",
      "[[0. 0. 0. 0. 0.]\n",
      " [0. 0. 0. 0. 0.]\n",
      " [0. 0. 0. 0. 0.]\n",
      " [0. 0. 0. 0. 0.]\n",
      " [1. 2. 0. 0. 0.]]\n",
      "now is black turn\n",
      "your moves1,1\n",
      "[[0. 0. 0. 0. 0.]\n",
      " [0. 0. 0. 0. 0.]\n",
      " [0. 0. 0. 0. 0.]\n",
      " [0. 1. 0. 0. 0.]\n",
      " [1. 2. 0. 0. 0.]]\n",
      "now is white turn\n",
      "your moves2,1\n",
      "[[0. 0. 0. 0. 0.]\n",
      " [0. 0. 0. 0. 0.]\n",
      " [0. 2. 0. 0. 0.]\n",
      " [0. 1. 0. 0. 0.]\n",
      " [1. 2. 0. 0. 0.]]\n",
      "now is black turn\n",
      "your moves2,2\n",
      "[[0. 0. 0. 0. 0.]\n",
      " [0. 0. 0. 0. 0.]\n",
      " [0. 2. 1. 0. 0.]\n",
      " [0. 1. 0. 0. 0.]\n",
      " [1. 2. 0. 0. 0.]]\n",
      "now is white turn\n",
      "your moves2,3\n",
      "[[0. 0. 0. 0. 0.]\n",
      " [0. 0. 0. 0. 0.]\n",
      " [0. 2. 1. 2. 0.]\n",
      " [0. 1. 0. 0. 0.]\n",
      " [1. 2. 0. 0. 0.]]\n",
      "now is black turn\n",
      "your moves4,4\n",
      "[[0. 0. 0. 0. 1.]\n",
      " [0. 0. 0. 0. 0.]\n",
      " [0. 2. 1. 2. 0.]\n",
      " [0. 1. 0. 0. 0.]\n",
      " [1. 2. 0. 0. 0.]]\n",
      "now is white turn\n",
      "your moves2,4\n",
      "[[0. 0. 0. 0. 1.]\n",
      " [0. 0. 0. 0. 0.]\n",
      " [0. 2. 1. 2. 2.]\n",
      " [0. 1. 0. 0. 0.]\n",
      " [1. 2. 0. 0. 0.]]\n",
      "now is black turn\n",
      "your moves3,3\n",
      "[[0. 0. 0. 0. 1.]\n",
      " [0. 0. 0. 1. 0.]\n",
      " [0. 2. 1. 2. 2.]\n",
      " [0. 1. 0. 0. 0.]\n",
      " [1. 2. 0. 0. 0.]]\n",
      "now is white turn\n",
      "your moves4,2\n",
      "[[0. 0. 2. 0. 1.]\n",
      " [0. 0. 0. 1. 0.]\n",
      " [0. 2. 1. 2. 2.]\n",
      " [0. 1. 0. 0. 0.]\n",
      " [1. 2. 0. 0. 0.]]\n",
      "now is black turn\n",
      "your movesq\n"
     ]
    }
   ],
   "source": [
    "## 左下角為 (0,0)\n",
    "checkboard_size = 5\n",
    "cb = np.zeros([checkboard_size,checkboard_size])\n",
    "\n",
    "turn = 1\n",
    "steps = 0\n",
    "\n",
    "while True:\n",
    "    if turn == black_turn:\n",
    "        print(\"now is black turn\")\n",
    "    x = input(\"your moves\")\n",
    "    if x == \"q\":\n",
    "        break\n",
    "    x = x.split(\",\")\n",
    "    \n",
    "    while turn == black_turn :\n",
    "        step_r = int(x[0])\n",
    "        step_c = int(x[1])\n",
    "        \n",
    "        steps = cb[checkboard_size-1 - step_r, step_c]\n",
    "          \n",
    "        if steps == 0: ## place with no piece\n",
    "            cb[checkboard_size-1 - step_r, step_c] = black_step\n",
    "            turn = white_turn\n",
    "            print(cb)\n",
    "            break\n",
    "        else:\n",
    "            print(\"there is already a piece in the place, redetermine ur step\")\n",
    "            turn = black_turn\n",
    "            break\n",
    "    if win(checkboard_size,1):\n",
    "        break\n",
    "        \n",
    "    if turn == white_turn:\n",
    "        print(\"now is white turn\")\n",
    "        \n",
    "    x = input(\"your moves\")\n",
    "    if x == \"q\":\n",
    "        break\n",
    "    x = x.split(\",\")\n",
    "    \n",
    "    while turn == white_turn:\n",
    "        step_r = int(x[0])\n",
    "        step_c = int(x[1])\n",
    "        \n",
    "        steps = cb[checkboard_size-1 - step_r, step_c]\n",
    "        \n",
    "        if steps == 0: ## place with no piece\n",
    "            cb[checkboard_size-1 - step_r, step_c] = white_step\n",
    "            turn = black_turn\n",
    "            print(cb)\n",
    "            break\n",
    "        else:\n",
    "            print(\"there is already a piece in the place, redetermine ur step\")\n",
    "            turn = white_turn\n",
    "            break\n",
    "    if win(checkboard_size,2):\n",
    "        break\n",
    "        \n",
    "    \n",
    "    \n",
    "    \n",
    "    \n",
    "    \n",
    "    \n",
    "    "
   ]
  },
  {
   "cell_type": "code",
   "execution_count": 188,
   "metadata": {},
   "outputs": [
    {
     "data": {
      "text/plain": [
       "array([[2., 0., 0., 0., 1.],\n",
       "       [2., 0., 0., 1., 0.],\n",
       "       [2., 0., 1., 0., 0.],\n",
       "       [2., 1., 0., 0., 0.],\n",
       "       [1., 0., 0., 0., 0.]])"
      ]
     },
     "execution_count": 188,
     "metadata": {},
     "output_type": "execute_result"
    }
   ],
   "source": [
    "cb"
   ]
  },
  {
   "cell_type": "code",
   "execution_count": 198,
   "metadata": {},
   "outputs": [],
   "source": [
    "for i in range(checkboard_size):\n",
    "    for j in range(checkboard_size):\n",
    "\n",
    "        if i+1<checkboard_size and i+2<checkboard_size and i+3<checkboard_size and i+4<checkboard_size and j+1<checkboard_size and j+2<checkboard_size and j+3<checkboard_size and j+4<checkboard_size:\n",
    "            if cb[i,j] == cb[i+1,j+1] == cb[i+2,j+2] == cb[i+3,j+3] == cb[i+4,j+4] == turn:\n",
    "                print(\"gameover\")\n",
    "                break\n",
    "                \n",
    "for i in range(checkboard_size):\n",
    "    for j in range(checkboard_size):\n",
    "\n",
    "        if i+1<checkboard_size and i+2<checkboard_size and i+3<checkboard_size and i+4<checkboard_size and j+1<checkboard_size and j+2<checkboard_size and j+3<checkboard_size and j+4<checkboard_size:\n",
    "            if cb[4-i,j] == cb[4-i-1,j+1] == cb[4-i-2,j+2] == cb[4-i-3,j+3] == cb[4-i-4,j+4] == turn:\n",
    "                print(\"gameover\")\n",
    "                break"
   ]
  },
  {
   "cell_type": "code",
   "execution_count": 200,
   "metadata": {},
   "outputs": [
    {
     "data": {
      "text/plain": [
       "array([[1., 0., 0., 0., 1.],\n",
       "       [0., 1., 0., 1., 0.],\n",
       "       [0., 0., 1., 2., 0.],\n",
       "       [2., 2., 0., 1., 2.],\n",
       "       [2., 2., 0., 0., 1.]])"
      ]
     },
     "execution_count": 200,
     "metadata": {},
     "output_type": "execute_result"
    }
   ],
   "source": [
    "cb"
   ]
  },
  {
   "cell_type": "code",
   "execution_count": 208,
   "metadata": {},
   "outputs": [
    {
     "name": "stdout",
     "output_type": "stream",
     "text": [
      "pass\n",
      "gameover\n"
     ]
    }
   ],
   "source": [
    "for i in range(checkboard_size):\n",
    "    for j in range(checkboard_size):\n",
    "\n",
    "        if i+1<checkboard_size and i+2<checkboard_size and i+3<checkboard_size and i+4<checkboard_size and j+1<checkboard_size and j+2<checkboard_size and j+3<checkboard_size and j+4<checkboard_size:\n",
    "            print(\"pass\")\n",
    "            if cb[i,j] == cb[i+1,j+1] == cb[i+2,j+2] == cb[i+3,j+3] == cb[i+4,j+4] == turn:\n",
    "                print(\"gameover\")\n",
    "                break"
   ]
  },
  {
   "cell_type": "code",
   "execution_count": 205,
   "metadata": {},
   "outputs": [
    {
     "data": {
      "text/plain": [
       "1.0"
      ]
     },
     "execution_count": 205,
     "metadata": {},
     "output_type": "execute_result"
    }
   ],
   "source": [
    "cb[1,1]"
   ]
  },
  {
   "cell_type": "code",
   "execution_count": 207,
   "metadata": {},
   "outputs": [],
   "source": [
    "turn =1"
   ]
  },
  {
   "cell_type": "code",
   "execution_count": null,
   "metadata": {},
   "outputs": [],
   "source": []
  }
 ],
 "metadata": {
  "kernelspec": {
   "display_name": "Python 3",
   "language": "python",
   "name": "python3"
  },
  "language_info": {
   "codemirror_mode": {
    "name": "ipython",
    "version": 3
   },
   "file_extension": ".py",
   "mimetype": "text/x-python",
   "name": "python",
   "nbconvert_exporter": "python",
   "pygments_lexer": "ipython3",
   "version": "3.6.8"
  }
 },
 "nbformat": 4,
 "nbformat_minor": 2
}
