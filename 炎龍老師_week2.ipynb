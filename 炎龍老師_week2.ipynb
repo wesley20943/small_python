{
 "cells": [
  {
   "cell_type": "code",
   "execution_count": 2,
   "metadata": {},
   "outputs": [],
   "source": [
    "import numpy as np"
   ]
  },
  {
   "cell_type": "code",
   "execution_count": 3,
   "metadata": {},
   "outputs": [],
   "source": [
    "black_step = 1\n",
    "white_step = 2\n",
    "\n",
    "turn = 1\n",
    "black_turn = 1\n",
    "white_turn = 2    "
   ]
  },
  {
   "cell_type": "code",
   "execution_count": 6,
   "metadata": {},
   "outputs": [],
   "source": [
    "cb_size = 5\n",
    "\n",
    "cb = np.zeros([checkboard_size,checkboard_size])"
   ]
  },
  {
   "cell_type": "code",
   "execution_count": 5,
   "metadata": {},
   "outputs": [
    {
     "data": {
      "text/plain": [
       "array([[0., 0., 0., 0., 0.],\n",
       "       [0., 0., 0., 0., 0.],\n",
       "       [0., 0., 0., 0., 0.],\n",
       "       [0., 0., 0., 0., 0.],\n",
       "       [0., 0., 0., 0., 0.]])"
      ]
     },
     "execution_count": 5,
     "metadata": {},
     "output_type": "execute_result"
    }
   ],
   "source": [
    "cb"
   ]
  },
  {
   "cell_type": "code",
   "execution_count": 7,
   "metadata": {},
   "outputs": [],
   "source": [
    "for i in range(cb_size):\n",
    "    cb[i,i] = 1"
   ]
  },
  {
   "cell_type": "code",
   "execution_count": 8,
   "metadata": {},
   "outputs": [
    {
     "data": {
      "text/plain": [
       "array([[1., 0., 0., 0., 0.],\n",
       "       [0., 1., 0., 0., 0.],\n",
       "       [0., 0., 1., 0., 0.],\n",
       "       [0., 0., 0., 1., 0.],\n",
       "       [0., 0., 0., 0., 1.]])"
      ]
     },
     "execution_count": 8,
     "metadata": {},
     "output_type": "execute_result"
    }
   ],
   "source": [
    "cb"
   ]
  },
  {
   "cell_type": "code",
   "execution_count": 9,
   "metadata": {},
   "outputs": [],
   "source": [
    "for i in range(cb_size):\n",
    "    cb[i,0] = 1"
   ]
  },
  {
   "cell_type": "code",
   "execution_count": 10,
   "metadata": {},
   "outputs": [
    {
     "data": {
      "text/plain": [
       "array([[1., 0., 0., 0., 0.],\n",
       "       [1., 1., 0., 0., 0.],\n",
       "       [1., 0., 1., 0., 0.],\n",
       "       [1., 0., 0., 1., 0.],\n",
       "       [1., 0., 0., 0., 1.]])"
      ]
     },
     "execution_count": 10,
     "metadata": {},
     "output_type": "execute_result"
    }
   ],
   "source": [
    "cb"
   ]
  },
  {
   "cell_type": "code",
   "execution_count": 11,
   "metadata": {},
   "outputs": [],
   "source": [
    "for i in range(cb_size):\n",
    "    cb[0,i] = 1"
   ]
  },
  {
   "cell_type": "code",
   "execution_count": 12,
   "metadata": {},
   "outputs": [
    {
     "data": {
      "text/plain": [
       "array([[1., 1., 1., 1., 1.],\n",
       "       [1., 1., 0., 0., 0.],\n",
       "       [1., 0., 1., 0., 0.],\n",
       "       [1., 0., 0., 1., 0.],\n",
       "       [1., 0., 0., 0., 1.]])"
      ]
     },
     "execution_count": 12,
     "metadata": {},
     "output_type": "execute_result"
    }
   ],
   "source": [
    "cb"
   ]
  },
  {
   "cell_type": "code",
   "execution_count": 21,
   "metadata": {},
   "outputs": [
    {
     "name": "stdout",
     "output_type": "stream",
     "text": [
      "gameover\n"
     ]
    }
   ],
   "source": [
    "##判斷直\n",
    "ct = 0\n",
    "g = 1\n",
    "checkboard_size = 15\n",
    "for j in range(cb_size):\n",
    "    if g ==0:\n",
    "        break\n",
    "    for i in range(cb_size):\n",
    "        tmp = cb[i,j]\n",
    "        if tmp == turn:\n",
    "            ct+=1\n",
    "            if ct==5:\n",
    "                print(\"gameover\")\n",
    "                g =0\n",
    "                break\n",
    "            \n",
    "        else:\n",
    "            ct =0"
   ]
  },
  {
   "cell_type": "code",
   "execution_count": 30,
   "metadata": {},
   "outputs": [
    {
     "name": "stdout",
     "output_type": "stream",
     "text": [
      "gameover\n"
     ]
    }
   ],
   "source": [
    "##判斷橫            \n",
    "ct = 0\n",
    "g = 1\n",
    "for i in range(cb_size):\n",
    "    if g ==0:\n",
    "        break\n",
    "    for j in range(cb_size):\n",
    "        tmp = cb[i,j]\n",
    "        \n",
    "        if tmp == turn:\n",
    "            ct+=1\n",
    "            \n",
    "            if ct==5:\n",
    "                print(\"gameover\")\n",
    "                g = 0\n",
    "\n",
    "                break\n",
    "            \n",
    "        else:\n",
    "            ct =0\n",
    "            continue"
   ]
  },
  {
   "cell_type": "code",
   "execution_count": 85,
   "metadata": {},
   "outputs": [],
   "source": [
    "## 判斷斜線\n",
    "for i in range(cb_size):\n",
    "    for j in range(cb_size):\n",
    "        \n",
    "        if i+1<cb_size and i+2<cb_size and i+3<cb_size and i+4<cb_size:\n",
    "            if j+1<cb_size and j+2<cb_size and j+3<cb_size and j+4<cb_size:\n",
    "                if cb[i,j] == cb[i+1,j+1] == cb[i+2,j+2] == cb[i+3,j+3] == cb[i+4,j+4] == turn:\n",
    "                    print(\"gameover\")\n",
    "                    break\n",
    "            "
   ]
  },
  {
   "cell_type": "code",
   "execution_count": 87,
   "metadata": {},
   "outputs": [
    {
     "name": "stdout",
     "output_type": "stream",
     "text": [
      "gameover\n"
     ]
    }
   ],
   "source": [
    "## 判斷斜線\n",
    "for i in range(cb_size):\n",
    "    for j in range(cb_size):\n",
    "        \n",
    "        if i-1>0 and i-2>0 and i-3>0 :\n",
    "            if j+1 <cb_size and j+2<cb_size and j+3<cb_size and j+4<cb_size:\n",
    "                if cb[i,j] == cb[i-1,j+1] == cb[i-2,j+2] == cb[i-3,j+3] == cb[i-4,j+4] == turn:\n",
    "                    print(\"gameover\")\n",
    "                    break"
   ]
  },
  {
   "cell_type": "code",
   "execution_count": 86,
   "metadata": {},
   "outputs": [
    {
     "data": {
      "text/plain": [
       "array([[0., 0., 0., 0., 1.],\n",
       "       [0., 0., 0., 1., 2.],\n",
       "       [0., 2., 1., 2., 2.],\n",
       "       [0., 1., 2., 0., 0.],\n",
       "       [1., 0., 0., 0., 0.]])"
      ]
     },
     "execution_count": 86,
     "metadata": {},
     "output_type": "execute_result"
    }
   ],
   "source": [
    "cb"
   ]
  },
  {
   "cell_type": "code",
   "execution_count": null,
   "metadata": {},
   "outputs": [],
   "source": []
  },
  {
   "cell_type": "code",
   "execution_count": 88,
   "metadata": {},
   "outputs": [],
   "source": [
    "def gameover():\n",
    "    ## 判斷斜線\n",
    "    for i in range(cb_size):\n",
    "        for j in range(cb_size):\n",
    "\n",
    "            if i+1<cb_size and i+2<cb_size and i+3<cb_size and i+4<cb_size:\n",
    "                if j+1<cb_size and j+2<cb_size and j+3<cb_size and j+4<cb_size:\n",
    "                    if cb[i,j] == cb[i+1,j+1] == cb[i+2,j+2] == cb[i+3,j+3] == cb[i+4,j+4] == turn:\n",
    "                        print(\"gameover\")\n",
    "                        return True \n",
    "        ## 判斷斜線\n",
    "    for i in range(cb_size):\n",
    "        for j in range(cb_size):\n",
    "\n",
    "            if i-1>0 and i-2>0 and i-3>0 :\n",
    "                if j+1 <cb_size and j+2<cb_size and j+3<cb_size and j+4<cb_size:\n",
    "                    if cb[i,j] == cb[i-1,j+1] == cb[i-2,j+2] == cb[i-3,j+3] == cb[i-4,j+4] == turn:\n",
    "                        print(\"gameover\")\n",
    "                        return True\n",
    "    ##判斷橫            \n",
    "    ct = 0\n",
    "    g = 1\n",
    "    \n",
    "    for i in range(cb_size):\n",
    "        if g ==0:\n",
    "            break\n",
    "        for j in range(cb_size):\n",
    "            tmp = cb[i,j]\n",
    "\n",
    "            if tmp == turn:\n",
    "                ct+=1\n",
    "\n",
    "                if ct==5:\n",
    "                    print(\"gameover\")\n",
    "                    g = 0\n",
    "                    return True\n",
    "\n",
    "            else:\n",
    "                ct =0\n",
    "                continue\n",
    "            \n",
    "    ##判斷直\n",
    "    ct = 0\n",
    "    g = 1\n",
    "    checkboard_size = 15\n",
    "    for j in range(cb_size):\n",
    "        if g ==0:\n",
    "            break\n",
    "        for i in range(cb_size):\n",
    "            tmp = cb[i,j]\n",
    "            if tmp == turn:\n",
    "                ct+=1\n",
    "                if ct==5:\n",
    "                    print(\"gameover\")\n",
    "                    g =0\n",
    "                    return True\n",
    "\n",
    "            else:\n",
    "                ct =0\n",
    "    \n",
    "    \n",
    "    return False"
   ]
  },
  {
   "cell_type": "code",
   "execution_count": 89,
   "metadata": {},
   "outputs": [
    {
     "name": "stdout",
     "output_type": "stream",
     "text": [
      "gameover\n"
     ]
    },
    {
     "data": {
      "text/plain": [
       "True"
      ]
     },
     "execution_count": 89,
     "metadata": {},
     "output_type": "execute_result"
    }
   ],
   "source": [
    "gameover()"
   ]
  },
  {
   "cell_type": "code",
   "execution_count": 90,
   "metadata": {},
   "outputs": [],
   "source": [
    "def play():\n",
    "    turn = 1\n",
    "    steps = 0\n",
    "    global cb \n",
    "    cb = np.zeros([cb_size,cb_size])\n",
    "    while True:\n",
    "        \n",
    "        ## black\n",
    "        if turn == black_turn:\n",
    "            print(\"now is black turn\")\n",
    "        x = input(\"your moves\")\n",
    "        if x == \"q\":\n",
    "            break\n",
    "        x = x.split(\",\")\n",
    "\n",
    "        while turn == black_turn :\n",
    "            step_r = int(x[1])\n",
    "            step_c = int(x[0])\n",
    "\n",
    "            steps = cb[cb_size-1 - step_r, step_c]\n",
    "\n",
    "            if steps == 0: ## place with no piece\n",
    "                cb[cb_size-1 - step_r, step_c] = black_step\n",
    "                turn = white_turn\n",
    "                print(cb)\n",
    "                break\n",
    "            else:\n",
    "                print(\"there is already a piece in the place, redetermine ur step\")\n",
    "                turn = black_turn\n",
    "                break\n",
    "        if gameover():\n",
    "            break\n",
    "#########################################################################\n",
    "        \n",
    "        ##white\n",
    "        if turn == white_turn:\n",
    "            print(\"now is white turn\")\n",
    "\n",
    "        x = input(\"your moves\")\n",
    "        if x == \"q\":\n",
    "            break\n",
    "        x = x.split(\",\")\n",
    "\n",
    "        while turn == white_turn:\n",
    "            step_r = int(x[1])\n",
    "            step_c = int(x[0])\n",
    "\n",
    "            steps = cb[cb_size-1 - step_r, step_c]\n",
    "\n",
    "            if steps == 0: ## place with no piece\n",
    "                cb[cb_size-1 - step_r, step_c] = white_step\n",
    "                turn = black_turn\n",
    "                print(cb)\n",
    "                break\n",
    "            else:\n",
    "                print(\"there is already a piece in the place, redetermine ur step\")\n",
    "                turn = white_turn\n",
    "                break\n",
    "        if gameover():\n",
    "            break\n"
   ]
  },
  {
   "cell_type": "code",
   "execution_count": 91,
   "metadata": {},
   "outputs": [
    {
     "name": "stdout",
     "output_type": "stream",
     "text": [
      "now is black turn\n",
      "your moves0,0\n",
      "[[0. 0. 0. 0. 0.]\n",
      " [0. 0. 0. 0. 0.]\n",
      " [0. 0. 0. 0. 0.]\n",
      " [0. 0. 0. 0. 0.]\n",
      " [1. 0. 0. 0. 0.]]\n",
      "now is white turn\n",
      "your moves1,0\n",
      "[[0. 0. 0. 0. 0.]\n",
      " [0. 0. 0. 0. 0.]\n",
      " [0. 0. 0. 0. 0.]\n",
      " [0. 0. 0. 0. 0.]\n",
      " [1. 2. 0. 0. 0.]]\n",
      "now is black turn\n",
      "your moves1,1\n",
      "[[0. 0. 0. 0. 0.]\n",
      " [0. 0. 0. 0. 0.]\n",
      " [0. 0. 0. 0. 0.]\n",
      " [0. 1. 0. 0. 0.]\n",
      " [1. 2. 0. 0. 0.]]\n",
      "now is white turn\n",
      "your moves2,0\n",
      "[[0. 0. 0. 0. 0.]\n",
      " [0. 0. 0. 0. 0.]\n",
      " [0. 0. 0. 0. 0.]\n",
      " [0. 1. 0. 0. 0.]\n",
      " [1. 2. 2. 0. 0.]]\n",
      "now is black turn\n",
      "your moves2,2\n",
      "[[0. 0. 0. 0. 0.]\n",
      " [0. 0. 0. 0. 0.]\n",
      " [0. 0. 1. 0. 0.]\n",
      " [0. 1. 0. 0. 0.]\n",
      " [1. 2. 2. 0. 0.]]\n",
      "now is white turn\n",
      "your moves3,0\n",
      "[[0. 0. 0. 0. 0.]\n",
      " [0. 0. 0. 0. 0.]\n",
      " [0. 0. 1. 0. 0.]\n",
      " [0. 1. 0. 0. 0.]\n",
      " [1. 2. 2. 2. 0.]]\n",
      "now is black turn\n",
      "your moves3,3\n",
      "[[0. 0. 0. 0. 0.]\n",
      " [0. 0. 0. 1. 0.]\n",
      " [0. 0. 1. 0. 0.]\n",
      " [0. 1. 0. 0. 0.]\n",
      " [1. 2. 2. 2. 0.]]\n",
      "now is white turn\n",
      "your moves4,0\n",
      "[[0. 0. 0. 0. 0.]\n",
      " [0. 0. 0. 1. 0.]\n",
      " [0. 0. 1. 0. 0.]\n",
      " [0. 1. 0. 0. 0.]\n",
      " [1. 2. 2. 2. 2.]]\n",
      "now is black turn\n",
      "your moves4,4\n",
      "[[0. 0. 0. 0. 1.]\n",
      " [0. 0. 0. 1. 0.]\n",
      " [0. 0. 1. 0. 0.]\n",
      " [0. 1. 0. 0. 0.]\n",
      " [1. 2. 2. 2. 2.]]\n",
      "gameover\n"
     ]
    }
   ],
   "source": [
    "play()"
   ]
  },
  {
   "cell_type": "code",
   "execution_count": 60,
   "metadata": {},
   "outputs": [
    {
     "data": {
      "text/plain": [
       "1"
      ]
     },
     "execution_count": 60,
     "metadata": {},
     "output_type": "execute_result"
    }
   ],
   "source": [
    "turn"
   ]
  },
  {
   "cell_type": "code",
   "execution_count": 69,
   "metadata": {},
   "outputs": [
    {
     "data": {
      "text/plain": [
       "array([[0., 0., 0., 0., 1.],\n",
       "       [0., 0., 0., 1., 0.],\n",
       "       [0., 0., 1., 0., 0.],\n",
       "       [0., 1., 2., 2., 0.],\n",
       "       [1., 0., 2., 2., 0.]])"
      ]
     },
     "execution_count": 69,
     "metadata": {},
     "output_type": "execute_result"
    }
   ],
   "source": [
    "cb"
   ]
  },
  {
   "cell_type": "code",
   "execution_count": 70,
   "metadata": {},
   "outputs": [
    {
     "data": {
      "text/plain": [
       "False"
      ]
     },
     "execution_count": 70,
     "metadata": {},
     "output_type": "execute_result"
    }
   ],
   "source": [
    "gameover()"
   ]
  },
  {
   "cell_type": "code",
   "execution_count": null,
   "metadata": {},
   "outputs": [],
   "source": []
  }
 ],
 "metadata": {
  "kernelspec": {
   "display_name": "Python 3",
   "language": "python",
   "name": "python3"
  },
  "language_info": {
   "codemirror_mode": {
    "name": "ipython",
    "version": 3
   },
   "file_extension": ".py",
   "mimetype": "text/x-python",
   "name": "python",
   "nbconvert_exporter": "python",
   "pygments_lexer": "ipython3",
   "version": "3.6.8"
  }
 },
 "nbformat": 4,
 "nbformat_minor": 2
}
