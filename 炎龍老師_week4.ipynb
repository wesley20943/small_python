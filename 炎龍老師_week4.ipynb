{
  "nbformat": 4,
  "nbformat_minor": 0,
  "metadata": {
    "colab": {
      "name": "炎龍老師week4.ipynb",
      "provenance": [],
      "collapsed_sections": []
    },
    "kernelspec": {
      "name": "python3",
      "display_name": "Python 3"
    }
  },
  "cells": [
    {
      "cell_type": "code",
      "metadata": {
        "id": "nqiJZlM6Jrfz",
        "colab_type": "code",
        "colab": {}
      },
      "source": [
        "import tensorflow as tf\n",
        "import numpy as np\n",
        "import matplotlib.pyplot as plt\n"
      ],
      "execution_count": 0,
      "outputs": []
    },
    {
      "cell_type": "code",
      "metadata": {
        "id": "vgjjwh0mJsy0",
        "colab_type": "code",
        "colab": {}
      },
      "source": [
        "from tensorflow.keras.datasets import fashion_mnist"
      ],
      "execution_count": 0,
      "outputs": []
    },
    {
      "cell_type": "code",
      "metadata": {
        "id": "WRdBmPAyJzXj",
        "colab_type": "code",
        "colab": {
          "base_uri": "https://localhost:8080/",
          "height": 153
        },
        "outputId": "bcfd6871-8fd7-4016-b054-687c8519f4ec"
      },
      "source": [
        "(x_train_o, y_train_o), (x_test_o, y_test_o) = fashion_mnist.load_data()"
      ],
      "execution_count": 3,
      "outputs": [
        {
          "output_type": "stream",
          "text": [
            "Downloading data from https://storage.googleapis.com/tensorflow/tf-keras-datasets/train-labels-idx1-ubyte.gz\n",
            "32768/29515 [=================================] - 0s 0us/step\n",
            "Downloading data from https://storage.googleapis.com/tensorflow/tf-keras-datasets/train-images-idx3-ubyte.gz\n",
            "26427392/26421880 [==============================] - 0s 0us/step\n",
            "Downloading data from https://storage.googleapis.com/tensorflow/tf-keras-datasets/t10k-labels-idx1-ubyte.gz\n",
            "8192/5148 [===============================================] - 0s 0us/step\n",
            "Downloading data from https://storage.googleapis.com/tensorflow/tf-keras-datasets/t10k-images-idx3-ubyte.gz\n",
            "4423680/4422102 [==============================] - 0s 0us/step\n"
          ],
          "name": "stdout"
        }
      ]
    },
    {
      "cell_type": "code",
      "metadata": {
        "id": "sk9fb4pLJ1aC",
        "colab_type": "code",
        "colab": {
          "base_uri": "https://localhost:8080/",
          "height": 34
        },
        "outputId": "91b6e103-ff8e-4c10-f8aa-f993b337395b"
      },
      "source": [
        "len(x_train_o), len(x_test_o)"
      ],
      "execution_count": 5,
      "outputs": [
        {
          "output_type": "execute_result",
          "data": {
            "text/plain": [
              "(60000, 10000)"
            ]
          },
          "metadata": {
            "tags": []
          },
          "execution_count": 5
        }
      ]
    },
    {
      "cell_type": "code",
      "metadata": {
        "id": "u3E4hE1CLeeX",
        "colab_type": "code",
        "colab": {}
      },
      "source": [
        "class_names = ['T-shirt/top', 'Trouser', 'Pullover', 'Dress', 'Coat',\n",
        "               'Sandal', 'Shirt', 'Sneaker', 'Bag', 'Ankle boot']"
      ],
      "execution_count": 0,
      "outputs": []
    },
    {
      "cell_type": "code",
      "metadata": {
        "id": "iLOUzr_2KeIL",
        "colab_type": "code",
        "colab": {
          "base_uri": "https://localhost:8080/",
          "height": 282
        },
        "outputId": "d4e5dc06-1686-4757-b625-2c939b9286fa"
      },
      "source": [
        "plt.imshow(x_train_o[0], cmap=\"Greys\")"
      ],
      "execution_count": 13,
      "outputs": [
        {
          "output_type": "execute_result",
          "data": {
            "text/plain": [
              "<matplotlib.image.AxesImage at 0x7fb485ffc6d8>"
            ]
          },
          "metadata": {
            "tags": []
          },
          "execution_count": 13
        },
        {
          "output_type": "display_data",
          "data": {
            "image/png": "[encoded data removed]",
            "text/plain": [
              "<Figure size 432x288 with 1 Axes>"
            ]
          },
          "metadata": {
            "tags": []
          }
        }
      ]
    },
    {
      "cell_type": "code",
      "metadata": {
        "id": "AtpSl1NNKepz",
        "colab_type": "code",
        "colab": {
          "base_uri": "https://localhost:8080/",
          "height": 34
        },
        "outputId": "9ada0c9b-c572-404d-e23f-a17488898e06"
      },
      "source": [
        "class_names[y_train_o[0]]"
      ],
      "execution_count": 17,
      "outputs": [
        {
          "output_type": "execute_result",
          "data": {
            "text/plain": [
              "'Ankle boot'"
            ]
          },
          "metadata": {
            "tags": []
          },
          "execution_count": 17
        }
      ]
    },
    {
      "cell_type": "code",
      "metadata": {
        "id": "fIQuX6OdKfBT",
        "colab_type": "code",
        "colab": {}
      },
      "source": [
        "y_train = tf.keras.utils.to_categorical(y_train_o)"
      ],
      "execution_count": 0,
      "outputs": []
    },
    {
      "cell_type": "code",
      "metadata": {
        "id": "5_dXkISsL_tT",
        "colab_type": "code",
        "colab": {}
      },
      "source": [
        "y_test = tf.keras.utils.to_categorical(y_test_o)"
      ],
      "execution_count": 0,
      "outputs": []
    },
    {
      "cell_type": "code",
      "metadata": {
        "id": "Xdncnk21Mqbc",
        "colab_type": "code",
        "colab": {
          "base_uri": "https://localhost:8080/",
          "height": 34
        },
        "outputId": "b86f70cd-c5e3-4776-c792-09d729106d89"
      },
      "source": [
        "x_train_o.shape"
      ],
      "execution_count": 26,
      "outputs": [
        {
          "output_type": "execute_result",
          "data": {
            "text/plain": [
              "(60000, 28, 28)"
            ]
          },
          "metadata": {
            "tags": []
          },
          "execution_count": 26
        }
      ]
    },
    {
      "cell_type": "code",
      "metadata": {
        "id": "rgR4WN38MD5W",
        "colab_type": "code",
        "colab": {
          "base_uri": "https://localhost:8080/",
          "height": 85
        },
        "outputId": "5d350f64-df35-4535-93f4-af2d452fcb6d"
      },
      "source": [
        "numbers = 1\n",
        "for i in range(3):\n",
        "  tmp = x_train_o.shape[i]\n",
        "  print(tmp)\n",
        "  numbers *= tmp\n",
        "print(numbers)"
      ],
      "execution_count": 37,
      "outputs": [
        {
          "output_type": "stream",
          "text": [
            "60000\n",
            "28\n",
            "28\n",
            "47040000\n"
          ],
          "name": "stdout"
        }
      ]
    },
    {
      "cell_type": "code",
      "metadata": {
        "id": "Z_o_MSfEMEMp",
        "colab_type": "code",
        "colab": {}
      },
      "source": [
        "x_train_o_avg = x_train_o.sum()/numbers"
      ],
      "execution_count": 0,
      "outputs": []
    },
    {
      "cell_type": "code",
      "metadata": {
        "id": "wvLV7dRlN0PZ",
        "colab_type": "code",
        "colab": {}
      },
      "source": [
        "x_train_o_std = x_train_o.reshape(numbers,).std()"
      ],
      "execution_count": 0,
      "outputs": []
    },
    {
      "cell_type": "code",
      "metadata": {
        "id": "5O0B1J1sOFUZ",
        "colab_type": "code",
        "colab": {}
      },
      "source": [
        "x_train = (x_train_o - x_train_o_avg)/x_train_o_std"
      ],
      "execution_count": 0,
      "outputs": []
    },
    {
      "cell_type": "code",
      "metadata": {
        "id": "G9-toYzsOFwA",
        "colab_type": "code",
        "colab": {
          "base_uri": "https://localhost:8080/",
          "height": 85
        },
        "outputId": "2b8b4017-f2cd-4c90-e04b-0de8848e8263"
      },
      "source": [
        "numbers_t = 1\n",
        "for i in range(3):\n",
        "  tmp = x_test_o.shape[i]\n",
        "  print(tmp)\n",
        "  numbers_t *= tmp\n",
        "print(numbers_t)\n",
        "\n",
        "x_test_o_avg = x_test_o.sum()/numbers_t\n",
        "x_test_o_std = x_test_o.reshape(numbers_t,).std()\n",
        "x_test = (x_test_o - x_test_o_avg)/x_test_o_std"
      ],
      "execution_count": 45,
      "outputs": [
        {
          "output_type": "stream",
          "text": [
            "10000\n",
            "28\n",
            "28\n",
            "7840000\n"
          ],
          "name": "stdout"
        }
      ]
    },
    {
      "cell_type": "code",
      "metadata": {
        "id": "-kpOQjdDQZPc",
        "colab_type": "code",
        "colab": {
          "base_uri": "https://localhost:8080/",
          "height": 34
        },
        "outputId": "bfc02561-7fcb-4a0d-ca3c-7f6fc9cd8ea1"
      },
      "source": [
        "x_train.shape"
      ],
      "execution_count": 47,
      "outputs": [
        {
          "output_type": "execute_result",
          "data": {
            "text/plain": [
              "(60000, 28, 28)"
            ]
          },
          "metadata": {
            "tags": []
          },
          "execution_count": 47
        }
      ]
    },
    {
      "cell_type": "code",
      "metadata": {
        "id": "woS1BiLMQbiW",
        "colab_type": "code",
        "colab": {}
      },
      "source": [
        "x_train = x_train.reshape(60000,784)\n",
        "x_test = x_test.reshape(10000,784)"
      ],
      "execution_count": 0,
      "outputs": []
    },
    {
      "cell_type": "code",
      "metadata": {
        "id": "kmOi85aYKFXu",
        "colab_type": "code",
        "colab": {}
      },
      "source": [
        "model = tf.keras.Sequential()"
      ],
      "execution_count": 0,
      "outputs": []
    },
    {
      "cell_type": "code",
      "metadata": {
        "id": "fncd1QUhKcC0",
        "colab_type": "code",
        "colab": {}
      },
      "source": [
        "model.add(tf.keras.layers.Dense(256,input_dim = 784,activation = tf.keras.layers.LeakyReLU(alpha=0.3) ))"
      ],
      "execution_count": 0,
      "outputs": []
    },
    {
      "cell_type": "code",
      "metadata": {
        "id": "s8Ala_y-Qvk0",
        "colab_type": "code",
        "colab": {}
      },
      "source": [
        "model.add(tf.keras.layers.BatchNormalization())"
      ],
      "execution_count": 0,
      "outputs": []
    },
    {
      "cell_type": "code",
      "metadata": {
        "id": "5I4aKh29R-8W",
        "colab_type": "code",
        "colab": {
          "base_uri": "https://localhost:8080/",
          "height": 221
        },
        "outputId": "b11f3097-6869-4fc8-89ac-95d497b22357"
      },
      "source": [
        "model.summary()"
      ],
      "execution_count": 104,
      "outputs": [
        {
          "output_type": "stream",
          "text": [
            "Model: \"sequential_5\"\n",
            "_________________________________________________________________\n",
            "Layer (type)                 Output Shape              Param #   \n",
            "=================================================================\n",
            "dense_18 (Dense)             (None, 256)               200960    \n",
            "_________________________________________________________________\n",
            "batch_normalization_14 (Batc (None, 256)               1024      \n",
            "=================================================================\n",
            "Total params: 201,984\n",
            "Trainable params: 201,472\n",
            "Non-trainable params: 512\n",
            "_________________________________________________________________\n"
          ],
          "name": "stdout"
        }
      ]
    },
    {
      "cell_type": "code",
      "metadata": {
        "id": "uefxrm02W6hE",
        "colab_type": "code",
        "colab": {}
      },
      "source": [
        "model.add(tf.keras.layers.Dropout(rate = 0.5))"
      ],
      "execution_count": 0,
      "outputs": []
    },
    {
      "cell_type": "code",
      "metadata": {
        "id": "_yRkTYbBXJru",
        "colab_type": "code",
        "colab": {
          "base_uri": "https://localhost:8080/",
          "height": 255
        },
        "outputId": "026b1a0e-256f-4073-9b45-83df877e7650"
      },
      "source": [
        "model.summary()"
      ],
      "execution_count": 106,
      "outputs": [
        {
          "output_type": "stream",
          "text": [
            "Model: \"sequential_5\"\n",
            "_________________________________________________________________\n",
            "Layer (type)                 Output Shape              Param #   \n",
            "=================================================================\n",
            "dense_18 (Dense)             (None, 256)               200960    \n",
            "_________________________________________________________________\n",
            "batch_normalization_14 (Batc (None, 256)               1024      \n",
            "_________________________________________________________________\n",
            "dropout_9 (Dropout)          (None, 256)               0         \n",
            "=================================================================\n",
            "Total params: 201,984\n",
            "Trainable params: 201,472\n",
            "Non-trainable params: 512\n",
            "_________________________________________________________________\n"
          ],
          "name": "stdout"
        }
      ]
    },
    {
      "cell_type": "code",
      "metadata": {
        "id": "tjzgmQ6jSGCx",
        "colab_type": "code",
        "colab": {}
      },
      "source": [
        "model.add(tf.keras.layers.Dense(128,activation = tf.keras.layers.LeakyReLU(alpha=0.3) ))\n",
        "model.add(tf.keras.layers.BatchNormalization())\n",
        "model.add(tf.keras.layers.Dropout(rate = 0.4))\n",
        "model.add(tf.keras.layers.Dense(64,activation = tf.keras.layers.LeakyReLU(alpha=0.2) ))\n",
        "model.add(tf.keras.layers.BatchNormalization())\n",
        "model.add(tf.keras.layers.Dropout(rate = 0.3))\n",
        "model.add(tf.keras.layers.Dense(32,activation = tf.keras.layers.LeakyReLU(alpha=0.1) ))\n",
        "model.add(tf.keras.layers.BatchNormalization())\n",
        "model.add(tf.keras.layers.Dropout(rate = 0.2))\n",
        "\n",
        "model.add(tf.keras.layers.Dense(10,activation = \"softmax\" ))"
      ],
      "execution_count": 0,
      "outputs": []
    },
    {
      "cell_type": "code",
      "metadata": {
        "id": "WfeEVBntTGdx",
        "colab_type": "code",
        "colab": {
          "base_uri": "https://localhost:8080/",
          "height": 595
        },
        "outputId": "3b8e57da-3fb6-4aac-a4e4-ea344038085f"
      },
      "source": [
        "model.summary()"
      ],
      "execution_count": 108,
      "outputs": [
        {
          "output_type": "stream",
          "text": [
            "Model: \"sequential_5\"\n",
            "_________________________________________________________________\n",
            "Layer (type)                 Output Shape              Param #   \n",
            "=================================================================\n",
            "dense_18 (Dense)             (None, 256)               200960    \n",
            "_________________________________________________________________\n",
            "batch_normalization_14 (Batc (None, 256)               1024      \n",
            "_________________________________________________________________\n",
            "dropout_9 (Dropout)          (None, 256)               0         \n",
            "_________________________________________________________________\n",
            "dense_19 (Dense)             (None, 128)               32896     \n",
            "_________________________________________________________________\n",
            "batch_normalization_15 (Batc (None, 128)               512       \n",
            "_________________________________________________________________\n",
            "dropout_10 (Dropout)         (None, 128)               0         \n",
            "_________________________________________________________________\n",
            "dense_20 (Dense)             (None, 64)                8256      \n",
            "_________________________________________________________________\n",
            "batch_normalization_16 (Batc (None, 64)                256       \n",
            "_________________________________________________________________\n",
            "dropout_11 (Dropout)         (None, 64)                0         \n",
            "_________________________________________________________________\n",
            "dense_21 (Dense)             (None, 32)                2080      \n",
            "_________________________________________________________________\n",
            "batch_normalization_17 (Batc (None, 32)                128       \n",
            "_________________________________________________________________\n",
            "dropout_12 (Dropout)         (None, 32)                0         \n",
            "_________________________________________________________________\n",
            "dense_22 (Dense)             (None, 10)                330       \n",
            "=================================================================\n",
            "Total params: 246,442\n",
            "Trainable params: 245,482\n",
            "Non-trainable params: 960\n",
            "_________________________________________________________________\n"
          ],
          "name": "stdout"
        }
      ]
    },
    {
      "cell_type": "code",
      "metadata": {
        "id": "cx-gJIe5TH1b",
        "colab_type": "code",
        "colab": {}
      },
      "source": [
        "model.compile(loss = tf.keras.losses.CategoricalCrossentropy(), optimizer = tf.keras.optimizers.Adam(learning_rate=0.01), metrics=[\"accuracy\"])"
      ],
      "execution_count": 0,
      "outputs": []
    },
    {
      "cell_type": "code",
      "metadata": {
        "id": "32_BN8DZTvNU",
        "colab_type": "code",
        "colab": {
          "base_uri": "https://localhost:8080/",
          "height": 595
        },
        "outputId": "2c841d5b-5bf1-4f79-f0c1-da862c672832"
      },
      "source": [
        "model.summary()"
      ],
      "execution_count": 110,
      "outputs": [
        {
          "output_type": "stream",
          "text": [
            "Model: \"sequential_5\"\n",
            "_________________________________________________________________\n",
            "Layer (type)                 Output Shape              Param #   \n",
            "=================================================================\n",
            "dense_18 (Dense)             (None, 256)               200960    \n",
            "_________________________________________________________________\n",
            "batch_normalization_14 (Batc (None, 256)               1024      \n",
            "_________________________________________________________________\n",
            "dropout_9 (Dropout)          (None, 256)               0         \n",
            "_________________________________________________________________\n",
            "dense_19 (Dense)             (None, 128)               32896     \n",
            "_________________________________________________________________\n",
            "batch_normalization_15 (Batc (None, 128)               512       \n",
            "_________________________________________________________________\n",
            "dropout_10 (Dropout)         (None, 128)               0         \n",
            "_________________________________________________________________\n",
            "dense_20 (Dense)             (None, 64)                8256      \n",
            "_________________________________________________________________\n",
            "batch_normalization_16 (Batc (None, 64)                256       \n",
            "_________________________________________________________________\n",
            "dropout_11 (Dropout)         (None, 64)                0         \n",
            "_________________________________________________________________\n",
            "dense_21 (Dense)             (None, 32)                2080      \n",
            "_________________________________________________________________\n",
            "batch_normalization_17 (Batc (None, 32)                128       \n",
            "_________________________________________________________________\n",
            "dropout_12 (Dropout)         (None, 32)                0         \n",
            "_________________________________________________________________\n",
            "dense_22 (Dense)             (None, 10)                330       \n",
            "=================================================================\n",
            "Total params: 246,442\n",
            "Trainable params: 245,482\n",
            "Non-trainable params: 960\n",
            "_________________________________________________________________\n"
          ],
          "name": "stdout"
        }
      ]
    },
    {
      "cell_type": "code",
      "metadata": {
        "id": "sRtyAChvTwmr",
        "colab_type": "code",
        "colab": {
          "base_uri": "https://localhost:8080/",
          "height": 697
        },
        "outputId": "17ac7d66-9661-49e5-cb6b-402b64b12518"
      },
      "source": [
        "history = model.fit(x_train, y_train, batch_size = 50, epochs= 20)"
      ],
      "execution_count": 116,
      "outputs": [
        {
          "output_type": "stream",
          "text": [
            "Epoch 1/20\n",
            "1200/1200 [==============================] - 6s 5ms/step - loss: 0.3571 - accuracy: 0.8744\n",
            "Epoch 2/20\n",
            "1200/1200 [==============================] - 6s 5ms/step - loss: 0.3465 - accuracy: 0.8770\n",
            "Epoch 3/20\n",
            "1200/1200 [==============================] - 6s 5ms/step - loss: 0.3490 - accuracy: 0.8767\n",
            "Epoch 4/20\n",
            "1200/1200 [==============================] - 6s 5ms/step - loss: 0.3457 - accuracy: 0.8790\n",
            "Epoch 5/20\n",
            "1200/1200 [==============================] - 6s 5ms/step - loss: 0.3417 - accuracy: 0.8800\n",
            "Epoch 6/20\n",
            "1200/1200 [==============================] - 6s 5ms/step - loss: 0.3502 - accuracy: 0.8764\n",
            "Epoch 7/20\n",
            "1200/1200 [==============================] - 6s 5ms/step - loss: 0.3453 - accuracy: 0.8784\n",
            "Epoch 8/20\n",
            "1200/1200 [==============================] - 6s 5ms/step - loss: 0.3430 - accuracy: 0.8802\n",
            "Epoch 9/20\n",
            "1200/1200 [==============================] - 6s 5ms/step - loss: 0.3426 - accuracy: 0.8791\n",
            "Epoch 10/20\n",
            "1200/1200 [==============================] - 6s 5ms/step - loss: 0.3438 - accuracy: 0.8799\n",
            "Epoch 11/20\n",
            "1200/1200 [==============================] - 6s 5ms/step - loss: 0.3398 - accuracy: 0.8810\n",
            "Epoch 12/20\n",
            "1200/1200 [==============================] - 6s 5ms/step - loss: 0.3398 - accuracy: 0.8796\n",
            "Epoch 13/20\n",
            "1200/1200 [==============================] - 6s 5ms/step - loss: 0.3427 - accuracy: 0.8795\n",
            "Epoch 14/20\n",
            "1200/1200 [==============================] - 6s 5ms/step - loss: 0.3413 - accuracy: 0.8794\n",
            "Epoch 15/20\n",
            "1200/1200 [==============================] - 6s 5ms/step - loss: 0.3384 - accuracy: 0.8809\n",
            "Epoch 16/20\n",
            "1200/1200 [==============================] - 6s 5ms/step - loss: 0.3418 - accuracy: 0.8806\n",
            "Epoch 17/20\n",
            "1200/1200 [==============================] - 6s 5ms/step - loss: 0.3396 - accuracy: 0.8811\n",
            "Epoch 18/20\n",
            "1200/1200 [==============================] - 6s 5ms/step - loss: 0.3374 - accuracy: 0.8818\n",
            "Epoch 19/20\n",
            "1200/1200 [==============================] - 6s 5ms/step - loss: 0.3372 - accuracy: 0.8816\n",
            "Epoch 20/20\n",
            "1200/1200 [==============================] - 6s 5ms/step - loss: 0.3385 - accuracy: 0.8813\n"
          ],
          "name": "stdout"
        }
      ]
    },
    {
      "cell_type": "code",
      "metadata": {
        "id": "XxrvNC0GUDnt",
        "colab_type": "code",
        "colab": {
          "base_uri": "https://localhost:8080/",
          "height": 34
        },
        "outputId": "bb5b1295-1664-4831-86f0-8abd62b7456b"
      },
      "source": [
        "loss, score = model.evaluate(x_test,y_test)"
      ],
      "execution_count": 117,
      "outputs": [
        {
          "output_type": "stream",
          "text": [
            "313/313 [==============================] - 0s 2ms/step - loss: 0.3356 - accuracy: 0.8845\n"
          ],
          "name": "stdout"
        }
      ]
    },
    {
      "cell_type": "code",
      "metadata": {
        "id": "xeoLjmY_V18d",
        "colab_type": "code",
        "colab": {}
      },
      "source": [
        "## batch_size 300->200->50"
      ],
      "execution_count": 0,
      "outputs": []
    }
  ]
}